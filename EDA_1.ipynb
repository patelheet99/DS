{
 "cells": [
  {
   "cell_type": "markdown",
   "metadata": {
    "id": "txCIAUInHiJa"
   },
   "source": [
    "# Exploratory Data Analysis"
   ]
  },
  {
   "cell_type": "code",
   "execution_count": 2,
   "metadata": {
    "id": "noPs9rVkHiJe"
   },
   "outputs": [
    {
     "name": "stdout",
     "output_type": "stream",
     "text": [
      "Collecting pandas_profiling==2.7.1\n",
      "  Downloading pandas_profiling-2.7.1-py2.py3-none-any.whl (252 kB)\n",
      "Requirement already satisfied: ipywidgets>=7.5.1 in c:\\users\\patel\\appdata\\local\\programs\\python\\python36\\lib\\site-packages (from pandas_profiling==2.7.1) (7.5.1)\n",
      "Requirement already satisfied: pandas!=1.0.0,!=1.0.1,!=1.0.2,>=0.25.3 in c:\\users\\patel\\appdata\\local\\programs\\python\\python36\\lib\\site-packages (from pandas_profiling==2.7.1) (1.0.3)\n",
      "Requirement already satisfied: jinja2>=2.11.1 in c:\\users\\patel\\appdata\\local\\programs\\python\\python36\\lib\\site-packages (from pandas_profiling==2.7.1) (2.11.1)\n",
      "Requirement already satisfied: phik>=0.9.10 in c:\\users\\patel\\appdata\\local\\programs\\python\\python36\\lib\\site-packages (from pandas_profiling==2.7.1) (0.11.0)\n",
      "Requirement already satisfied: tangled-up-in-unicode>=0.0.4 in c:\\users\\patel\\appdata\\local\\programs\\python\\python36\\lib\\site-packages (from pandas_profiling==2.7.1) (0.0.6)\n",
      "Requirement already satisfied: joblib in c:\\users\\patel\\appdata\\local\\programs\\python\\python36\\lib\\site-packages (from pandas_profiling==2.7.1) (1.0.0)\n",
      "Requirement already satisfied: confuse>=1.0.0 in c:\\users\\patel\\appdata\\local\\programs\\python\\python36\\lib\\site-packages (from pandas_profiling==2.7.1) (1.4.0)\n",
      "Requirement already satisfied: htmlmin>=0.1.12 in c:\\users\\patel\\appdata\\local\\programs\\python\\python36\\lib\\site-packages (from pandas_profiling==2.7.1) (0.1.12)\n",
      "Requirement already satisfied: tqdm>=4.43.0 in c:\\users\\patel\\appdata\\local\\programs\\python\\python36\\lib\\site-packages (from pandas_profiling==2.7.1) (4.56.0)\n",
      "Requirement already satisfied: missingno>=0.4.2 in c:\\users\\patel\\appdata\\local\\programs\\python\\python36\\lib\\site-packages (from pandas_profiling==2.7.1) (0.4.2)\n",
      "Collecting visions[type_image_path]==0.4.1\n",
      "  Downloading visions-0.4.1-py3-none-any.whl (58 kB)\n",
      "Requirement already satisfied: requests>=2.23.0 in c:\\users\\patel\\appdata\\local\\programs\\python\\python36\\lib\\site-packages (from pandas_profiling==2.7.1) (2.25.1)\n",
      "Requirement already satisfied: scipy>=1.4.1 in c:\\users\\patel\\appdata\\local\\programs\\python\\python36\\lib\\site-packages (from pandas_profiling==2.7.1) (1.4.1)\n",
      "Collecting astropy>=4.0\n",
      "  Downloading astropy-4.1-cp36-cp36m-win_amd64.whl (6.5 MB)\n",
      "Requirement already satisfied: matplotlib>=3.2.0 in c:\\users\\patel\\appdata\\local\\programs\\python\\python36\\lib\\site-packages (from pandas_profiling==2.7.1) (3.2.1)\n",
      "Requirement already satisfied: numpy>=1.16.0 in c:\\users\\patel\\appdata\\local\\programs\\python\\python36\\lib\\site-packages (from pandas_profiling==2.7.1) (1.16.1)\n",
      "Requirement already satisfied: nbformat>=4.2.0 in c:\\users\\patel\\appdata\\local\\programs\\python\\python36\\lib\\site-packages (from ipywidgets>=7.5.1->pandas_profiling==2.7.1) (5.0.4)\n",
      "Requirement already satisfied: ipython>=4.0.0; python_version >= \"3.3\" in c:\\users\\patel\\appdata\\local\\programs\\python\\python36\\lib\\site-packages (from ipywidgets>=7.5.1->pandas_profiling==2.7.1) (7.13.0)\n",
      "Requirement already satisfied: ipykernel>=4.5.1 in c:\\users\\patel\\appdata\\local\\programs\\python\\python36\\lib\\site-packages (from ipywidgets>=7.5.1->pandas_profiling==2.7.1) (5.2.0)\n",
      "Requirement already satisfied: widgetsnbextension~=3.5.0 in c:\\users\\patel\\appdata\\local\\programs\\python\\python36\\lib\\site-packages (from ipywidgets>=7.5.1->pandas_profiling==2.7.1) (3.5.1)\n",
      "Requirement already satisfied: traitlets>=4.3.1 in c:\\users\\patel\\appdata\\local\\programs\\python\\python36\\lib\\site-packages (from ipywidgets>=7.5.1->pandas_profiling==2.7.1) (4.3.3)\n",
      "Requirement already satisfied: python-dateutil>=2.6.1 in c:\\users\\patel\\appdata\\local\\programs\\python\\python36\\lib\\site-packages (from pandas!=1.0.0,!=1.0.1,!=1.0.2,>=0.25.3->pandas_profiling==2.7.1) (2.8.1)\n",
      "Requirement already satisfied: pytz>=2017.2 in c:\\users\\patel\\appdata\\local\\programs\\python\\python36\\lib\\site-packages (from pandas!=1.0.0,!=1.0.1,!=1.0.2,>=0.25.3->pandas_profiling==2.7.1) (2019.3)\n",
      "Requirement already satisfied: MarkupSafe>=0.23 in c:\\users\\patel\\appdata\\local\\programs\\python\\python36\\lib\\site-packages (from jinja2>=2.11.1->pandas_profiling==2.7.1) (1.1.1)\n",
      "Requirement already satisfied: numba>=0.38.1 in c:\\users\\patel\\appdata\\local\\programs\\python\\python36\\lib\\site-packages (from phik>=0.9.10->pandas_profiling==2.7.1) (0.52.0)\n",
      "Requirement already satisfied: pyyaml in c:\\users\\patel\\appdata\\local\\programs\\python\\python36\\lib\\site-packages (from confuse>=1.0.0->pandas_profiling==2.7.1) (5.3.1)\n",
      "Requirement already satisfied: seaborn in c:\\users\\patel\\appdata\\local\\programs\\python\\python36\\lib\\site-packages (from missingno>=0.4.2->pandas_profiling==2.7.1) (0.11.1)\n",
      "Requirement already satisfied: attrs>=19.3.0 in c:\\users\\patel\\appdata\\local\\programs\\python\\python36\\lib\\site-packages (from visions[type_image_path]==0.4.1->pandas_profiling==2.7.1) (19.3.0)\n",
      "Requirement already satisfied: networkx>=2.4 in c:\\users\\patel\\appdata\\local\\programs\\python\\python36\\lib\\site-packages (from visions[type_image_path]==0.4.1->pandas_profiling==2.7.1) (2.5)\n",
      "Requirement already satisfied: Pillow; extra == \"type_image_path\" in c:\\users\\patel\\appdata\\local\\programs\\python\\python36\\lib\\site-packages (from visions[type_image_path]==0.4.1->pandas_profiling==2.7.1) (7.0.0)\n",
      "Requirement already satisfied: imagehash; extra == \"type_image_path\" in c:\\users\\patel\\appdata\\local\\programs\\python\\python36\\lib\\site-packages (from visions[type_image_path]==0.4.1->pandas_profiling==2.7.1) (4.2.0)\n",
      "Requirement already satisfied: chardet<5,>=3.0.2 in c:\\users\\patel\\appdata\\local\\programs\\python\\python36\\lib\\site-packages (from requests>=2.23.0->pandas_profiling==2.7.1) (4.0.0)\n",
      "Requirement already satisfied: idna<3,>=2.5 in c:\\users\\patel\\appdata\\local\\programs\\python\\python36\\lib\\site-packages (from requests>=2.23.0->pandas_profiling==2.7.1) (2.10)\n",
      "Requirement already satisfied: urllib3<1.27,>=1.21.1 in c:\\users\\patel\\appdata\\local\\programs\\python\\python36\\lib\\site-packages (from requests>=2.23.0->pandas_profiling==2.7.1) (1.26.2)\n",
      "Requirement already satisfied: certifi>=2017.4.17 in c:\\users\\patel\\appdata\\local\\programs\\python\\python36\\lib\\site-packages (from requests>=2.23.0->pandas_profiling==2.7.1) (2020.12.5)\n",
      "Requirement already satisfied: cycler>=0.10 in c:\\users\\patel\\appdata\\local\\programs\\python\\python36\\lib\\site-packages (from matplotlib>=3.2.0->pandas_profiling==2.7.1) (0.10.0)\n",
      "Requirement already satisfied: kiwisolver>=1.0.1 in c:\\users\\patel\\appdata\\local\\programs\\python\\python36\\lib\\site-packages (from matplotlib>=3.2.0->pandas_profiling==2.7.1) (1.1.0)\n",
      "Requirement already satisfied: pyparsing!=2.0.4,!=2.1.2,!=2.1.6,>=2.0.1 in c:\\users\\patel\\appdata\\local\\programs\\python\\python36\\lib\\site-packages (from matplotlib>=3.2.0->pandas_profiling==2.7.1) (2.4.6)\n",
      "Requirement already satisfied: ipython-genutils in c:\\users\\patel\\appdata\\local\\programs\\python\\python36\\lib\\site-packages (from nbformat>=4.2.0->ipywidgets>=7.5.1->pandas_profiling==2.7.1) (0.2.0)\n",
      "Requirement already satisfied: jupyter-core in c:\\users\\patel\\appdata\\local\\programs\\python\\python36\\lib\\site-packages (from nbformat>=4.2.0->ipywidgets>=7.5.1->pandas_profiling==2.7.1) (4.6.3)\n",
      "Requirement already satisfied: jsonschema!=2.5.0,>=2.4 in c:\\users\\patel\\appdata\\local\\programs\\python\\python36\\lib\\site-packages (from nbformat>=4.2.0->ipywidgets>=7.5.1->pandas_profiling==2.7.1) (3.2.0)\n",
      "Requirement already satisfied: setuptools>=18.5 in c:\\users\\patel\\appdata\\local\\programs\\python\\python36\\lib\\site-packages (from ipython>=4.0.0; python_version >= \"3.3\"->ipywidgets>=7.5.1->pandas_profiling==2.7.1) (40.6.2)\n",
      "Requirement already satisfied: colorama; sys_platform == \"win32\" in c:\\users\\patel\\appdata\\local\\programs\\python\\python36\\lib\\site-packages (from ipython>=4.0.0; python_version >= \"3.3\"->ipywidgets>=7.5.1->pandas_profiling==2.7.1) (0.4.3)\n",
      "Requirement already satisfied: pickleshare in c:\\users\\patel\\appdata\\local\\programs\\python\\python36\\lib\\site-packages (from ipython>=4.0.0; python_version >= \"3.3\"->ipywidgets>=7.5.1->pandas_profiling==2.7.1) (0.7.5)\n",
      "Requirement already satisfied: pygments in c:\\users\\patel\\appdata\\local\\programs\\python\\python36\\lib\\site-packages (from ipython>=4.0.0; python_version >= \"3.3\"->ipywidgets>=7.5.1->pandas_profiling==2.7.1) (2.6.1)\n",
      "Requirement already satisfied: prompt-toolkit!=3.0.0,!=3.0.1,<3.1.0,>=2.0.0 in c:\\users\\patel\\appdata\\local\\programs\\python\\python36\\lib\\site-packages (from ipython>=4.0.0; python_version >= \"3.3\"->ipywidgets>=7.5.1->pandas_profiling==2.7.1) (3.0.4)\n",
      "Requirement already satisfied: decorator in c:\\users\\patel\\appdata\\local\\programs\\python\\python36\\lib\\site-packages (from ipython>=4.0.0; python_version >= \"3.3\"->ipywidgets>=7.5.1->pandas_profiling==2.7.1) (4.4.2)\n",
      "Requirement already satisfied: backcall in c:\\users\\patel\\appdata\\local\\programs\\python\\python36\\lib\\site-packages (from ipython>=4.0.0; python_version >= \"3.3\"->ipywidgets>=7.5.1->pandas_profiling==2.7.1) (0.1.0)\n",
      "Requirement already satisfied: jedi>=0.10 in c:\\users\\patel\\appdata\\local\\programs\\python\\python36\\lib\\site-packages (from ipython>=4.0.0; python_version >= \"3.3\"->ipywidgets>=7.5.1->pandas_profiling==2.7.1) (0.16.0)\n",
      "Requirement already satisfied: tornado>=4.2 in c:\\users\\patel\\appdata\\local\\programs\\python\\python36\\lib\\site-packages (from ipykernel>=4.5.1->ipywidgets>=7.5.1->pandas_profiling==2.7.1) (6.0.4)\n",
      "Requirement already satisfied: jupyter-client in c:\\users\\patel\\appdata\\local\\programs\\python\\python36\\lib\\site-packages (from ipykernel>=4.5.1->ipywidgets>=7.5.1->pandas_profiling==2.7.1) (6.1.0)\n",
      "Requirement already satisfied: notebook>=4.4.1 in c:\\users\\patel\\appdata\\local\\programs\\python\\python36\\lib\\site-packages (from widgetsnbextension~=3.5.0->ipywidgets>=7.5.1->pandas_profiling==2.7.1) (6.0.3)\n",
      "Requirement already satisfied: six in c:\\users\\patel\\appdata\\local\\programs\\python\\python36\\lib\\site-packages (from traitlets>=4.3.1->ipywidgets>=7.5.1->pandas_profiling==2.7.1) (1.14.0)\n",
      "Requirement already satisfied: llvmlite<0.36,>=0.35.0 in c:\\users\\patel\\appdata\\local\\programs\\python\\python36\\lib\\site-packages (from numba>=0.38.1->phik>=0.9.10->pandas_profiling==2.7.1) (0.35.0)\n",
      "Requirement already satisfied: PyWavelets in c:\\users\\patel\\appdata\\local\\programs\\python\\python36\\lib\\site-packages (from imagehash; extra == \"type_image_path\"->visions[type_image_path]==0.4.1->pandas_profiling==2.7.1) (1.1.1)\n",
      "Requirement already satisfied: pywin32>=1.0; sys_platform == \"win32\" in c:\\users\\patel\\appdata\\local\\programs\\python\\python36\\lib\\site-packages (from jupyter-core->nbformat>=4.2.0->ipywidgets>=7.5.1->pandas_profiling==2.7.1) (227)\n",
      "Requirement already satisfied: pyrsistent>=0.14.0 in c:\\users\\patel\\appdata\\local\\programs\\python\\python36\\lib\\site-packages (from jsonschema!=2.5.0,>=2.4->nbformat>=4.2.0->ipywidgets>=7.5.1->pandas_profiling==2.7.1) (0.15.7)\n",
      "Requirement already satisfied: importlib-metadata; python_version < \"3.8\" in c:\\users\\patel\\appdata\\local\\programs\\python\\python36\\lib\\site-packages (from jsonschema!=2.5.0,>=2.4->nbformat>=4.2.0->ipywidgets>=7.5.1->pandas_profiling==2.7.1) (1.5.0)\n",
      "Requirement already satisfied: wcwidth in c:\\users\\patel\\appdata\\local\\programs\\python\\python36\\lib\\site-packages (from prompt-toolkit!=3.0.0,!=3.0.1,<3.1.0,>=2.0.0->ipython>=4.0.0; python_version >= \"3.3\"->ipywidgets>=7.5.1->pandas_profiling==2.7.1) (0.1.9)\n",
      "Requirement already satisfied: parso>=0.5.2 in c:\\users\\patel\\appdata\\local\\programs\\python\\python36\\lib\\site-packages (from jedi>=0.10->ipython>=4.0.0; python_version >= \"3.3\"->ipywidgets>=7.5.1->pandas_profiling==2.7.1) (0.6.2)\n",
      "Requirement already satisfied: pyzmq>=13 in c:\\users\\patel\\appdata\\local\\programs\\python\\python36\\lib\\site-packages (from jupyter-client->ipykernel>=4.5.1->ipywidgets>=7.5.1->pandas_profiling==2.7.1) (19.0.0)\n",
      "Requirement already satisfied: terminado>=0.8.1 in c:\\users\\patel\\appdata\\local\\programs\\python\\python36\\lib\\site-packages (from notebook>=4.4.1->widgetsnbextension~=3.5.0->ipywidgets>=7.5.1->pandas_profiling==2.7.1) (0.8.3)\n",
      "Requirement already satisfied: nbconvert in c:\\users\\patel\\appdata\\local\\programs\\python\\python36\\lib\\site-packages (from notebook>=4.4.1->widgetsnbextension~=3.5.0->ipywidgets>=7.5.1->pandas_profiling==2.7.1) (5.6.1)\n",
      "Requirement already satisfied: Send2Trash in c:\\users\\patel\\appdata\\local\\programs\\python\\python36\\lib\\site-packages (from notebook>=4.4.1->widgetsnbextension~=3.5.0->ipywidgets>=7.5.1->pandas_profiling==2.7.1) (1.5.0)"
     ]
    },
    {
     "name": "stderr",
     "output_type": "stream",
     "text": [
      "WARNING: You are using pip version 20.1.1; however, version 20.3.3 is available.\n",
      "You should consider upgrading via the 'c:\\users\\patel\\appdata\\local\\programs\\python\\python36\\python.exe -m pip install --upgrade pip' command.\n"
     ]
    },
    {
     "name": "stdout",
     "output_type": "stream",
     "text": [
      "\n",
      "Requirement already satisfied: prometheus-client in c:\\users\\patel\\appdata\\local\\programs\\python\\python36\\lib\\site-packages (from notebook>=4.4.1->widgetsnbextension~=3.5.0->ipywidgets>=7.5.1->pandas_profiling==2.7.1) (0.7.1)\n",
      "Requirement already satisfied: zipp>=0.5 in c:\\users\\patel\\appdata\\local\\programs\\python\\python36\\lib\\site-packages (from importlib-metadata; python_version < \"3.8\"->jsonschema!=2.5.0,>=2.4->nbformat>=4.2.0->ipywidgets>=7.5.1->pandas_profiling==2.7.1) (3.1.0)\n",
      "Requirement already satisfied: pywinpty>=0.5; os_name == \"nt\" in c:\\users\\patel\\appdata\\local\\programs\\python\\python36\\lib\\site-packages (from terminado>=0.8.1->notebook>=4.4.1->widgetsnbextension~=3.5.0->ipywidgets>=7.5.1->pandas_profiling==2.7.1) (0.5.7)\n",
      "Requirement already satisfied: testpath in c:\\users\\patel\\appdata\\local\\programs\\python\\python36\\lib\\site-packages (from nbconvert->notebook>=4.4.1->widgetsnbextension~=3.5.0->ipywidgets>=7.5.1->pandas_profiling==2.7.1) (0.4.4)\n",
      "Requirement already satisfied: entrypoints>=0.2.2 in c:\\users\\patel\\appdata\\local\\programs\\python\\python36\\lib\\site-packages (from nbconvert->notebook>=4.4.1->widgetsnbextension~=3.5.0->ipywidgets>=7.5.1->pandas_profiling==2.7.1) (0.3)\n",
      "Requirement already satisfied: defusedxml in c:\\users\\patel\\appdata\\local\\programs\\python\\python36\\lib\\site-packages (from nbconvert->notebook>=4.4.1->widgetsnbextension~=3.5.0->ipywidgets>=7.5.1->pandas_profiling==2.7.1) (0.6.0)\n",
      "Requirement already satisfied: bleach in c:\\users\\patel\\appdata\\local\\programs\\python\\python36\\lib\\site-packages (from nbconvert->notebook>=4.4.1->widgetsnbextension~=3.5.0->ipywidgets>=7.5.1->pandas_profiling==2.7.1) (3.1.3)\n",
      "Requirement already satisfied: pandocfilters>=1.4.1 in c:\\users\\patel\\appdata\\local\\programs\\python\\python36\\lib\\site-packages (from nbconvert->notebook>=4.4.1->widgetsnbextension~=3.5.0->ipywidgets>=7.5.1->pandas_profiling==2.7.1) (1.4.2)\n",
      "Requirement already satisfied: mistune<2,>=0.8.1 in c:\\users\\patel\\appdata\\local\\programs\\python\\python36\\lib\\site-packages (from nbconvert->notebook>=4.4.1->widgetsnbextension~=3.5.0->ipywidgets>=7.5.1->pandas_profiling==2.7.1) (0.8.4)\n",
      "Requirement already satisfied: webencodings in c:\\users\\patel\\appdata\\local\\programs\\python\\python36\\lib\\site-packages (from bleach->nbconvert->notebook>=4.4.1->widgetsnbextension~=3.5.0->ipywidgets>=7.5.1->pandas_profiling==2.7.1) (0.5.1)\n",
      "Installing collected packages: visions, astropy, pandas-profiling\n",
      "  Attempting uninstall: visions\n",
      "    Found existing installation: visions 0.6.0\n",
      "    Uninstalling visions-0.6.0:\n",
      "      Successfully uninstalled visions-0.6.0\n",
      "  Attempting uninstall: pandas-profiling\n",
      "    Found existing installation: pandas-profiling 2.10.0\n",
      "    Uninstalling pandas-profiling-2.10.0:\n",
      "      Successfully uninstalled pandas-profiling-2.10.0\n",
      "Successfully installed astropy-4.1 pandas-profiling-2.7.1 visions-0.4.1\n",
      "Requirement already satisfied: sweetviz in c:\\users\\patel\\appdata\\local\\programs\\python\\python36\\lib\\site-packages (2.0.4)\n",
      "Requirement already satisfied: importlib-resources>=1.2.0 in c:\\users\\patel\\appdata\\local\\programs\\python\\python36\\lib\\site-packages (from sweetviz) (5.1.0)\n",
      "Requirement already satisfied: pandas!=1.0.0,!=1.0.1,!=1.0.2,>=0.25.3 in c:\\users\\patel\\appdata\\local\\programs\\python\\python36\\lib\\site-packages (from sweetviz) (1.0.3)\n",
      "Requirement already satisfied: tqdm>=4.43.0 in c:\\users\\patel\\appdata\\local\\programs\\python\\python36\\lib\\site-packages (from sweetviz) (4.56.0)\n",
      "Requirement already satisfied: scipy>=1.3.2 in c:\\users\\patel\\appdata\\local\\programs\\python\\python36\\lib\\site-packages (from sweetviz) (1.4.1)\n",
      "Requirement already satisfied: numpy>=1.16.0 in c:\\users\\patel\\appdata\\local\\programs\\python\\python36\\lib\\site-packages (from sweetviz) (1.16.1)\n",
      "Requirement already satisfied: jinja2>=2.11.1 in c:\\users\\patel\\appdata\\local\\programs\\python\\python36\\lib\\site-packages (from sweetviz) (2.11.1)\n",
      "Requirement already satisfied: matplotlib>=3.1.3 in c:\\users\\patel\\appdata\\local\\programs\\python\\python36\\lib\\site-packages (from sweetviz) (3.2.1)\n",
      "Requirement already satisfied: zipp>=0.4; python_version < \"3.8\" in c:\\users\\patel\\appdata\\local\\programs\\python\\python36\\lib\\site-packages (from importlib-resources>=1.2.0->sweetviz) (3.1.0)\n",
      "Requirement already satisfied: python-dateutil>=2.6.1 in c:\\users\\patel\\appdata\\local\\programs\\python\\python36\\lib\\site-packages (from pandas!=1.0.0,!=1.0.1,!=1.0.2,>=0.25.3->sweetviz) (2.8.1)\n",
      "Requirement already satisfied: pytz>=2017.2 in c:\\users\\patel\\appdata\\local\\programs\\python\\python36\\lib\\site-packages (from pandas!=1.0.0,!=1.0.1,!=1.0.2,>=0.25.3->sweetviz) (2019.3)\n",
      "Requirement already satisfied: MarkupSafe>=0.23 in c:\\users\\patel\\appdata\\local\\programs\\python\\python36\\lib\\site-packages (from jinja2>=2.11.1->sweetviz) (1.1.1)\n",
      "Requirement already satisfied: cycler>=0.10 in c:\\users\\patel\\appdata\\local\\programs\\python\\python36\\lib\\site-packages (from matplotlib>=3.1.3->sweetviz) (0.10.0)\n",
      "Requirement already satisfied: kiwisolver>=1.0.1 in c:\\users\\patel\\appdata\\local\\programs\\python\\python36\\lib\\site-packages (from matplotlib>=3.1.3->sweetviz) (1.1.0)\n",
      "Requirement already satisfied: pyparsing!=2.0.4,!=2.1.2,!=2.1.6,>=2.0.1 in c:\\users\\patel\\appdata\\local\\programs\\python\\python36\\lib\\site-packages (from matplotlib>=3.1.3->sweetviz) (2.4.6)\n",
      "Requirement already satisfied: six>=1.5 in c:\\users\\patel\\appdata\\local\\programs\\python\\python36\\lib\\site-packages (from python-dateutil>=2.6.1->pandas!=1.0.0,!=1.0.1,!=1.0.2,>=0.25.3->sweetviz) (1.14.0)\n",
      "Requirement already satisfied: setuptools in c:\\users\\patel\\appdata\\local\\programs\\python\\python36\\lib\\site-packages (from kiwisolver>=1.0.1->matplotlib>=3.1.3->sweetviz) (40.6.2)\n"
     ]
    },
    {
     "name": "stderr",
     "output_type": "stream",
     "text": [
      "WARNING: You are using pip version 20.1.1; however, version 20.3.3 is available.\n",
      "You should consider upgrading via the 'c:\\users\\patel\\appdata\\local\\programs\\python\\python36\\python.exe -m pip install --upgrade pip' command.\n"
     ]
    }
   ],
   "source": [
    "!pip install pandas_profiling==2.7.1\n",
    "!pip install sweetviz"
   ]
  },
  {
   "cell_type": "code",
   "execution_count": 3,
   "metadata": {
    "id": "wo3F3kLrHiJf"
   },
   "outputs": [],
   "source": [
    "#load the libraries\n",
    "import pandas as pd\n",
    "import numpy as np\n",
    "import pandas_profiling as pp\n",
    "import sweetviz as sv"
   ]
  },
  {
   "cell_type": "code",
   "execution_count": 4,
   "metadata": {
    "id": "tN9-2GL_HiJf"
   },
   "outputs": [],
   "source": [
    "data1 = pd.read_csv(\"data_clean.csv\",index_col=0)"
   ]
  },
  {
   "cell_type": "code",
   "execution_count": 5,
   "metadata": {
    "id": "Vy7pVxfsHiJg"
   },
   "outputs": [
    {
     "data": {
      "text/html": [
       "<div>\n",
       "<style scoped>\n",
       "    .dataframe tbody tr th:only-of-type {\n",
       "        vertical-align: middle;\n",
       "    }\n",
       "\n",
       "    .dataframe tbody tr th {\n",
       "        vertical-align: top;\n",
       "    }\n",
       "\n",
       "    .dataframe thead th {\n",
       "        text-align: right;\n",
       "    }\n",
       "</style>\n",
       "<table border=\"1\" class=\"dataframe\">\n",
       "  <thead>\n",
       "    <tr style=\"text-align: right;\">\n",
       "      <th></th>\n",
       "      <th>Ozone</th>\n",
       "      <th>Solar.R</th>\n",
       "      <th>Wind</th>\n",
       "      <th>Temp C</th>\n",
       "      <th>Month</th>\n",
       "      <th>Day</th>\n",
       "      <th>Year</th>\n",
       "      <th>Temp</th>\n",
       "      <th>Weather</th>\n",
       "    </tr>\n",
       "  </thead>\n",
       "  <tbody>\n",
       "    <tr>\n",
       "      <th>1</th>\n",
       "      <td>41.0</td>\n",
       "      <td>190.0</td>\n",
       "      <td>7.4</td>\n",
       "      <td>67</td>\n",
       "      <td>5</td>\n",
       "      <td>1</td>\n",
       "      <td>2010</td>\n",
       "      <td>67</td>\n",
       "      <td>S</td>\n",
       "    </tr>\n",
       "    <tr>\n",
       "      <th>2</th>\n",
       "      <td>36.0</td>\n",
       "      <td>118.0</td>\n",
       "      <td>8.0</td>\n",
       "      <td>72</td>\n",
       "      <td>5</td>\n",
       "      <td>2</td>\n",
       "      <td>2010</td>\n",
       "      <td>72</td>\n",
       "      <td>C</td>\n",
       "    </tr>\n",
       "    <tr>\n",
       "      <th>3</th>\n",
       "      <td>12.0</td>\n",
       "      <td>149.0</td>\n",
       "      <td>12.6</td>\n",
       "      <td>74</td>\n",
       "      <td>5</td>\n",
       "      <td>3</td>\n",
       "      <td>2010</td>\n",
       "      <td>74</td>\n",
       "      <td>PS</td>\n",
       "    </tr>\n",
       "    <tr>\n",
       "      <th>4</th>\n",
       "      <td>18.0</td>\n",
       "      <td>313.0</td>\n",
       "      <td>11.5</td>\n",
       "      <td>62</td>\n",
       "      <td>5</td>\n",
       "      <td>4</td>\n",
       "      <td>2010</td>\n",
       "      <td>62</td>\n",
       "      <td>S</td>\n",
       "    </tr>\n",
       "    <tr>\n",
       "      <th>5</th>\n",
       "      <td>NaN</td>\n",
       "      <td>NaN</td>\n",
       "      <td>14.3</td>\n",
       "      <td>56</td>\n",
       "      <td>5</td>\n",
       "      <td>5</td>\n",
       "      <td>2010</td>\n",
       "      <td>56</td>\n",
       "      <td>S</td>\n",
       "    </tr>\n",
       "    <tr>\n",
       "      <th>...</th>\n",
       "      <td>...</td>\n",
       "      <td>...</td>\n",
       "      <td>...</td>\n",
       "      <td>...</td>\n",
       "      <td>...</td>\n",
       "      <td>...</td>\n",
       "      <td>...</td>\n",
       "      <td>...</td>\n",
       "      <td>...</td>\n",
       "    </tr>\n",
       "    <tr>\n",
       "      <th>154</th>\n",
       "      <td>41.0</td>\n",
       "      <td>190.0</td>\n",
       "      <td>7.4</td>\n",
       "      <td>67</td>\n",
       "      <td>5</td>\n",
       "      <td>1</td>\n",
       "      <td>2010</td>\n",
       "      <td>67</td>\n",
       "      <td>C</td>\n",
       "    </tr>\n",
       "    <tr>\n",
       "      <th>155</th>\n",
       "      <td>30.0</td>\n",
       "      <td>193.0</td>\n",
       "      <td>6.9</td>\n",
       "      <td>70</td>\n",
       "      <td>9</td>\n",
       "      <td>26</td>\n",
       "      <td>2010</td>\n",
       "      <td>70</td>\n",
       "      <td>PS</td>\n",
       "    </tr>\n",
       "    <tr>\n",
       "      <th>156</th>\n",
       "      <td>NaN</td>\n",
       "      <td>145.0</td>\n",
       "      <td>13.2</td>\n",
       "      <td>77</td>\n",
       "      <td>9</td>\n",
       "      <td>27</td>\n",
       "      <td>2010</td>\n",
       "      <td>77</td>\n",
       "      <td>S</td>\n",
       "    </tr>\n",
       "    <tr>\n",
       "      <th>157</th>\n",
       "      <td>14.0</td>\n",
       "      <td>191.0</td>\n",
       "      <td>14.3</td>\n",
       "      <td>75</td>\n",
       "      <td>9</td>\n",
       "      <td>28</td>\n",
       "      <td>2010</td>\n",
       "      <td>75</td>\n",
       "      <td>S</td>\n",
       "    </tr>\n",
       "    <tr>\n",
       "      <th>158</th>\n",
       "      <td>18.0</td>\n",
       "      <td>131.0</td>\n",
       "      <td>8.0</td>\n",
       "      <td>76</td>\n",
       "      <td>9</td>\n",
       "      <td>29</td>\n",
       "      <td>2010</td>\n",
       "      <td>76</td>\n",
       "      <td>C</td>\n",
       "    </tr>\n",
       "  </tbody>\n",
       "</table>\n",
       "<p>158 rows × 9 columns</p>\n",
       "</div>"
      ],
      "text/plain": [
       "     Ozone  Solar.R  Wind Temp C Month  Day  Year  Temp Weather\n",
       "1     41.0    190.0   7.4     67     5    1  2010    67       S\n",
       "2     36.0    118.0   8.0     72     5    2  2010    72       C\n",
       "3     12.0    149.0  12.6     74     5    3  2010    74      PS\n",
       "4     18.0    313.0  11.5     62     5    4  2010    62       S\n",
       "5      NaN      NaN  14.3     56     5    5  2010    56       S\n",
       "..     ...      ...   ...    ...   ...  ...   ...   ...     ...\n",
       "154   41.0    190.0   7.4     67     5    1  2010    67       C\n",
       "155   30.0    193.0   6.9     70     9   26  2010    70      PS\n",
       "156    NaN    145.0  13.2     77     9   27  2010    77       S\n",
       "157   14.0    191.0  14.3     75     9   28  2010    75       S\n",
       "158   18.0    131.0   8.0     76     9   29  2010    76       C\n",
       "\n",
       "[158 rows x 9 columns]"
      ]
     },
     "execution_count": 5,
     "metadata": {},
     "output_type": "execute_result"
    }
   ],
   "source": [
    "data1"
   ]
  },
  {
   "cell_type": "code",
   "execution_count": 6,
   "metadata": {
    "id": "T9XNoLH7HiJg"
   },
   "outputs": [
    {
     "data": {
      "text/html": [
       "<div>\n",
       "<style scoped>\n",
       "    .dataframe tbody tr th:only-of-type {\n",
       "        vertical-align: middle;\n",
       "    }\n",
       "\n",
       "    .dataframe tbody tr th {\n",
       "        vertical-align: top;\n",
       "    }\n",
       "\n",
       "    .dataframe thead th {\n",
       "        text-align: right;\n",
       "    }\n",
       "</style>\n",
       "<table border=\"1\" class=\"dataframe\">\n",
       "  <thead>\n",
       "    <tr style=\"text-align: right;\">\n",
       "      <th></th>\n",
       "      <th>Ozone</th>\n",
       "      <th>Solar.R</th>\n",
       "      <th>Wind</th>\n",
       "      <th>Temp C</th>\n",
       "      <th>Month</th>\n",
       "      <th>Day</th>\n",
       "      <th>Year</th>\n",
       "      <th>Temp</th>\n",
       "      <th>Weather</th>\n",
       "    </tr>\n",
       "  </thead>\n",
       "  <tbody>\n",
       "    <tr>\n",
       "      <th>149</th>\n",
       "      <td>30.0</td>\n",
       "      <td>193.0</td>\n",
       "      <td>6.9</td>\n",
       "      <td>70</td>\n",
       "      <td>9</td>\n",
       "      <td>26</td>\n",
       "      <td>2010</td>\n",
       "      <td>70</td>\n",
       "      <td>C</td>\n",
       "    </tr>\n",
       "    <tr>\n",
       "      <th>150</th>\n",
       "      <td>NaN</td>\n",
       "      <td>145.0</td>\n",
       "      <td>13.2</td>\n",
       "      <td>77</td>\n",
       "      <td>9</td>\n",
       "      <td>27</td>\n",
       "      <td>2010</td>\n",
       "      <td>77</td>\n",
       "      <td>PS</td>\n",
       "    </tr>\n",
       "    <tr>\n",
       "      <th>151</th>\n",
       "      <td>14.0</td>\n",
       "      <td>191.0</td>\n",
       "      <td>14.3</td>\n",
       "      <td>75</td>\n",
       "      <td>9</td>\n",
       "      <td>28</td>\n",
       "      <td>2010</td>\n",
       "      <td>75</td>\n",
       "      <td>S</td>\n",
       "    </tr>\n",
       "    <tr>\n",
       "      <th>152</th>\n",
       "      <td>18.0</td>\n",
       "      <td>131.0</td>\n",
       "      <td>8.0</td>\n",
       "      <td>76</td>\n",
       "      <td>9</td>\n",
       "      <td>29</td>\n",
       "      <td>2010</td>\n",
       "      <td>76</td>\n",
       "      <td>PS</td>\n",
       "    </tr>\n",
       "    <tr>\n",
       "      <th>153</th>\n",
       "      <td>20.0</td>\n",
       "      <td>223.0</td>\n",
       "      <td>11.5</td>\n",
       "      <td>68</td>\n",
       "      <td>9</td>\n",
       "      <td>30</td>\n",
       "      <td>2010</td>\n",
       "      <td>68</td>\n",
       "      <td>S</td>\n",
       "    </tr>\n",
       "    <tr>\n",
       "      <th>154</th>\n",
       "      <td>41.0</td>\n",
       "      <td>190.0</td>\n",
       "      <td>7.4</td>\n",
       "      <td>67</td>\n",
       "      <td>5</td>\n",
       "      <td>1</td>\n",
       "      <td>2010</td>\n",
       "      <td>67</td>\n",
       "      <td>C</td>\n",
       "    </tr>\n",
       "    <tr>\n",
       "      <th>155</th>\n",
       "      <td>30.0</td>\n",
       "      <td>193.0</td>\n",
       "      <td>6.9</td>\n",
       "      <td>70</td>\n",
       "      <td>9</td>\n",
       "      <td>26</td>\n",
       "      <td>2010</td>\n",
       "      <td>70</td>\n",
       "      <td>PS</td>\n",
       "    </tr>\n",
       "    <tr>\n",
       "      <th>156</th>\n",
       "      <td>NaN</td>\n",
       "      <td>145.0</td>\n",
       "      <td>13.2</td>\n",
       "      <td>77</td>\n",
       "      <td>9</td>\n",
       "      <td>27</td>\n",
       "      <td>2010</td>\n",
       "      <td>77</td>\n",
       "      <td>S</td>\n",
       "    </tr>\n",
       "    <tr>\n",
       "      <th>157</th>\n",
       "      <td>14.0</td>\n",
       "      <td>191.0</td>\n",
       "      <td>14.3</td>\n",
       "      <td>75</td>\n",
       "      <td>9</td>\n",
       "      <td>28</td>\n",
       "      <td>2010</td>\n",
       "      <td>75</td>\n",
       "      <td>S</td>\n",
       "    </tr>\n",
       "    <tr>\n",
       "      <th>158</th>\n",
       "      <td>18.0</td>\n",
       "      <td>131.0</td>\n",
       "      <td>8.0</td>\n",
       "      <td>76</td>\n",
       "      <td>9</td>\n",
       "      <td>29</td>\n",
       "      <td>2010</td>\n",
       "      <td>76</td>\n",
       "      <td>C</td>\n",
       "    </tr>\n",
       "  </tbody>\n",
       "</table>\n",
       "</div>"
      ],
      "text/plain": [
       "     Ozone  Solar.R  Wind Temp C Month  Day  Year  Temp Weather\n",
       "149   30.0    193.0   6.9     70     9   26  2010    70       C\n",
       "150    NaN    145.0  13.2     77     9   27  2010    77      PS\n",
       "151   14.0    191.0  14.3     75     9   28  2010    75       S\n",
       "152   18.0    131.0   8.0     76     9   29  2010    76      PS\n",
       "153   20.0    223.0  11.5     68     9   30  2010    68       S\n",
       "154   41.0    190.0   7.4     67     5    1  2010    67       C\n",
       "155   30.0    193.0   6.9     70     9   26  2010    70      PS\n",
       "156    NaN    145.0  13.2     77     9   27  2010    77       S\n",
       "157   14.0    191.0  14.3     75     9   28  2010    75       S\n",
       "158   18.0    131.0   8.0     76     9   29  2010    76       C"
      ]
     },
     "execution_count": 6,
     "metadata": {},
     "output_type": "execute_result"
    }
   ],
   "source": [
    "data1.tail(10)"
   ]
  },
  {
   "cell_type": "code",
   "execution_count": 7,
   "metadata": {
    "id": "kMOpA_v7HiJh"
   },
   "outputs": [
    {
     "data": {
      "text/html": [
       "<div>\n",
       "<style scoped>\n",
       "    .dataframe tbody tr th:only-of-type {\n",
       "        vertical-align: middle;\n",
       "    }\n",
       "\n",
       "    .dataframe tbody tr th {\n",
       "        vertical-align: top;\n",
       "    }\n",
       "\n",
       "    .dataframe thead th {\n",
       "        text-align: right;\n",
       "    }\n",
       "</style>\n",
       "<table border=\"1\" class=\"dataframe\">\n",
       "  <thead>\n",
       "    <tr style=\"text-align: right;\">\n",
       "      <th></th>\n",
       "      <th>Ozone</th>\n",
       "      <th>Solar.R</th>\n",
       "      <th>Wind</th>\n",
       "      <th>Temp C</th>\n",
       "      <th>Month</th>\n",
       "      <th>Day</th>\n",
       "      <th>Year</th>\n",
       "      <th>Temp</th>\n",
       "      <th>Weather</th>\n",
       "    </tr>\n",
       "  </thead>\n",
       "  <tbody>\n",
       "    <tr>\n",
       "      <th>1</th>\n",
       "      <td>41.0</td>\n",
       "      <td>190.0</td>\n",
       "      <td>7.4</td>\n",
       "      <td>67</td>\n",
       "      <td>5</td>\n",
       "      <td>1</td>\n",
       "      <td>2010</td>\n",
       "      <td>67</td>\n",
       "      <td>S</td>\n",
       "    </tr>\n",
       "    <tr>\n",
       "      <th>2</th>\n",
       "      <td>36.0</td>\n",
       "      <td>118.0</td>\n",
       "      <td>8.0</td>\n",
       "      <td>72</td>\n",
       "      <td>5</td>\n",
       "      <td>2</td>\n",
       "      <td>2010</td>\n",
       "      <td>72</td>\n",
       "      <td>C</td>\n",
       "    </tr>\n",
       "    <tr>\n",
       "      <th>3</th>\n",
       "      <td>12.0</td>\n",
       "      <td>149.0</td>\n",
       "      <td>12.6</td>\n",
       "      <td>74</td>\n",
       "      <td>5</td>\n",
       "      <td>3</td>\n",
       "      <td>2010</td>\n",
       "      <td>74</td>\n",
       "      <td>PS</td>\n",
       "    </tr>\n",
       "    <tr>\n",
       "      <th>4</th>\n",
       "      <td>18.0</td>\n",
       "      <td>313.0</td>\n",
       "      <td>11.5</td>\n",
       "      <td>62</td>\n",
       "      <td>5</td>\n",
       "      <td>4</td>\n",
       "      <td>2010</td>\n",
       "      <td>62</td>\n",
       "      <td>S</td>\n",
       "    </tr>\n",
       "    <tr>\n",
       "      <th>5</th>\n",
       "      <td>NaN</td>\n",
       "      <td>NaN</td>\n",
       "      <td>14.3</td>\n",
       "      <td>56</td>\n",
       "      <td>5</td>\n",
       "      <td>5</td>\n",
       "      <td>2010</td>\n",
       "      <td>56</td>\n",
       "      <td>S</td>\n",
       "    </tr>\n",
       "    <tr>\n",
       "      <th>...</th>\n",
       "      <td>...</td>\n",
       "      <td>...</td>\n",
       "      <td>...</td>\n",
       "      <td>...</td>\n",
       "      <td>...</td>\n",
       "      <td>...</td>\n",
       "      <td>...</td>\n",
       "      <td>...</td>\n",
       "      <td>...</td>\n",
       "    </tr>\n",
       "    <tr>\n",
       "      <th>154</th>\n",
       "      <td>41.0</td>\n",
       "      <td>190.0</td>\n",
       "      <td>7.4</td>\n",
       "      <td>67</td>\n",
       "      <td>5</td>\n",
       "      <td>1</td>\n",
       "      <td>2010</td>\n",
       "      <td>67</td>\n",
       "      <td>C</td>\n",
       "    </tr>\n",
       "    <tr>\n",
       "      <th>155</th>\n",
       "      <td>30.0</td>\n",
       "      <td>193.0</td>\n",
       "      <td>6.9</td>\n",
       "      <td>70</td>\n",
       "      <td>9</td>\n",
       "      <td>26</td>\n",
       "      <td>2010</td>\n",
       "      <td>70</td>\n",
       "      <td>PS</td>\n",
       "    </tr>\n",
       "    <tr>\n",
       "      <th>156</th>\n",
       "      <td>NaN</td>\n",
       "      <td>145.0</td>\n",
       "      <td>13.2</td>\n",
       "      <td>77</td>\n",
       "      <td>9</td>\n",
       "      <td>27</td>\n",
       "      <td>2010</td>\n",
       "      <td>77</td>\n",
       "      <td>S</td>\n",
       "    </tr>\n",
       "    <tr>\n",
       "      <th>157</th>\n",
       "      <td>14.0</td>\n",
       "      <td>191.0</td>\n",
       "      <td>14.3</td>\n",
       "      <td>75</td>\n",
       "      <td>9</td>\n",
       "      <td>28</td>\n",
       "      <td>2010</td>\n",
       "      <td>75</td>\n",
       "      <td>S</td>\n",
       "    </tr>\n",
       "    <tr>\n",
       "      <th>158</th>\n",
       "      <td>18.0</td>\n",
       "      <td>131.0</td>\n",
       "      <td>8.0</td>\n",
       "      <td>76</td>\n",
       "      <td>9</td>\n",
       "      <td>29</td>\n",
       "      <td>2010</td>\n",
       "      <td>76</td>\n",
       "      <td>C</td>\n",
       "    </tr>\n",
       "  </tbody>\n",
       "</table>\n",
       "<p>158 rows × 9 columns</p>\n",
       "</div>"
      ],
      "text/plain": [
       "     Ozone  Solar.R  Wind Temp C Month  Day  Year  Temp Weather\n",
       "1     41.0    190.0   7.4     67     5    1  2010    67       S\n",
       "2     36.0    118.0   8.0     72     5    2  2010    72       C\n",
       "3     12.0    149.0  12.6     74     5    3  2010    74      PS\n",
       "4     18.0    313.0  11.5     62     5    4  2010    62       S\n",
       "5      NaN      NaN  14.3     56     5    5  2010    56       S\n",
       "..     ...      ...   ...    ...   ...  ...   ...   ...     ...\n",
       "154   41.0    190.0   7.4     67     5    1  2010    67       C\n",
       "155   30.0    193.0   6.9     70     9   26  2010    70      PS\n",
       "156    NaN    145.0  13.2     77     9   27  2010    77       S\n",
       "157   14.0    191.0  14.3     75     9   28  2010    75       S\n",
       "158   18.0    131.0   8.0     76     9   29  2010    76       C\n",
       "\n",
       "[158 rows x 9 columns]"
      ]
     },
     "execution_count": 7,
     "metadata": {},
     "output_type": "execute_result"
    }
   ],
   "source": [
    "data1"
   ]
  },
  {
   "cell_type": "code",
   "execution_count": 8,
   "metadata": {
    "id": "bSbR2cRtHiJk"
   },
   "outputs": [
    {
     "data": {
      "text/plain": [
       "(158, 9)"
      ]
     },
     "execution_count": 8,
     "metadata": {},
     "output_type": "execute_result"
    }
   ],
   "source": [
    "#Data Structure \n",
    "type(data1)\n",
    "data1.shape"
   ]
  },
  {
   "cell_type": "code",
   "execution_count": 9,
   "metadata": {
    "id": "Sm69MrZNHiJl"
   },
   "outputs": [
    {
     "data": {
      "text/plain": [
       "Ozone      float64\n",
       "Solar.R    float64\n",
       "Wind       float64\n",
       "Temp C      object\n",
       "Month       object\n",
       "Day          int64\n",
       "Year         int64\n",
       "Temp         int64\n",
       "Weather     object\n",
       "dtype: object"
      ]
     },
     "execution_count": 9,
     "metadata": {},
     "output_type": "execute_result"
    }
   ],
   "source": [
    "#data types\n",
    "data1.dtypes"
   ]
  },
  {
   "cell_type": "markdown",
   "metadata": {
    "id": "tN31i1h2HiJn"
   },
   "source": [
    "# Data type conversion"
   ]
  },
  {
   "cell_type": "code",
   "execution_count": 10,
   "metadata": {
    "id": "qrIOvpmOHiJp"
   },
   "outputs": [
    {
     "name": "stdout",
     "output_type": "stream",
     "text": [
      "<class 'pandas.core.frame.DataFrame'>\n",
      "Int64Index: 158 entries, 1 to 158\n",
      "Data columns (total 9 columns):\n",
      " #   Column   Non-Null Count  Dtype  \n",
      "---  ------   --------------  -----  \n",
      " 0   Ozone    120 non-null    float64\n",
      " 1   Solar.R  151 non-null    float64\n",
      " 2   Wind     158 non-null    float64\n",
      " 3   Temp C   158 non-null    object \n",
      " 4   Month    158 non-null    object \n",
      " 5   Day      158 non-null    int64  \n",
      " 6   Year     158 non-null    int64  \n",
      " 7   Temp     158 non-null    int64  \n",
      " 8   Weather  155 non-null    object \n",
      "dtypes: float64(3), int64(3), object(3)\n",
      "memory usage: 12.3+ KB\n"
     ]
    }
   ],
   "source": [
    "data1.info()"
   ]
  },
  {
   "cell_type": "code",
   "execution_count": 11,
   "metadata": {
    "id": "WR_UAWDVHiJq"
   },
   "outputs": [
    {
     "data": {
      "text/html": [
       "<div>\n",
       "<style scoped>\n",
       "    .dataframe tbody tr th:only-of-type {\n",
       "        vertical-align: middle;\n",
       "    }\n",
       "\n",
       "    .dataframe tbody tr th {\n",
       "        vertical-align: top;\n",
       "    }\n",
       "\n",
       "    .dataframe thead th {\n",
       "        text-align: right;\n",
       "    }\n",
       "</style>\n",
       "<table border=\"1\" class=\"dataframe\">\n",
       "  <thead>\n",
       "    <tr style=\"text-align: right;\">\n",
       "      <th></th>\n",
       "      <th>Ozone</th>\n",
       "      <th>Solar.R</th>\n",
       "      <th>Wind</th>\n",
       "      <th>Temp C</th>\n",
       "      <th>Month</th>\n",
       "      <th>Day</th>\n",
       "      <th>Year</th>\n",
       "      <th>Temp</th>\n",
       "      <th>Weather</th>\n",
       "    </tr>\n",
       "  </thead>\n",
       "  <tbody>\n",
       "    <tr>\n",
       "      <th>1</th>\n",
       "      <td>41.0</td>\n",
       "      <td>190.0</td>\n",
       "      <td>7.4</td>\n",
       "      <td>67</td>\n",
       "      <td>5</td>\n",
       "      <td>1</td>\n",
       "      <td>2010</td>\n",
       "      <td>67</td>\n",
       "      <td>S</td>\n",
       "    </tr>\n",
       "    <tr>\n",
       "      <th>2</th>\n",
       "      <td>36.0</td>\n",
       "      <td>118.0</td>\n",
       "      <td>8.0</td>\n",
       "      <td>72</td>\n",
       "      <td>5</td>\n",
       "      <td>2</td>\n",
       "      <td>2010</td>\n",
       "      <td>72</td>\n",
       "      <td>C</td>\n",
       "    </tr>\n",
       "    <tr>\n",
       "      <th>3</th>\n",
       "      <td>12.0</td>\n",
       "      <td>149.0</td>\n",
       "      <td>12.6</td>\n",
       "      <td>74</td>\n",
       "      <td>5</td>\n",
       "      <td>3</td>\n",
       "      <td>2010</td>\n",
       "      <td>74</td>\n",
       "      <td>PS</td>\n",
       "    </tr>\n",
       "    <tr>\n",
       "      <th>4</th>\n",
       "      <td>18.0</td>\n",
       "      <td>313.0</td>\n",
       "      <td>11.5</td>\n",
       "      <td>62</td>\n",
       "      <td>5</td>\n",
       "      <td>4</td>\n",
       "      <td>2010</td>\n",
       "      <td>62</td>\n",
       "      <td>S</td>\n",
       "    </tr>\n",
       "    <tr>\n",
       "      <th>5</th>\n",
       "      <td>NaN</td>\n",
       "      <td>NaN</td>\n",
       "      <td>14.3</td>\n",
       "      <td>56</td>\n",
       "      <td>5</td>\n",
       "      <td>5</td>\n",
       "      <td>2010</td>\n",
       "      <td>56</td>\n",
       "      <td>S</td>\n",
       "    </tr>\n",
       "    <tr>\n",
       "      <th>...</th>\n",
       "      <td>...</td>\n",
       "      <td>...</td>\n",
       "      <td>...</td>\n",
       "      <td>...</td>\n",
       "      <td>...</td>\n",
       "      <td>...</td>\n",
       "      <td>...</td>\n",
       "      <td>...</td>\n",
       "      <td>...</td>\n",
       "    </tr>\n",
       "    <tr>\n",
       "      <th>154</th>\n",
       "      <td>41.0</td>\n",
       "      <td>190.0</td>\n",
       "      <td>7.4</td>\n",
       "      <td>67</td>\n",
       "      <td>5</td>\n",
       "      <td>1</td>\n",
       "      <td>2010</td>\n",
       "      <td>67</td>\n",
       "      <td>C</td>\n",
       "    </tr>\n",
       "    <tr>\n",
       "      <th>155</th>\n",
       "      <td>30.0</td>\n",
       "      <td>193.0</td>\n",
       "      <td>6.9</td>\n",
       "      <td>70</td>\n",
       "      <td>9</td>\n",
       "      <td>26</td>\n",
       "      <td>2010</td>\n",
       "      <td>70</td>\n",
       "      <td>PS</td>\n",
       "    </tr>\n",
       "    <tr>\n",
       "      <th>156</th>\n",
       "      <td>NaN</td>\n",
       "      <td>145.0</td>\n",
       "      <td>13.2</td>\n",
       "      <td>77</td>\n",
       "      <td>9</td>\n",
       "      <td>27</td>\n",
       "      <td>2010</td>\n",
       "      <td>77</td>\n",
       "      <td>S</td>\n",
       "    </tr>\n",
       "    <tr>\n",
       "      <th>157</th>\n",
       "      <td>14.0</td>\n",
       "      <td>191.0</td>\n",
       "      <td>14.3</td>\n",
       "      <td>75</td>\n",
       "      <td>9</td>\n",
       "      <td>28</td>\n",
       "      <td>2010</td>\n",
       "      <td>75</td>\n",
       "      <td>S</td>\n",
       "    </tr>\n",
       "    <tr>\n",
       "      <th>158</th>\n",
       "      <td>18.0</td>\n",
       "      <td>131.0</td>\n",
       "      <td>8.0</td>\n",
       "      <td>76</td>\n",
       "      <td>9</td>\n",
       "      <td>29</td>\n",
       "      <td>2010</td>\n",
       "      <td>76</td>\n",
       "      <td>C</td>\n",
       "    </tr>\n",
       "  </tbody>\n",
       "</table>\n",
       "<p>158 rows × 9 columns</p>\n",
       "</div>"
      ],
      "text/plain": [
       "     Ozone  Solar.R  Wind Temp C Month  Day  Year  Temp Weather\n",
       "1     41.0    190.0   7.4     67     5    1  2010    67       S\n",
       "2     36.0    118.0   8.0     72     5    2  2010    72       C\n",
       "3     12.0    149.0  12.6     74     5    3  2010    74      PS\n",
       "4     18.0    313.0  11.5     62     5    4  2010    62       S\n",
       "5      NaN      NaN  14.3     56     5    5  2010    56       S\n",
       "..     ...      ...   ...    ...   ...  ...   ...   ...     ...\n",
       "154   41.0    190.0   7.4     67     5    1  2010    67       C\n",
       "155   30.0    193.0   6.9     70     9   26  2010    70      PS\n",
       "156    NaN    145.0  13.2     77     9   27  2010    77       S\n",
       "157   14.0    191.0  14.3     75     9   28  2010    75       S\n",
       "158   18.0    131.0   8.0     76     9   29  2010    76       C\n",
       "\n",
       "[158 rows x 9 columns]"
      ]
     },
     "execution_count": 11,
     "metadata": {},
     "output_type": "execute_result"
    }
   ],
   "source": [
    "data1"
   ]
  },
  {
   "cell_type": "code",
   "execution_count": 12,
   "metadata": {
    "id": "Awf2u76UHiJr"
   },
   "outputs": [],
   "source": [
    "data2=data1"
   ]
  },
  {
   "cell_type": "code",
   "execution_count": 13,
   "metadata": {
    "id": "BliDGqSlHiJt"
   },
   "outputs": [
    {
     "data": {
      "text/html": [
       "<div>\n",
       "<style scoped>\n",
       "    .dataframe tbody tr th:only-of-type {\n",
       "        vertical-align: middle;\n",
       "    }\n",
       "\n",
       "    .dataframe tbody tr th {\n",
       "        vertical-align: top;\n",
       "    }\n",
       "\n",
       "    .dataframe thead th {\n",
       "        text-align: right;\n",
       "    }\n",
       "</style>\n",
       "<table border=\"1\" class=\"dataframe\">\n",
       "  <thead>\n",
       "    <tr style=\"text-align: right;\">\n",
       "      <th></th>\n",
       "      <th>Ozone</th>\n",
       "      <th>Solar.R</th>\n",
       "      <th>Wind</th>\n",
       "      <th>Temp C</th>\n",
       "      <th>Month</th>\n",
       "      <th>Day</th>\n",
       "      <th>Year</th>\n",
       "      <th>Temp</th>\n",
       "      <th>Weather</th>\n",
       "    </tr>\n",
       "  </thead>\n",
       "  <tbody>\n",
       "    <tr>\n",
       "      <th>1</th>\n",
       "      <td>41.0</td>\n",
       "      <td>190.0</td>\n",
       "      <td>7.4</td>\n",
       "      <td>67</td>\n",
       "      <td>5</td>\n",
       "      <td>1</td>\n",
       "      <td>2010</td>\n",
       "      <td>67</td>\n",
       "      <td>S</td>\n",
       "    </tr>\n",
       "    <tr>\n",
       "      <th>2</th>\n",
       "      <td>36.0</td>\n",
       "      <td>118.0</td>\n",
       "      <td>8.0</td>\n",
       "      <td>72</td>\n",
       "      <td>5</td>\n",
       "      <td>2</td>\n",
       "      <td>2010</td>\n",
       "      <td>72</td>\n",
       "      <td>C</td>\n",
       "    </tr>\n",
       "    <tr>\n",
       "      <th>3</th>\n",
       "      <td>12.0</td>\n",
       "      <td>149.0</td>\n",
       "      <td>12.6</td>\n",
       "      <td>74</td>\n",
       "      <td>5</td>\n",
       "      <td>3</td>\n",
       "      <td>2010</td>\n",
       "      <td>74</td>\n",
       "      <td>PS</td>\n",
       "    </tr>\n",
       "    <tr>\n",
       "      <th>4</th>\n",
       "      <td>18.0</td>\n",
       "      <td>313.0</td>\n",
       "      <td>11.5</td>\n",
       "      <td>62</td>\n",
       "      <td>5</td>\n",
       "      <td>4</td>\n",
       "      <td>2010</td>\n",
       "      <td>62</td>\n",
       "      <td>S</td>\n",
       "    </tr>\n",
       "    <tr>\n",
       "      <th>5</th>\n",
       "      <td>NaN</td>\n",
       "      <td>NaN</td>\n",
       "      <td>14.3</td>\n",
       "      <td>56</td>\n",
       "      <td>5</td>\n",
       "      <td>5</td>\n",
       "      <td>2010</td>\n",
       "      <td>56</td>\n",
       "      <td>S</td>\n",
       "    </tr>\n",
       "    <tr>\n",
       "      <th>...</th>\n",
       "      <td>...</td>\n",
       "      <td>...</td>\n",
       "      <td>...</td>\n",
       "      <td>...</td>\n",
       "      <td>...</td>\n",
       "      <td>...</td>\n",
       "      <td>...</td>\n",
       "      <td>...</td>\n",
       "      <td>...</td>\n",
       "    </tr>\n",
       "    <tr>\n",
       "      <th>154</th>\n",
       "      <td>41.0</td>\n",
       "      <td>190.0</td>\n",
       "      <td>7.4</td>\n",
       "      <td>67</td>\n",
       "      <td>5</td>\n",
       "      <td>1</td>\n",
       "      <td>2010</td>\n",
       "      <td>67</td>\n",
       "      <td>C</td>\n",
       "    </tr>\n",
       "    <tr>\n",
       "      <th>155</th>\n",
       "      <td>30.0</td>\n",
       "      <td>193.0</td>\n",
       "      <td>6.9</td>\n",
       "      <td>70</td>\n",
       "      <td>9</td>\n",
       "      <td>26</td>\n",
       "      <td>2010</td>\n",
       "      <td>70</td>\n",
       "      <td>PS</td>\n",
       "    </tr>\n",
       "    <tr>\n",
       "      <th>156</th>\n",
       "      <td>NaN</td>\n",
       "      <td>145.0</td>\n",
       "      <td>13.2</td>\n",
       "      <td>77</td>\n",
       "      <td>9</td>\n",
       "      <td>27</td>\n",
       "      <td>2010</td>\n",
       "      <td>77</td>\n",
       "      <td>S</td>\n",
       "    </tr>\n",
       "    <tr>\n",
       "      <th>157</th>\n",
       "      <td>14.0</td>\n",
       "      <td>191.0</td>\n",
       "      <td>14.3</td>\n",
       "      <td>75</td>\n",
       "      <td>9</td>\n",
       "      <td>28</td>\n",
       "      <td>2010</td>\n",
       "      <td>75</td>\n",
       "      <td>S</td>\n",
       "    </tr>\n",
       "    <tr>\n",
       "      <th>158</th>\n",
       "      <td>18.0</td>\n",
       "      <td>131.0</td>\n",
       "      <td>8.0</td>\n",
       "      <td>76</td>\n",
       "      <td>9</td>\n",
       "      <td>29</td>\n",
       "      <td>2010</td>\n",
       "      <td>76</td>\n",
       "      <td>C</td>\n",
       "    </tr>\n",
       "  </tbody>\n",
       "</table>\n",
       "<p>158 rows × 9 columns</p>\n",
       "</div>"
      ],
      "text/plain": [
       "     Ozone  Solar.R  Wind Temp C Month  Day  Year  Temp Weather\n",
       "1     41.0    190.0   7.4     67     5    1  2010    67       S\n",
       "2     36.0    118.0   8.0     72     5    2  2010    72       C\n",
       "3     12.0    149.0  12.6     74     5    3  2010    74      PS\n",
       "4     18.0    313.0  11.5     62     5    4  2010    62       S\n",
       "5      NaN      NaN  14.3     56     5    5  2010    56       S\n",
       "..     ...      ...   ...    ...   ...  ...   ...   ...     ...\n",
       "154   41.0    190.0   7.4     67     5    1  2010    67       C\n",
       "155   30.0    193.0   6.9     70     9   26  2010    70      PS\n",
       "156    NaN    145.0  13.2     77     9   27  2010    77       S\n",
       "157   14.0    191.0  14.3     75     9   28  2010    75       S\n",
       "158   18.0    131.0   8.0     76     9   29  2010    76       C\n",
       "\n",
       "[158 rows x 9 columns]"
      ]
     },
     "execution_count": 13,
     "metadata": {},
     "output_type": "execute_result"
    }
   ],
   "source": [
    "data2"
   ]
  },
  {
   "cell_type": "code",
   "execution_count": 14,
   "metadata": {
    "id": "G6flDoBJHiJu"
   },
   "outputs": [],
   "source": [
    "#The method .copy() is used here so that any changes made in new DataFrame don't get reflected in the original one\n",
    "data=data2.copy()"
   ]
  },
  {
   "cell_type": "code",
   "execution_count": 15,
   "metadata": {
    "id": "JGs0fEOiHiJv"
   },
   "outputs": [],
   "source": [
    "data['Month']=pd.to_numeric(data['Month'],errors='coerce')\n",
    "data['Temp C']=pd.to_numeric(data['Temp C'],errors='coerce')# coerce will introduce NA values for non numeric data in the columns\n",
    "data['Weather']=data['Weather'].astype('category')           #data['Wind']=data['Wind'].astype('int64')"
   ]
  },
  {
   "cell_type": "code",
   "execution_count": 16,
   "metadata": {
    "id": "3Wh-Lj1GHiJ0"
   },
   "outputs": [
    {
     "name": "stdout",
     "output_type": "stream",
     "text": [
      "<class 'pandas.core.frame.DataFrame'>\n",
      "Int64Index: 158 entries, 1 to 158\n",
      "Data columns (total 9 columns):\n",
      " #   Column   Non-Null Count  Dtype   \n",
      "---  ------   --------------  -----   \n",
      " 0   Ozone    120 non-null    float64 \n",
      " 1   Solar.R  151 non-null    float64 \n",
      " 2   Wind     158 non-null    float64 \n",
      " 3   Temp C   157 non-null    float64 \n",
      " 4   Month    157 non-null    float64 \n",
      " 5   Day      158 non-null    int64   \n",
      " 6   Year     158 non-null    int64   \n",
      " 7   Temp     158 non-null    int64   \n",
      " 8   Weather  155 non-null    category\n",
      "dtypes: category(1), float64(5), int64(3)\n",
      "memory usage: 11.4 KB\n"
     ]
    }
   ],
   "source": [
    "data.info()"
   ]
  },
  {
   "cell_type": "markdown",
   "metadata": {
    "id": "NFJqe1_hHiJ0"
   },
   "source": [
    "# Duplicates"
   ]
  },
  {
   "cell_type": "code",
   "execution_count": 17,
   "metadata": {
    "id": "_KpAyz_YHiJ1"
   },
   "outputs": [
    {
     "data": {
      "text/plain": [
       "(1, 9)"
      ]
     },
     "execution_count": 17,
     "metadata": {},
     "output_type": "execute_result"
    }
   ],
   "source": [
    "#Count of duplicated rows\n",
    "data[data.duplicated()].shape"
   ]
  },
  {
   "cell_type": "code",
   "execution_count": 18,
   "metadata": {
    "id": "aqANozf_HiJ1"
   },
   "outputs": [
    {
     "data": {
      "text/html": [
       "<div>\n",
       "<style scoped>\n",
       "    .dataframe tbody tr th:only-of-type {\n",
       "        vertical-align: middle;\n",
       "    }\n",
       "\n",
       "    .dataframe tbody tr th {\n",
       "        vertical-align: top;\n",
       "    }\n",
       "\n",
       "    .dataframe thead th {\n",
       "        text-align: right;\n",
       "    }\n",
       "</style>\n",
       "<table border=\"1\" class=\"dataframe\">\n",
       "  <thead>\n",
       "    <tr style=\"text-align: right;\">\n",
       "      <th></th>\n",
       "      <th>Ozone</th>\n",
       "      <th>Solar.R</th>\n",
       "      <th>Wind</th>\n",
       "      <th>Temp C</th>\n",
       "      <th>Month</th>\n",
       "      <th>Day</th>\n",
       "      <th>Year</th>\n",
       "      <th>Temp</th>\n",
       "      <th>Weather</th>\n",
       "    </tr>\n",
       "  </thead>\n",
       "  <tbody>\n",
       "    <tr>\n",
       "      <th>1</th>\n",
       "      <td>41.0</td>\n",
       "      <td>190.0</td>\n",
       "      <td>7.4</td>\n",
       "      <td>67.0</td>\n",
       "      <td>5.0</td>\n",
       "      <td>1</td>\n",
       "      <td>2010</td>\n",
       "      <td>67</td>\n",
       "      <td>S</td>\n",
       "    </tr>\n",
       "    <tr>\n",
       "      <th>2</th>\n",
       "      <td>36.0</td>\n",
       "      <td>118.0</td>\n",
       "      <td>8.0</td>\n",
       "      <td>72.0</td>\n",
       "      <td>5.0</td>\n",
       "      <td>2</td>\n",
       "      <td>2010</td>\n",
       "      <td>72</td>\n",
       "      <td>C</td>\n",
       "    </tr>\n",
       "    <tr>\n",
       "      <th>3</th>\n",
       "      <td>12.0</td>\n",
       "      <td>149.0</td>\n",
       "      <td>12.6</td>\n",
       "      <td>74.0</td>\n",
       "      <td>5.0</td>\n",
       "      <td>3</td>\n",
       "      <td>2010</td>\n",
       "      <td>74</td>\n",
       "      <td>PS</td>\n",
       "    </tr>\n",
       "    <tr>\n",
       "      <th>4</th>\n",
       "      <td>18.0</td>\n",
       "      <td>313.0</td>\n",
       "      <td>11.5</td>\n",
       "      <td>62.0</td>\n",
       "      <td>5.0</td>\n",
       "      <td>4</td>\n",
       "      <td>2010</td>\n",
       "      <td>62</td>\n",
       "      <td>S</td>\n",
       "    </tr>\n",
       "    <tr>\n",
       "      <th>5</th>\n",
       "      <td>NaN</td>\n",
       "      <td>NaN</td>\n",
       "      <td>14.3</td>\n",
       "      <td>56.0</td>\n",
       "      <td>5.0</td>\n",
       "      <td>5</td>\n",
       "      <td>2010</td>\n",
       "      <td>56</td>\n",
       "      <td>S</td>\n",
       "    </tr>\n",
       "    <tr>\n",
       "      <th>...</th>\n",
       "      <td>...</td>\n",
       "      <td>...</td>\n",
       "      <td>...</td>\n",
       "      <td>...</td>\n",
       "      <td>...</td>\n",
       "      <td>...</td>\n",
       "      <td>...</td>\n",
       "      <td>...</td>\n",
       "      <td>...</td>\n",
       "    </tr>\n",
       "    <tr>\n",
       "      <th>154</th>\n",
       "      <td>41.0</td>\n",
       "      <td>190.0</td>\n",
       "      <td>7.4</td>\n",
       "      <td>67.0</td>\n",
       "      <td>5.0</td>\n",
       "      <td>1</td>\n",
       "      <td>2010</td>\n",
       "      <td>67</td>\n",
       "      <td>C</td>\n",
       "    </tr>\n",
       "    <tr>\n",
       "      <th>155</th>\n",
       "      <td>30.0</td>\n",
       "      <td>193.0</td>\n",
       "      <td>6.9</td>\n",
       "      <td>70.0</td>\n",
       "      <td>9.0</td>\n",
       "      <td>26</td>\n",
       "      <td>2010</td>\n",
       "      <td>70</td>\n",
       "      <td>PS</td>\n",
       "    </tr>\n",
       "    <tr>\n",
       "      <th>156</th>\n",
       "      <td>NaN</td>\n",
       "      <td>145.0</td>\n",
       "      <td>13.2</td>\n",
       "      <td>77.0</td>\n",
       "      <td>9.0</td>\n",
       "      <td>27</td>\n",
       "      <td>2010</td>\n",
       "      <td>77</td>\n",
       "      <td>S</td>\n",
       "    </tr>\n",
       "    <tr>\n",
       "      <th>157</th>\n",
       "      <td>14.0</td>\n",
       "      <td>191.0</td>\n",
       "      <td>14.3</td>\n",
       "      <td>75.0</td>\n",
       "      <td>9.0</td>\n",
       "      <td>28</td>\n",
       "      <td>2010</td>\n",
       "      <td>75</td>\n",
       "      <td>S</td>\n",
       "    </tr>\n",
       "    <tr>\n",
       "      <th>158</th>\n",
       "      <td>18.0</td>\n",
       "      <td>131.0</td>\n",
       "      <td>8.0</td>\n",
       "      <td>76.0</td>\n",
       "      <td>9.0</td>\n",
       "      <td>29</td>\n",
       "      <td>2010</td>\n",
       "      <td>76</td>\n",
       "      <td>C</td>\n",
       "    </tr>\n",
       "  </tbody>\n",
       "</table>\n",
       "<p>158 rows × 9 columns</p>\n",
       "</div>"
      ],
      "text/plain": [
       "     Ozone  Solar.R  Wind  Temp C  Month  Day  Year  Temp Weather\n",
       "1     41.0    190.0   7.4    67.0    5.0    1  2010    67       S\n",
       "2     36.0    118.0   8.0    72.0    5.0    2  2010    72       C\n",
       "3     12.0    149.0  12.6    74.0    5.0    3  2010    74      PS\n",
       "4     18.0    313.0  11.5    62.0    5.0    4  2010    62       S\n",
       "5      NaN      NaN  14.3    56.0    5.0    5  2010    56       S\n",
       "..     ...      ...   ...     ...    ...  ...   ...   ...     ...\n",
       "154   41.0    190.0   7.4    67.0    5.0    1  2010    67       C\n",
       "155   30.0    193.0   6.9    70.0    9.0   26  2010    70      PS\n",
       "156    NaN    145.0  13.2    77.0    9.0   27  2010    77       S\n",
       "157   14.0    191.0  14.3    75.0    9.0   28  2010    75       S\n",
       "158   18.0    131.0   8.0    76.0    9.0   29  2010    76       C\n",
       "\n",
       "[158 rows x 9 columns]"
      ]
     },
     "execution_count": 18,
     "metadata": {},
     "output_type": "execute_result"
    }
   ],
   "source": [
    "data"
   ]
  },
  {
   "cell_type": "code",
   "execution_count": 19,
   "metadata": {
    "id": "KFQoZYgWHiJ2"
   },
   "outputs": [
    {
     "data": {
      "text/html": [
       "<div>\n",
       "<style scoped>\n",
       "    .dataframe tbody tr th:only-of-type {\n",
       "        vertical-align: middle;\n",
       "    }\n",
       "\n",
       "    .dataframe tbody tr th {\n",
       "        vertical-align: top;\n",
       "    }\n",
       "\n",
       "    .dataframe thead th {\n",
       "        text-align: right;\n",
       "    }\n",
       "</style>\n",
       "<table border=\"1\" class=\"dataframe\">\n",
       "  <thead>\n",
       "    <tr style=\"text-align: right;\">\n",
       "      <th></th>\n",
       "      <th>Ozone</th>\n",
       "      <th>Solar.R</th>\n",
       "      <th>Wind</th>\n",
       "      <th>Temp C</th>\n",
       "      <th>Month</th>\n",
       "      <th>Day</th>\n",
       "      <th>Year</th>\n",
       "      <th>Temp</th>\n",
       "      <th>Weather</th>\n",
       "    </tr>\n",
       "  </thead>\n",
       "  <tbody>\n",
       "    <tr>\n",
       "      <th>157</th>\n",
       "      <td>14.0</td>\n",
       "      <td>191.0</td>\n",
       "      <td>14.3</td>\n",
       "      <td>75.0</td>\n",
       "      <td>9.0</td>\n",
       "      <td>28</td>\n",
       "      <td>2010</td>\n",
       "      <td>75</td>\n",
       "      <td>S</td>\n",
       "    </tr>\n",
       "  </tbody>\n",
       "</table>\n",
       "</div>"
      ],
      "text/plain": [
       "     Ozone  Solar.R  Wind  Temp C  Month  Day  Year  Temp Weather\n",
       "157   14.0    191.0  14.3    75.0    9.0   28  2010    75       S"
      ]
     },
     "execution_count": 19,
     "metadata": {},
     "output_type": "execute_result"
    }
   ],
   "source": [
    "#Print the duplicated rows\n",
    "data[data.duplicated()]"
   ]
  },
  {
   "cell_type": "code",
   "execution_count": 20,
   "metadata": {
    "id": "p3io6gqtHiJ2"
   },
   "outputs": [],
   "source": [
    "data_cleaned1=data.drop_duplicates()"
   ]
  },
  {
   "cell_type": "code",
   "execution_count": 21,
   "metadata": {
    "id": "_lqUKsaaHiJ3"
   },
   "outputs": [
    {
     "data": {
      "text/plain": [
       "(157, 9)"
      ]
     },
     "execution_count": 21,
     "metadata": {},
     "output_type": "execute_result"
    }
   ],
   "source": [
    "data_cleaned1.shape"
   ]
  },
  {
   "cell_type": "markdown",
   "metadata": {
    "id": "zWe46hEUHiJ3"
   },
   "source": [
    "# Drop columns"
   ]
  },
  {
   "cell_type": "code",
   "execution_count": 22,
   "metadata": {
    "id": "P1Dgh5voHiJ7"
   },
   "outputs": [],
   "source": [
    "data_cleaned2=data_cleaned1.drop('Temp C',axis=1)"
   ]
  },
  {
   "cell_type": "code",
   "execution_count": 23,
   "metadata": {
    "id": "zVOUDnxvHiJ_"
   },
   "outputs": [
    {
     "data": {
      "text/html": [
       "<div>\n",
       "<style scoped>\n",
       "    .dataframe tbody tr th:only-of-type {\n",
       "        vertical-align: middle;\n",
       "    }\n",
       "\n",
       "    .dataframe tbody tr th {\n",
       "        vertical-align: top;\n",
       "    }\n",
       "\n",
       "    .dataframe thead th {\n",
       "        text-align: right;\n",
       "    }\n",
       "</style>\n",
       "<table border=\"1\" class=\"dataframe\">\n",
       "  <thead>\n",
       "    <tr style=\"text-align: right;\">\n",
       "      <th></th>\n",
       "      <th>Ozone</th>\n",
       "      <th>Solar.R</th>\n",
       "      <th>Wind</th>\n",
       "      <th>Month</th>\n",
       "      <th>Day</th>\n",
       "      <th>Year</th>\n",
       "      <th>Temp</th>\n",
       "      <th>Weather</th>\n",
       "    </tr>\n",
       "  </thead>\n",
       "  <tbody>\n",
       "    <tr>\n",
       "      <th>1</th>\n",
       "      <td>41.0</td>\n",
       "      <td>190.0</td>\n",
       "      <td>7.4</td>\n",
       "      <td>5.0</td>\n",
       "      <td>1</td>\n",
       "      <td>2010</td>\n",
       "      <td>67</td>\n",
       "      <td>S</td>\n",
       "    </tr>\n",
       "    <tr>\n",
       "      <th>2</th>\n",
       "      <td>36.0</td>\n",
       "      <td>118.0</td>\n",
       "      <td>8.0</td>\n",
       "      <td>5.0</td>\n",
       "      <td>2</td>\n",
       "      <td>2010</td>\n",
       "      <td>72</td>\n",
       "      <td>C</td>\n",
       "    </tr>\n",
       "    <tr>\n",
       "      <th>3</th>\n",
       "      <td>12.0</td>\n",
       "      <td>149.0</td>\n",
       "      <td>12.6</td>\n",
       "      <td>5.0</td>\n",
       "      <td>3</td>\n",
       "      <td>2010</td>\n",
       "      <td>74</td>\n",
       "      <td>PS</td>\n",
       "    </tr>\n",
       "    <tr>\n",
       "      <th>4</th>\n",
       "      <td>18.0</td>\n",
       "      <td>313.0</td>\n",
       "      <td>11.5</td>\n",
       "      <td>5.0</td>\n",
       "      <td>4</td>\n",
       "      <td>2010</td>\n",
       "      <td>62</td>\n",
       "      <td>S</td>\n",
       "    </tr>\n",
       "    <tr>\n",
       "      <th>5</th>\n",
       "      <td>NaN</td>\n",
       "      <td>NaN</td>\n",
       "      <td>14.3</td>\n",
       "      <td>5.0</td>\n",
       "      <td>5</td>\n",
       "      <td>2010</td>\n",
       "      <td>56</td>\n",
       "      <td>S</td>\n",
       "    </tr>\n",
       "    <tr>\n",
       "      <th>...</th>\n",
       "      <td>...</td>\n",
       "      <td>...</td>\n",
       "      <td>...</td>\n",
       "      <td>...</td>\n",
       "      <td>...</td>\n",
       "      <td>...</td>\n",
       "      <td>...</td>\n",
       "      <td>...</td>\n",
       "    </tr>\n",
       "    <tr>\n",
       "      <th>153</th>\n",
       "      <td>20.0</td>\n",
       "      <td>223.0</td>\n",
       "      <td>11.5</td>\n",
       "      <td>9.0</td>\n",
       "      <td>30</td>\n",
       "      <td>2010</td>\n",
       "      <td>68</td>\n",
       "      <td>S</td>\n",
       "    </tr>\n",
       "    <tr>\n",
       "      <th>154</th>\n",
       "      <td>41.0</td>\n",
       "      <td>190.0</td>\n",
       "      <td>7.4</td>\n",
       "      <td>5.0</td>\n",
       "      <td>1</td>\n",
       "      <td>2010</td>\n",
       "      <td>67</td>\n",
       "      <td>C</td>\n",
       "    </tr>\n",
       "    <tr>\n",
       "      <th>155</th>\n",
       "      <td>30.0</td>\n",
       "      <td>193.0</td>\n",
       "      <td>6.9</td>\n",
       "      <td>9.0</td>\n",
       "      <td>26</td>\n",
       "      <td>2010</td>\n",
       "      <td>70</td>\n",
       "      <td>PS</td>\n",
       "    </tr>\n",
       "    <tr>\n",
       "      <th>156</th>\n",
       "      <td>NaN</td>\n",
       "      <td>145.0</td>\n",
       "      <td>13.2</td>\n",
       "      <td>9.0</td>\n",
       "      <td>27</td>\n",
       "      <td>2010</td>\n",
       "      <td>77</td>\n",
       "      <td>S</td>\n",
       "    </tr>\n",
       "    <tr>\n",
       "      <th>158</th>\n",
       "      <td>18.0</td>\n",
       "      <td>131.0</td>\n",
       "      <td>8.0</td>\n",
       "      <td>9.0</td>\n",
       "      <td>29</td>\n",
       "      <td>2010</td>\n",
       "      <td>76</td>\n",
       "      <td>C</td>\n",
       "    </tr>\n",
       "  </tbody>\n",
       "</table>\n",
       "<p>157 rows × 8 columns</p>\n",
       "</div>"
      ],
      "text/plain": [
       "     Ozone  Solar.R  Wind  Month  Day  Year  Temp Weather\n",
       "1     41.0    190.0   7.4    5.0    1  2010    67       S\n",
       "2     36.0    118.0   8.0    5.0    2  2010    72       C\n",
       "3     12.0    149.0  12.6    5.0    3  2010    74      PS\n",
       "4     18.0    313.0  11.5    5.0    4  2010    62       S\n",
       "5      NaN      NaN  14.3    5.0    5  2010    56       S\n",
       "..     ...      ...   ...    ...  ...   ...   ...     ...\n",
       "153   20.0    223.0  11.5    9.0   30  2010    68       S\n",
       "154   41.0    190.0   7.4    5.0    1  2010    67       C\n",
       "155   30.0    193.0   6.9    9.0   26  2010    70      PS\n",
       "156    NaN    145.0  13.2    9.0   27  2010    77       S\n",
       "158   18.0    131.0   8.0    9.0   29  2010    76       C\n",
       "\n",
       "[157 rows x 8 columns]"
      ]
     },
     "execution_count": 23,
     "metadata": {},
     "output_type": "execute_result"
    }
   ],
   "source": [
    "data_cleaned2"
   ]
  },
  {
   "cell_type": "markdown",
   "metadata": {
    "id": "mu6o68KgHiKA"
   },
   "source": [
    "# Rename the columns"
   ]
  },
  {
   "cell_type": "code",
   "execution_count": 24,
   "metadata": {
    "id": "Kbuo1bNJHiKC"
   },
   "outputs": [],
   "source": [
    "#rename the Solar column\n",
    "data_cleaned3 = data_cleaned2.rename({'Solar.R': 'Solar'}, axis=1)"
   ]
  },
  {
   "cell_type": "code",
   "execution_count": 25,
   "metadata": {
    "id": "PtYfA49PHiKD"
   },
   "outputs": [
    {
     "data": {
      "text/html": [
       "<div>\n",
       "<style scoped>\n",
       "    .dataframe tbody tr th:only-of-type {\n",
       "        vertical-align: middle;\n",
       "    }\n",
       "\n",
       "    .dataframe tbody tr th {\n",
       "        vertical-align: top;\n",
       "    }\n",
       "\n",
       "    .dataframe thead th {\n",
       "        text-align: right;\n",
       "    }\n",
       "</style>\n",
       "<table border=\"1\" class=\"dataframe\">\n",
       "  <thead>\n",
       "    <tr style=\"text-align: right;\">\n",
       "      <th></th>\n",
       "      <th>Ozone</th>\n",
       "      <th>Solar</th>\n",
       "      <th>Wind</th>\n",
       "      <th>Month</th>\n",
       "      <th>Day</th>\n",
       "      <th>Year</th>\n",
       "      <th>Temp</th>\n",
       "      <th>Weather</th>\n",
       "    </tr>\n",
       "  </thead>\n",
       "  <tbody>\n",
       "    <tr>\n",
       "      <th>1</th>\n",
       "      <td>41.0</td>\n",
       "      <td>190.0</td>\n",
       "      <td>7.4</td>\n",
       "      <td>5.0</td>\n",
       "      <td>1</td>\n",
       "      <td>2010</td>\n",
       "      <td>67</td>\n",
       "      <td>S</td>\n",
       "    </tr>\n",
       "    <tr>\n",
       "      <th>2</th>\n",
       "      <td>36.0</td>\n",
       "      <td>118.0</td>\n",
       "      <td>8.0</td>\n",
       "      <td>5.0</td>\n",
       "      <td>2</td>\n",
       "      <td>2010</td>\n",
       "      <td>72</td>\n",
       "      <td>C</td>\n",
       "    </tr>\n",
       "    <tr>\n",
       "      <th>3</th>\n",
       "      <td>12.0</td>\n",
       "      <td>149.0</td>\n",
       "      <td>12.6</td>\n",
       "      <td>5.0</td>\n",
       "      <td>3</td>\n",
       "      <td>2010</td>\n",
       "      <td>74</td>\n",
       "      <td>PS</td>\n",
       "    </tr>\n",
       "    <tr>\n",
       "      <th>4</th>\n",
       "      <td>18.0</td>\n",
       "      <td>313.0</td>\n",
       "      <td>11.5</td>\n",
       "      <td>5.0</td>\n",
       "      <td>4</td>\n",
       "      <td>2010</td>\n",
       "      <td>62</td>\n",
       "      <td>S</td>\n",
       "    </tr>\n",
       "    <tr>\n",
       "      <th>5</th>\n",
       "      <td>NaN</td>\n",
       "      <td>NaN</td>\n",
       "      <td>14.3</td>\n",
       "      <td>5.0</td>\n",
       "      <td>5</td>\n",
       "      <td>2010</td>\n",
       "      <td>56</td>\n",
       "      <td>S</td>\n",
       "    </tr>\n",
       "    <tr>\n",
       "      <th>...</th>\n",
       "      <td>...</td>\n",
       "      <td>...</td>\n",
       "      <td>...</td>\n",
       "      <td>...</td>\n",
       "      <td>...</td>\n",
       "      <td>...</td>\n",
       "      <td>...</td>\n",
       "      <td>...</td>\n",
       "    </tr>\n",
       "    <tr>\n",
       "      <th>153</th>\n",
       "      <td>20.0</td>\n",
       "      <td>223.0</td>\n",
       "      <td>11.5</td>\n",
       "      <td>9.0</td>\n",
       "      <td>30</td>\n",
       "      <td>2010</td>\n",
       "      <td>68</td>\n",
       "      <td>S</td>\n",
       "    </tr>\n",
       "    <tr>\n",
       "      <th>154</th>\n",
       "      <td>41.0</td>\n",
       "      <td>190.0</td>\n",
       "      <td>7.4</td>\n",
       "      <td>5.0</td>\n",
       "      <td>1</td>\n",
       "      <td>2010</td>\n",
       "      <td>67</td>\n",
       "      <td>C</td>\n",
       "    </tr>\n",
       "    <tr>\n",
       "      <th>155</th>\n",
       "      <td>30.0</td>\n",
       "      <td>193.0</td>\n",
       "      <td>6.9</td>\n",
       "      <td>9.0</td>\n",
       "      <td>26</td>\n",
       "      <td>2010</td>\n",
       "      <td>70</td>\n",
       "      <td>PS</td>\n",
       "    </tr>\n",
       "    <tr>\n",
       "      <th>156</th>\n",
       "      <td>NaN</td>\n",
       "      <td>145.0</td>\n",
       "      <td>13.2</td>\n",
       "      <td>9.0</td>\n",
       "      <td>27</td>\n",
       "      <td>2010</td>\n",
       "      <td>77</td>\n",
       "      <td>S</td>\n",
       "    </tr>\n",
       "    <tr>\n",
       "      <th>158</th>\n",
       "      <td>18.0</td>\n",
       "      <td>131.0</td>\n",
       "      <td>8.0</td>\n",
       "      <td>9.0</td>\n",
       "      <td>29</td>\n",
       "      <td>2010</td>\n",
       "      <td>76</td>\n",
       "      <td>C</td>\n",
       "    </tr>\n",
       "  </tbody>\n",
       "</table>\n",
       "<p>157 rows × 8 columns</p>\n",
       "</div>"
      ],
      "text/plain": [
       "     Ozone  Solar  Wind  Month  Day  Year  Temp Weather\n",
       "1     41.0  190.0   7.4    5.0    1  2010    67       S\n",
       "2     36.0  118.0   8.0    5.0    2  2010    72       C\n",
       "3     12.0  149.0  12.6    5.0    3  2010    74      PS\n",
       "4     18.0  313.0  11.5    5.0    4  2010    62       S\n",
       "5      NaN    NaN  14.3    5.0    5  2010    56       S\n",
       "..     ...    ...   ...    ...  ...   ...   ...     ...\n",
       "153   20.0  223.0  11.5    9.0   30  2010    68       S\n",
       "154   41.0  190.0   7.4    5.0    1  2010    67       C\n",
       "155   30.0  193.0   6.9    9.0   26  2010    70      PS\n",
       "156    NaN  145.0  13.2    9.0   27  2010    77       S\n",
       "158   18.0  131.0   8.0    9.0   29  2010    76       C\n",
       "\n",
       "[157 rows x 8 columns]"
      ]
     },
     "execution_count": 25,
     "metadata": {},
     "output_type": "execute_result"
    }
   ],
   "source": [
    "data_cleaned3"
   ]
  },
  {
   "cell_type": "markdown",
   "metadata": {
    "id": "wSdskG8jHiKD"
   },
   "source": [
    "# Outlier Detection"
   ]
  },
  {
   "cell_type": "code",
   "execution_count": 26,
   "metadata": {
    "id": "H-zZbK1rHiKD"
   },
   "outputs": [
    {
     "data": {
      "text/plain": [
       "<matplotlib.axes._subplots.AxesSubplot at 0x18fe04600f0>"
      ]
     },
     "execution_count": 26,
     "metadata": {},
     "output_type": "execute_result"
    },
    {
     "data": {
      "image/png": "[encoded data removed]",
      "text/plain": [
       "<Figure size 576x396 with 1 Axes>"
      ]
     },
     "metadata": {},
     "output_type": "display_data"
    }
   ],
   "source": [
    "# histogram of Ozone\n",
    "data_cleaned3['Ozone'].hist()"
   ]
  },
  {
   "cell_type": "code",
   "execution_count": 27,
   "metadata": {
    "id": "-PA7fY2zHiKE"
   },
   "outputs": [
    {
     "data": {
      "text/plain": [
       "<matplotlib.axes._subplots.AxesSubplot at 0x18fe2540cf8>"
      ]
     },
     "execution_count": 27,
     "metadata": {},
     "output_type": "execute_result"
    },
    {
     "data": {
      "image/png": "[encoded data removed]",
      "text/plain": [
       "<Figure size 576x396 with 1 Axes>"
      ]
     },
     "metadata": {},
     "output_type": "display_data"
    }
   ],
   "source": [
    "#Box plot\n",
    "data_cleaned3.boxplot(column=['Ozone'])"
   ]
  },
  {
   "cell_type": "code",
   "execution_count": 28,
   "metadata": {
    "id": "X2BPRnXeHiKE"
   },
   "outputs": [
    {
     "data": {
      "text/plain": [
       "count    119.000000\n",
       "mean      41.815126\n",
       "std       32.659249\n",
       "min        1.000000\n",
       "25%       18.000000\n",
       "50%       31.000000\n",
       "75%       62.000000\n",
       "max      168.000000\n",
       "Name: Ozone, dtype: float64"
      ]
     },
     "execution_count": 28,
     "metadata": {},
     "output_type": "execute_result"
    }
   ],
   "source": [
    "#Descriptive stat\n",
    "data_cleaned3['Ozone'].describe()"
   ]
  },
  {
   "cell_type": "code",
   "execution_count": 29,
   "metadata": {
    "id": "BHsPIfTuHiKE"
   },
   "outputs": [
    {
     "data": {
      "text/html": [
       "<div>\n",
       "<style scoped>\n",
       "    .dataframe tbody tr th:only-of-type {\n",
       "        vertical-align: middle;\n",
       "    }\n",
       "\n",
       "    .dataframe tbody tr th {\n",
       "        vertical-align: top;\n",
       "    }\n",
       "\n",
       "    .dataframe thead th {\n",
       "        text-align: right;\n",
       "    }\n",
       "</style>\n",
       "<table border=\"1\" class=\"dataframe\">\n",
       "  <thead>\n",
       "    <tr style=\"text-align: right;\">\n",
       "      <th></th>\n",
       "      <th>Ozone</th>\n",
       "      <th>Solar</th>\n",
       "      <th>Wind</th>\n",
       "      <th>Month</th>\n",
       "      <th>Day</th>\n",
       "      <th>Year</th>\n",
       "      <th>Temp</th>\n",
       "      <th>Weather</th>\n",
       "    </tr>\n",
       "  </thead>\n",
       "  <tbody>\n",
       "    <tr>\n",
       "      <th>1</th>\n",
       "      <td>41.0</td>\n",
       "      <td>190.0</td>\n",
       "      <td>7.4</td>\n",
       "      <td>5.0</td>\n",
       "      <td>1</td>\n",
       "      <td>2010</td>\n",
       "      <td>67</td>\n",
       "      <td>S</td>\n",
       "    </tr>\n",
       "    <tr>\n",
       "      <th>2</th>\n",
       "      <td>36.0</td>\n",
       "      <td>118.0</td>\n",
       "      <td>8.0</td>\n",
       "      <td>5.0</td>\n",
       "      <td>2</td>\n",
       "      <td>2010</td>\n",
       "      <td>72</td>\n",
       "      <td>C</td>\n",
       "    </tr>\n",
       "    <tr>\n",
       "      <th>3</th>\n",
       "      <td>12.0</td>\n",
       "      <td>149.0</td>\n",
       "      <td>12.6</td>\n",
       "      <td>5.0</td>\n",
       "      <td>3</td>\n",
       "      <td>2010</td>\n",
       "      <td>74</td>\n",
       "      <td>PS</td>\n",
       "    </tr>\n",
       "    <tr>\n",
       "      <th>4</th>\n",
       "      <td>18.0</td>\n",
       "      <td>313.0</td>\n",
       "      <td>11.5</td>\n",
       "      <td>5.0</td>\n",
       "      <td>4</td>\n",
       "      <td>2010</td>\n",
       "      <td>62</td>\n",
       "      <td>S</td>\n",
       "    </tr>\n",
       "    <tr>\n",
       "      <th>5</th>\n",
       "      <td>NaN</td>\n",
       "      <td>NaN</td>\n",
       "      <td>14.3</td>\n",
       "      <td>5.0</td>\n",
       "      <td>5</td>\n",
       "      <td>2010</td>\n",
       "      <td>56</td>\n",
       "      <td>S</td>\n",
       "    </tr>\n",
       "    <tr>\n",
       "      <th>...</th>\n",
       "      <td>...</td>\n",
       "      <td>...</td>\n",
       "      <td>...</td>\n",
       "      <td>...</td>\n",
       "      <td>...</td>\n",
       "      <td>...</td>\n",
       "      <td>...</td>\n",
       "      <td>...</td>\n",
       "    </tr>\n",
       "    <tr>\n",
       "      <th>153</th>\n",
       "      <td>20.0</td>\n",
       "      <td>223.0</td>\n",
       "      <td>11.5</td>\n",
       "      <td>9.0</td>\n",
       "      <td>30</td>\n",
       "      <td>2010</td>\n",
       "      <td>68</td>\n",
       "      <td>S</td>\n",
       "    </tr>\n",
       "    <tr>\n",
       "      <th>154</th>\n",
       "      <td>41.0</td>\n",
       "      <td>190.0</td>\n",
       "      <td>7.4</td>\n",
       "      <td>5.0</td>\n",
       "      <td>1</td>\n",
       "      <td>2010</td>\n",
       "      <td>67</td>\n",
       "      <td>C</td>\n",
       "    </tr>\n",
       "    <tr>\n",
       "      <th>155</th>\n",
       "      <td>30.0</td>\n",
       "      <td>193.0</td>\n",
       "      <td>6.9</td>\n",
       "      <td>9.0</td>\n",
       "      <td>26</td>\n",
       "      <td>2010</td>\n",
       "      <td>70</td>\n",
       "      <td>PS</td>\n",
       "    </tr>\n",
       "    <tr>\n",
       "      <th>156</th>\n",
       "      <td>NaN</td>\n",
       "      <td>145.0</td>\n",
       "      <td>13.2</td>\n",
       "      <td>9.0</td>\n",
       "      <td>27</td>\n",
       "      <td>2010</td>\n",
       "      <td>77</td>\n",
       "      <td>S</td>\n",
       "    </tr>\n",
       "    <tr>\n",
       "      <th>158</th>\n",
       "      <td>18.0</td>\n",
       "      <td>131.0</td>\n",
       "      <td>8.0</td>\n",
       "      <td>9.0</td>\n",
       "      <td>29</td>\n",
       "      <td>2010</td>\n",
       "      <td>76</td>\n",
       "      <td>C</td>\n",
       "    </tr>\n",
       "  </tbody>\n",
       "</table>\n",
       "<p>157 rows × 8 columns</p>\n",
       "</div>"
      ],
      "text/plain": [
       "     Ozone  Solar  Wind  Month  Day  Year  Temp Weather\n",
       "1     41.0  190.0   7.4    5.0    1  2010    67       S\n",
       "2     36.0  118.0   8.0    5.0    2  2010    72       C\n",
       "3     12.0  149.0  12.6    5.0    3  2010    74      PS\n",
       "4     18.0  313.0  11.5    5.0    4  2010    62       S\n",
       "5      NaN    NaN  14.3    5.0    5  2010    56       S\n",
       "..     ...    ...   ...    ...  ...   ...   ...     ...\n",
       "153   20.0  223.0  11.5    9.0   30  2010    68       S\n",
       "154   41.0  190.0   7.4    5.0    1  2010    67       C\n",
       "155   30.0  193.0   6.9    9.0   26  2010    70      PS\n",
       "156    NaN  145.0  13.2    9.0   27  2010    77       S\n",
       "158   18.0  131.0   8.0    9.0   29  2010    76       C\n",
       "\n",
       "[157 rows x 8 columns]"
      ]
     },
     "execution_count": 29,
     "metadata": {},
     "output_type": "execute_result"
    }
   ],
   "source": [
    "data_cleaned3"
   ]
  },
  {
   "cell_type": "code",
   "execution_count": 30,
   "metadata": {
    "id": "gmLCMlSSHiKE"
   },
   "outputs": [
    {
     "data": {
      "text/plain": [
       "<matplotlib.axes._subplots.AxesSubplot at 0x18fe25c6b38>"
      ]
     },
     "execution_count": 30,
     "metadata": {},
     "output_type": "execute_result"
    },
    {
     "data": {
      "image/png": "[encoded data removed]",
      "text/plain": [
       "<Figure size 576x396 with 1 Axes>"
      ]
     },
     "metadata": {},
     "output_type": "display_data"
    }
   ],
   "source": [
    "#Bar plot\n",
    "data['Weather'].value_counts().plot.bar()"
   ]
  },
  {
   "cell_type": "markdown",
   "metadata": {
    "id": "XPKlmxFQHiKF"
   },
   "source": [
    "# Missing Values and Imputation"
   ]
  },
  {
   "cell_type": "code",
   "execution_count": 31,
   "metadata": {
    "id": "cEemcw5mHiKF"
   },
   "outputs": [
    {
     "data": {
      "text/plain": [
       "<matplotlib.axes._subplots.AxesSubplot at 0x18fe262e358>"
      ]
     },
     "execution_count": 31,
     "metadata": {},
     "output_type": "execute_result"
    },
    {
     "data": {
      "image/png": "[encoded data removed]",
      "text/plain": [
       "<Figure size 576x396 with 2 Axes>"
      ]
     },
     "metadata": {},
     "output_type": "display_data"
    }
   ],
   "source": [
    "import seaborn as sns\n",
    "cols = data_cleaned3.columns \n",
    "colours = ['#000099', '#ffff00'] # specify the colours - yellow is missing. blue is not missing.\n",
    "sns.heatmap(data_cleaned3[cols].isnull(),\n",
    "            cmap=sns.color_palette(colours))"
   ]
  },
  {
   "cell_type": "code",
   "execution_count": 32,
   "metadata": {
    "id": "bDn1O9PNHiKF"
   },
   "outputs": [
    {
     "data": {
      "text/html": [
       "<div>\n",
       "<style scoped>\n",
       "    .dataframe tbody tr th:only-of-type {\n",
       "        vertical-align: middle;\n",
       "    }\n",
       "\n",
       "    .dataframe tbody tr th {\n",
       "        vertical-align: top;\n",
       "    }\n",
       "\n",
       "    .dataframe thead th {\n",
       "        text-align: right;\n",
       "    }\n",
       "</style>\n",
       "<table border=\"1\" class=\"dataframe\">\n",
       "  <thead>\n",
       "    <tr style=\"text-align: right;\">\n",
       "      <th></th>\n",
       "      <th>Ozone</th>\n",
       "      <th>Solar</th>\n",
       "      <th>Wind</th>\n",
       "      <th>Month</th>\n",
       "      <th>Day</th>\n",
       "      <th>Year</th>\n",
       "      <th>Temp</th>\n",
       "      <th>Weather</th>\n",
       "    </tr>\n",
       "  </thead>\n",
       "  <tbody>\n",
       "    <tr>\n",
       "      <th>5</th>\n",
       "      <td>NaN</td>\n",
       "      <td>NaN</td>\n",
       "      <td>14.3</td>\n",
       "      <td>5.0</td>\n",
       "      <td>5</td>\n",
       "      <td>2010</td>\n",
       "      <td>56</td>\n",
       "      <td>S</td>\n",
       "    </tr>\n",
       "    <tr>\n",
       "      <th>6</th>\n",
       "      <td>28.0</td>\n",
       "      <td>NaN</td>\n",
       "      <td>14.9</td>\n",
       "      <td>5.0</td>\n",
       "      <td>6</td>\n",
       "      <td>2010</td>\n",
       "      <td>66</td>\n",
       "      <td>C</td>\n",
       "    </tr>\n",
       "    <tr>\n",
       "      <th>10</th>\n",
       "      <td>NaN</td>\n",
       "      <td>194.0</td>\n",
       "      <td>8.6</td>\n",
       "      <td>5.0</td>\n",
       "      <td>10</td>\n",
       "      <td>2010</td>\n",
       "      <td>69</td>\n",
       "      <td>S</td>\n",
       "    </tr>\n",
       "    <tr>\n",
       "      <th>11</th>\n",
       "      <td>7.0</td>\n",
       "      <td>NaN</td>\n",
       "      <td>6.9</td>\n",
       "      <td>5.0</td>\n",
       "      <td>11</td>\n",
       "      <td>2010</td>\n",
       "      <td>74</td>\n",
       "      <td>C</td>\n",
       "    </tr>\n",
       "    <tr>\n",
       "      <th>24</th>\n",
       "      <td>32.0</td>\n",
       "      <td>92.0</td>\n",
       "      <td>12.0</td>\n",
       "      <td>NaN</td>\n",
       "      <td>24</td>\n",
       "      <td>2010</td>\n",
       "      <td>61</td>\n",
       "      <td>C</td>\n",
       "    </tr>\n",
       "  </tbody>\n",
       "</table>\n",
       "</div>"
      ],
      "text/plain": [
       "    Ozone  Solar  Wind  Month  Day  Year  Temp Weather\n",
       "5     NaN    NaN  14.3    5.0    5  2010    56       S\n",
       "6    28.0    NaN  14.9    5.0    6  2010    66       C\n",
       "10    NaN  194.0   8.6    5.0   10  2010    69       S\n",
       "11    7.0    NaN   6.9    5.0   11  2010    74       C\n",
       "24   32.0   92.0  12.0    NaN   24  2010    61       C"
      ]
     },
     "execution_count": 32,
     "metadata": {},
     "output_type": "execute_result"
    }
   ],
   "source": [
    "data_cleaned3[data_cleaned3.isnull().any(axis=1)].head()"
   ]
  },
  {
   "cell_type": "code",
   "execution_count": 33,
   "metadata": {
    "id": "S61OAKyQHiKF"
   },
   "outputs": [
    {
     "data": {
      "text/plain": [
       "Ozone      38\n",
       "Solar       7\n",
       "Wind        0\n",
       "Month       1\n",
       "Day         0\n",
       "Year        0\n",
       "Temp        0\n",
       "Weather     3\n",
       "dtype: int64"
      ]
     },
     "execution_count": 33,
     "metadata": {},
     "output_type": "execute_result"
    }
   ],
   "source": [
    "data_cleaned3.isnull().sum()"
   ]
  },
  {
   "cell_type": "code",
   "execution_count": 34,
   "metadata": {
    "id": "Q3Nh751PHiKG"
   },
   "outputs": [
    {
     "name": "stdout",
     "output_type": "stream",
     "text": [
      "41.81512605042017\n"
     ]
    }
   ],
   "source": [
    "#Mean Imputation\n",
    "mean = data_cleaned3['Ozone'].mean()\n",
    "print(mean)"
   ]
  },
  {
   "cell_type": "code",
   "execution_count": 35,
   "metadata": {
    "id": "A6bDzB6jHiKG"
   },
   "outputs": [],
   "source": [
    "data_cleaned3['Ozone'] = data_cleaned3['Ozone'].fillna(mean)"
   ]
  },
  {
   "cell_type": "code",
   "execution_count": 36,
   "metadata": {
    "id": "jRH2M0_lHiKG"
   },
   "outputs": [
    {
     "data": {
      "text/html": [
       "<div>\n",
       "<style scoped>\n",
       "    .dataframe tbody tr th:only-of-type {\n",
       "        vertical-align: middle;\n",
       "    }\n",
       "\n",
       "    .dataframe tbody tr th {\n",
       "        vertical-align: top;\n",
       "    }\n",
       "\n",
       "    .dataframe thead th {\n",
       "        text-align: right;\n",
       "    }\n",
       "</style>\n",
       "<table border=\"1\" class=\"dataframe\">\n",
       "  <thead>\n",
       "    <tr style=\"text-align: right;\">\n",
       "      <th></th>\n",
       "      <th>Ozone</th>\n",
       "      <th>Solar</th>\n",
       "      <th>Wind</th>\n",
       "      <th>Month</th>\n",
       "      <th>Day</th>\n",
       "      <th>Year</th>\n",
       "      <th>Temp</th>\n",
       "      <th>Weather</th>\n",
       "    </tr>\n",
       "  </thead>\n",
       "  <tbody>\n",
       "    <tr>\n",
       "      <th>1</th>\n",
       "      <td>41.000000</td>\n",
       "      <td>190.0</td>\n",
       "      <td>7.4</td>\n",
       "      <td>5.0</td>\n",
       "      <td>1</td>\n",
       "      <td>2010</td>\n",
       "      <td>67</td>\n",
       "      <td>S</td>\n",
       "    </tr>\n",
       "    <tr>\n",
       "      <th>2</th>\n",
       "      <td>36.000000</td>\n",
       "      <td>118.0</td>\n",
       "      <td>8.0</td>\n",
       "      <td>5.0</td>\n",
       "      <td>2</td>\n",
       "      <td>2010</td>\n",
       "      <td>72</td>\n",
       "      <td>C</td>\n",
       "    </tr>\n",
       "    <tr>\n",
       "      <th>3</th>\n",
       "      <td>12.000000</td>\n",
       "      <td>149.0</td>\n",
       "      <td>12.6</td>\n",
       "      <td>5.0</td>\n",
       "      <td>3</td>\n",
       "      <td>2010</td>\n",
       "      <td>74</td>\n",
       "      <td>PS</td>\n",
       "    </tr>\n",
       "    <tr>\n",
       "      <th>4</th>\n",
       "      <td>18.000000</td>\n",
       "      <td>313.0</td>\n",
       "      <td>11.5</td>\n",
       "      <td>5.0</td>\n",
       "      <td>4</td>\n",
       "      <td>2010</td>\n",
       "      <td>62</td>\n",
       "      <td>S</td>\n",
       "    </tr>\n",
       "    <tr>\n",
       "      <th>5</th>\n",
       "      <td>41.815126</td>\n",
       "      <td>NaN</td>\n",
       "      <td>14.3</td>\n",
       "      <td>5.0</td>\n",
       "      <td>5</td>\n",
       "      <td>2010</td>\n",
       "      <td>56</td>\n",
       "      <td>S</td>\n",
       "    </tr>\n",
       "    <tr>\n",
       "      <th>...</th>\n",
       "      <td>...</td>\n",
       "      <td>...</td>\n",
       "      <td>...</td>\n",
       "      <td>...</td>\n",
       "      <td>...</td>\n",
       "      <td>...</td>\n",
       "      <td>...</td>\n",
       "      <td>...</td>\n",
       "    </tr>\n",
       "    <tr>\n",
       "      <th>153</th>\n",
       "      <td>20.000000</td>\n",
       "      <td>223.0</td>\n",
       "      <td>11.5</td>\n",
       "      <td>9.0</td>\n",
       "      <td>30</td>\n",
       "      <td>2010</td>\n",
       "      <td>68</td>\n",
       "      <td>S</td>\n",
       "    </tr>\n",
       "    <tr>\n",
       "      <th>154</th>\n",
       "      <td>41.000000</td>\n",
       "      <td>190.0</td>\n",
       "      <td>7.4</td>\n",
       "      <td>5.0</td>\n",
       "      <td>1</td>\n",
       "      <td>2010</td>\n",
       "      <td>67</td>\n",
       "      <td>C</td>\n",
       "    </tr>\n",
       "    <tr>\n",
       "      <th>155</th>\n",
       "      <td>30.000000</td>\n",
       "      <td>193.0</td>\n",
       "      <td>6.9</td>\n",
       "      <td>9.0</td>\n",
       "      <td>26</td>\n",
       "      <td>2010</td>\n",
       "      <td>70</td>\n",
       "      <td>PS</td>\n",
       "    </tr>\n",
       "    <tr>\n",
       "      <th>156</th>\n",
       "      <td>41.815126</td>\n",
       "      <td>145.0</td>\n",
       "      <td>13.2</td>\n",
       "      <td>9.0</td>\n",
       "      <td>27</td>\n",
       "      <td>2010</td>\n",
       "      <td>77</td>\n",
       "      <td>S</td>\n",
       "    </tr>\n",
       "    <tr>\n",
       "      <th>158</th>\n",
       "      <td>18.000000</td>\n",
       "      <td>131.0</td>\n",
       "      <td>8.0</td>\n",
       "      <td>9.0</td>\n",
       "      <td>29</td>\n",
       "      <td>2010</td>\n",
       "      <td>76</td>\n",
       "      <td>C</td>\n",
       "    </tr>\n",
       "  </tbody>\n",
       "</table>\n",
       "<p>157 rows × 8 columns</p>\n",
       "</div>"
      ],
      "text/plain": [
       "         Ozone  Solar  Wind  Month  Day  Year  Temp Weather\n",
       "1    41.000000  190.0   7.4    5.0    1  2010    67       S\n",
       "2    36.000000  118.0   8.0    5.0    2  2010    72       C\n",
       "3    12.000000  149.0  12.6    5.0    3  2010    74      PS\n",
       "4    18.000000  313.0  11.5    5.0    4  2010    62       S\n",
       "5    41.815126    NaN  14.3    5.0    5  2010    56       S\n",
       "..         ...    ...   ...    ...  ...   ...   ...     ...\n",
       "153  20.000000  223.0  11.5    9.0   30  2010    68       S\n",
       "154  41.000000  190.0   7.4    5.0    1  2010    67       C\n",
       "155  30.000000  193.0   6.9    9.0   26  2010    70      PS\n",
       "156  41.815126  145.0  13.2    9.0   27  2010    77       S\n",
       "158  18.000000  131.0   8.0    9.0   29  2010    76       C\n",
       "\n",
       "[157 rows x 8 columns]"
      ]
     },
     "execution_count": 36,
     "metadata": {},
     "output_type": "execute_result"
    }
   ],
   "source": [
    "data_cleaned3"
   ]
  },
  {
   "cell_type": "code",
   "execution_count": 37,
   "metadata": {
    "id": "vYD4bO-BHiKG"
   },
   "outputs": [],
   "source": [
    "#Missing value imputation for categorical vlaue\n",
    "#Get the object columns\n",
    "obj_columns=data_cleaned3[['Weather']]"
   ]
  },
  {
   "cell_type": "code",
   "execution_count": 38,
   "metadata": {
    "id": "dAL2C9qpHiKH"
   },
   "outputs": [
    {
     "data": {
      "text/plain": [
       "Weather    3\n",
       "dtype: int64"
      ]
     },
     "execution_count": 38,
     "metadata": {},
     "output_type": "execute_result"
    }
   ],
   "source": [
    "obj_columns.isnull().sum()"
   ]
  },
  {
   "cell_type": "code",
   "execution_count": 39,
   "metadata": {
    "id": "BEZqbzZ6HiKH"
   },
   "outputs": [],
   "source": [
    "#Missing value imputation for categorical vlaue\n",
    "obj_columns=obj_columns.fillna(obj_columns.mode().iloc[0])"
   ]
  },
  {
   "cell_type": "code",
   "execution_count": 40,
   "metadata": {
    "id": "sC-0TCqsHiKH"
   },
   "outputs": [
    {
     "data": {
      "text/plain": [
       "Weather    0\n",
       "dtype: int64"
      ]
     },
     "execution_count": 40,
     "metadata": {},
     "output_type": "execute_result"
    }
   ],
   "source": [
    "obj_columns.isnull().sum()"
   ]
  },
  {
   "cell_type": "code",
   "execution_count": 41,
   "metadata": {
    "id": "lx-6VberHiKI"
   },
   "outputs": [
    {
     "data": {
      "text/plain": [
       "(157, 8)"
      ]
     },
     "execution_count": 41,
     "metadata": {},
     "output_type": "execute_result"
    }
   ],
   "source": [
    "data_cleaned3.shape"
   ]
  },
  {
   "cell_type": "code",
   "execution_count": 42,
   "metadata": {
    "id": "cnR0aM0VHiKI"
   },
   "outputs": [
    {
     "data": {
      "text/plain": [
       "(157, 1)"
      ]
     },
     "execution_count": 42,
     "metadata": {},
     "output_type": "execute_result"
    }
   ],
   "source": [
    "obj_columns.shape"
   ]
  },
  {
   "cell_type": "code",
   "execution_count": 43,
   "metadata": {
    "id": "nEsfFYzdHiKI"
   },
   "outputs": [],
   "source": [
    "#Join the data set with imputed object dataset\n",
    "data_cleaned4=pd.concat([data_cleaned3,obj_columns],axis=1)"
   ]
  },
  {
   "cell_type": "code",
   "execution_count": 44,
   "metadata": {
    "id": "4dU5FvS7HiKI"
   },
   "outputs": [
    {
     "data": {
      "text/plain": [
       "Ozone      0\n",
       "Solar      7\n",
       "Wind       0\n",
       "Month      1\n",
       "Day        0\n",
       "Year       0\n",
       "Temp       0\n",
       "Weather    3\n",
       "Weather    0\n",
       "dtype: int64"
      ]
     },
     "execution_count": 44,
     "metadata": {},
     "output_type": "execute_result"
    }
   ],
   "source": [
    "data_cleaned4.isnull().sum()"
   ]
  },
  {
   "cell_type": "markdown",
   "metadata": {
    "id": "tQ0weaM7HiKL"
   },
   "source": [
    "# Scatter plot and Correlation analysis"
   ]
  },
  {
   "cell_type": "code",
   "execution_count": 45,
   "metadata": {
    "id": "dHfySOtkHiKN"
   },
   "outputs": [
    {
     "data": {
      "text/plain": [
       "<seaborn.axisgrid.PairGrid at 0x18fe26cfe80>"
      ]
     },
     "execution_count": 45,
     "metadata": {},
     "output_type": "execute_result"
    },
    {
     "data": {
      "image/png": "[encoded data removed]",
      "text/plain": [
       "<Figure size 1260x1260 with 56 Axes>"
      ]
     },
     "metadata": {},
     "output_type": "display_data"
    }
   ],
   "source": [
    "# Seaborn visualization library\n",
    "import seaborn as sns\n",
    "# Create the default pairplot\n",
    "sns.pairplot(data_cleaned3)"
   ]
  },
  {
   "cell_type": "code",
   "execution_count": 46,
   "metadata": {
    "id": "dskrB3NkHiKN"
   },
   "outputs": [
    {
     "data": {
      "text/html": [
       "<div>\n",
       "<style scoped>\n",
       "    .dataframe tbody tr th:only-of-type {\n",
       "        vertical-align: middle;\n",
       "    }\n",
       "\n",
       "    .dataframe tbody tr th {\n",
       "        vertical-align: top;\n",
       "    }\n",
       "\n",
       "    .dataframe thead th {\n",
       "        text-align: right;\n",
       "    }\n",
       "</style>\n",
       "<table border=\"1\" class=\"dataframe\">\n",
       "  <thead>\n",
       "    <tr style=\"text-align: right;\">\n",
       "      <th></th>\n",
       "      <th>Ozone</th>\n",
       "      <th>Solar</th>\n",
       "      <th>Wind</th>\n",
       "      <th>Month</th>\n",
       "      <th>Day</th>\n",
       "      <th>Year</th>\n",
       "      <th>Temp</th>\n",
       "    </tr>\n",
       "  </thead>\n",
       "  <tbody>\n",
       "    <tr>\n",
       "      <th>Ozone</th>\n",
       "      <td>1.000000</td>\n",
       "      <td>0.308687</td>\n",
       "      <td>-0.520004</td>\n",
       "      <td>0.132860</td>\n",
       "      <td>-0.021916</td>\n",
       "      <td>NaN</td>\n",
       "      <td>0.606500</td>\n",
       "    </tr>\n",
       "    <tr>\n",
       "      <th>Solar</th>\n",
       "      <td>0.308687</td>\n",
       "      <td>1.000000</td>\n",
       "      <td>-0.057407</td>\n",
       "      <td>-0.094012</td>\n",
       "      <td>-0.155663</td>\n",
       "      <td>NaN</td>\n",
       "      <td>0.273558</td>\n",
       "    </tr>\n",
       "    <tr>\n",
       "      <th>Wind</th>\n",
       "      <td>-0.520004</td>\n",
       "      <td>-0.057407</td>\n",
       "      <td>1.000000</td>\n",
       "      <td>-0.166216</td>\n",
       "      <td>0.029900</td>\n",
       "      <td>NaN</td>\n",
       "      <td>-0.441228</td>\n",
       "    </tr>\n",
       "    <tr>\n",
       "      <th>Month</th>\n",
       "      <td>0.132860</td>\n",
       "      <td>-0.094012</td>\n",
       "      <td>-0.166216</td>\n",
       "      <td>1.000000</td>\n",
       "      <td>0.050055</td>\n",
       "      <td>NaN</td>\n",
       "      <td>0.398516</td>\n",
       "    </tr>\n",
       "    <tr>\n",
       "      <th>Day</th>\n",
       "      <td>-0.021916</td>\n",
       "      <td>-0.155663</td>\n",
       "      <td>0.029900</td>\n",
       "      <td>0.050055</td>\n",
       "      <td>1.000000</td>\n",
       "      <td>NaN</td>\n",
       "      <td>-0.122787</td>\n",
       "    </tr>\n",
       "    <tr>\n",
       "      <th>Year</th>\n",
       "      <td>NaN</td>\n",
       "      <td>NaN</td>\n",
       "      <td>NaN</td>\n",
       "      <td>NaN</td>\n",
       "      <td>NaN</td>\n",
       "      <td>NaN</td>\n",
       "      <td>NaN</td>\n",
       "    </tr>\n",
       "    <tr>\n",
       "      <th>Temp</th>\n",
       "      <td>0.606500</td>\n",
       "      <td>0.273558</td>\n",
       "      <td>-0.441228</td>\n",
       "      <td>0.398516</td>\n",
       "      <td>-0.122787</td>\n",
       "      <td>NaN</td>\n",
       "      <td>1.000000</td>\n",
       "    </tr>\n",
       "  </tbody>\n",
       "</table>\n",
       "</div>"
      ],
      "text/plain": [
       "          Ozone     Solar      Wind     Month       Day  Year      Temp\n",
       "Ozone  1.000000  0.308687 -0.520004  0.132860 -0.021916   NaN  0.606500\n",
       "Solar  0.308687  1.000000 -0.057407 -0.094012 -0.155663   NaN  0.273558\n",
       "Wind  -0.520004 -0.057407  1.000000 -0.166216  0.029900   NaN -0.441228\n",
       "Month  0.132860 -0.094012 -0.166216  1.000000  0.050055   NaN  0.398516\n",
       "Day   -0.021916 -0.155663  0.029900  0.050055  1.000000   NaN -0.122787\n",
       "Year        NaN       NaN       NaN       NaN       NaN   NaN       NaN\n",
       "Temp   0.606500  0.273558 -0.441228  0.398516 -0.122787   NaN  1.000000"
      ]
     },
     "execution_count": 46,
     "metadata": {},
     "output_type": "execute_result"
    }
   ],
   "source": [
    "#Correlation\n",
    "data_cleaned3.corr()"
   ]
  },
  {
   "cell_type": "markdown",
   "metadata": {
    "id": "4WOTS287HiKN"
   },
   "source": [
    "# Transformations"
   ]
  },
  {
   "cell_type": "markdown",
   "metadata": {
    "id": "TS52EC8XHiKO"
   },
   "source": [
    "#### Dummy Variable"
   ]
  },
  {
   "cell_type": "code",
   "execution_count": 47,
   "metadata": {
    "id": "RupoWQgJHiKO"
   },
   "outputs": [],
   "source": [
    "#Creating dummy variable for Weather column\n",
    "data_cleaned4=pd.get_dummies(data,columns=['Weather'])"
   ]
  },
  {
   "cell_type": "code",
   "execution_count": 48,
   "metadata": {
    "id": "EZkLioq4HiKO"
   },
   "outputs": [
    {
     "data": {
      "text/html": [
       "<div>\n",
       "<style scoped>\n",
       "    .dataframe tbody tr th:only-of-type {\n",
       "        vertical-align: middle;\n",
       "    }\n",
       "\n",
       "    .dataframe tbody tr th {\n",
       "        vertical-align: top;\n",
       "    }\n",
       "\n",
       "    .dataframe thead th {\n",
       "        text-align: right;\n",
       "    }\n",
       "</style>\n",
       "<table border=\"1\" class=\"dataframe\">\n",
       "  <thead>\n",
       "    <tr style=\"text-align: right;\">\n",
       "      <th></th>\n",
       "      <th>Ozone</th>\n",
       "      <th>Solar.R</th>\n",
       "      <th>Wind</th>\n",
       "      <th>Temp C</th>\n",
       "      <th>Month</th>\n",
       "      <th>Day</th>\n",
       "      <th>Year</th>\n",
       "      <th>Temp</th>\n",
       "      <th>Weather_C</th>\n",
       "      <th>Weather_PS</th>\n",
       "      <th>Weather_S</th>\n",
       "    </tr>\n",
       "  </thead>\n",
       "  <tbody>\n",
       "    <tr>\n",
       "      <th>1</th>\n",
       "      <td>41.0</td>\n",
       "      <td>190.0</td>\n",
       "      <td>7.4</td>\n",
       "      <td>67.0</td>\n",
       "      <td>5.0</td>\n",
       "      <td>1</td>\n",
       "      <td>2010</td>\n",
       "      <td>67</td>\n",
       "      <td>0</td>\n",
       "      <td>0</td>\n",
       "      <td>1</td>\n",
       "    </tr>\n",
       "    <tr>\n",
       "      <th>2</th>\n",
       "      <td>36.0</td>\n",
       "      <td>118.0</td>\n",
       "      <td>8.0</td>\n",
       "      <td>72.0</td>\n",
       "      <td>5.0</td>\n",
       "      <td>2</td>\n",
       "      <td>2010</td>\n",
       "      <td>72</td>\n",
       "      <td>1</td>\n",
       "      <td>0</td>\n",
       "      <td>0</td>\n",
       "    </tr>\n",
       "    <tr>\n",
       "      <th>3</th>\n",
       "      <td>12.0</td>\n",
       "      <td>149.0</td>\n",
       "      <td>12.6</td>\n",
       "      <td>74.0</td>\n",
       "      <td>5.0</td>\n",
       "      <td>3</td>\n",
       "      <td>2010</td>\n",
       "      <td>74</td>\n",
       "      <td>0</td>\n",
       "      <td>1</td>\n",
       "      <td>0</td>\n",
       "    </tr>\n",
       "    <tr>\n",
       "      <th>4</th>\n",
       "      <td>18.0</td>\n",
       "      <td>313.0</td>\n",
       "      <td>11.5</td>\n",
       "      <td>62.0</td>\n",
       "      <td>5.0</td>\n",
       "      <td>4</td>\n",
       "      <td>2010</td>\n",
       "      <td>62</td>\n",
       "      <td>0</td>\n",
       "      <td>0</td>\n",
       "      <td>1</td>\n",
       "    </tr>\n",
       "    <tr>\n",
       "      <th>5</th>\n",
       "      <td>NaN</td>\n",
       "      <td>NaN</td>\n",
       "      <td>14.3</td>\n",
       "      <td>56.0</td>\n",
       "      <td>5.0</td>\n",
       "      <td>5</td>\n",
       "      <td>2010</td>\n",
       "      <td>56</td>\n",
       "      <td>0</td>\n",
       "      <td>0</td>\n",
       "      <td>1</td>\n",
       "    </tr>\n",
       "    <tr>\n",
       "      <th>...</th>\n",
       "      <td>...</td>\n",
       "      <td>...</td>\n",
       "      <td>...</td>\n",
       "      <td>...</td>\n",
       "      <td>...</td>\n",
       "      <td>...</td>\n",
       "      <td>...</td>\n",
       "      <td>...</td>\n",
       "      <td>...</td>\n",
       "      <td>...</td>\n",
       "      <td>...</td>\n",
       "    </tr>\n",
       "    <tr>\n",
       "      <th>154</th>\n",
       "      <td>41.0</td>\n",
       "      <td>190.0</td>\n",
       "      <td>7.4</td>\n",
       "      <td>67.0</td>\n",
       "      <td>5.0</td>\n",
       "      <td>1</td>\n",
       "      <td>2010</td>\n",
       "      <td>67</td>\n",
       "      <td>1</td>\n",
       "      <td>0</td>\n",
       "      <td>0</td>\n",
       "    </tr>\n",
       "    <tr>\n",
       "      <th>155</th>\n",
       "      <td>30.0</td>\n",
       "      <td>193.0</td>\n",
       "      <td>6.9</td>\n",
       "      <td>70.0</td>\n",
       "      <td>9.0</td>\n",
       "      <td>26</td>\n",
       "      <td>2010</td>\n",
       "      <td>70</td>\n",
       "      <td>0</td>\n",
       "      <td>1</td>\n",
       "      <td>0</td>\n",
       "    </tr>\n",
       "    <tr>\n",
       "      <th>156</th>\n",
       "      <td>NaN</td>\n",
       "      <td>145.0</td>\n",
       "      <td>13.2</td>\n",
       "      <td>77.0</td>\n",
       "      <td>9.0</td>\n",
       "      <td>27</td>\n",
       "      <td>2010</td>\n",
       "      <td>77</td>\n",
       "      <td>0</td>\n",
       "      <td>0</td>\n",
       "      <td>1</td>\n",
       "    </tr>\n",
       "    <tr>\n",
       "      <th>157</th>\n",
       "      <td>14.0</td>\n",
       "      <td>191.0</td>\n",
       "      <td>14.3</td>\n",
       "      <td>75.0</td>\n",
       "      <td>9.0</td>\n",
       "      <td>28</td>\n",
       "      <td>2010</td>\n",
       "      <td>75</td>\n",
       "      <td>0</td>\n",
       "      <td>0</td>\n",
       "      <td>1</td>\n",
       "    </tr>\n",
       "    <tr>\n",
       "      <th>158</th>\n",
       "      <td>18.0</td>\n",
       "      <td>131.0</td>\n",
       "      <td>8.0</td>\n",
       "      <td>76.0</td>\n",
       "      <td>9.0</td>\n",
       "      <td>29</td>\n",
       "      <td>2010</td>\n",
       "      <td>76</td>\n",
       "      <td>1</td>\n",
       "      <td>0</td>\n",
       "      <td>0</td>\n",
       "    </tr>\n",
       "  </tbody>\n",
       "</table>\n",
       "<p>158 rows × 11 columns</p>\n",
       "</div>"
      ],
      "text/plain": [
       "     Ozone  Solar.R  Wind  Temp C  Month  Day  Year  Temp  Weather_C  \\\n",
       "1     41.0    190.0   7.4    67.0    5.0    1  2010    67          0   \n",
       "2     36.0    118.0   8.0    72.0    5.0    2  2010    72          1   \n",
       "3     12.0    149.0  12.6    74.0    5.0    3  2010    74          0   \n",
       "4     18.0    313.0  11.5    62.0    5.0    4  2010    62          0   \n",
       "5      NaN      NaN  14.3    56.0    5.0    5  2010    56          0   \n",
       "..     ...      ...   ...     ...    ...  ...   ...   ...        ...   \n",
       "154   41.0    190.0   7.4    67.0    5.0    1  2010    67          1   \n",
       "155   30.0    193.0   6.9    70.0    9.0   26  2010    70          0   \n",
       "156    NaN    145.0  13.2    77.0    9.0   27  2010    77          0   \n",
       "157   14.0    191.0  14.3    75.0    9.0   28  2010    75          0   \n",
       "158   18.0    131.0   8.0    76.0    9.0   29  2010    76          1   \n",
       "\n",
       "     Weather_PS  Weather_S  \n",
       "1             0          1  \n",
       "2             0          0  \n",
       "3             1          0  \n",
       "4             0          1  \n",
       "5             0          1  \n",
       "..          ...        ...  \n",
       "154           0          0  \n",
       "155           1          0  \n",
       "156           0          1  \n",
       "157           0          1  \n",
       "158           0          0  \n",
       "\n",
       "[158 rows x 11 columns]"
      ]
     },
     "execution_count": 48,
     "metadata": {},
     "output_type": "execute_result"
    }
   ],
   "source": [
    "data_cleaned4"
   ]
  },
  {
   "cell_type": "code",
   "execution_count": 49,
   "metadata": {
    "id": "iKQogaS7HiKO"
   },
   "outputs": [],
   "source": [
    "data_cleaned4=data_cleaned4.dropna()"
   ]
  },
  {
   "cell_type": "markdown",
   "metadata": {
    "id": "ehi7ugQYHiKP"
   },
   "source": [
    "#### Normalization of the data"
   ]
  },
  {
   "cell_type": "code",
   "execution_count": 50,
   "metadata": {
    "id": "DKg5RtWjHiKP"
   },
   "outputs": [
    {
     "name": "stdout",
     "output_type": "stream",
     "text": [
      "Requirement already satisfied: sklearn in c:\\users\\patel\\appdata\\local\\programs\\python\\python36\\lib\\site-packages (0.0)\n",
      "Requirement already satisfied: scikit-learn in c:\\users\\patel\\appdata\\local\\programs\\python\\python36\\lib\\site-packages (from sklearn) (0.24.1)\n",
      "Requirement already satisfied: scipy>=0.19.1 in c:\\users\\patel\\appdata\\local\\programs\\python\\python36\\lib\\site-packages (from scikit-learn->sklearn) (1.4.1)\n",
      "Requirement already satisfied: joblib>=0.11 in c:\\users\\patel\\appdata\\local\\programs\\python\\python36\\lib\\site-packages (from scikit-learn->sklearn) (1.0.0)\n",
      "Requirement already satisfied: numpy>=1.13.3 in c:\\users\\patel\\appdata\\local\\programs\\python\\python36\\lib\\site-packages (from scikit-learn->sklearn) (1.16.1)\n",
      "Requirement already satisfied: threadpoolctl>=2.0.0 in c:\\users\\patel\\appdata\\local\\programs\\python\\python36\\lib\\site-packages (from scikit-learn->sklearn) (2.1.0)\n"
     ]
    },
    {
     "name": "stderr",
     "output_type": "stream",
     "text": [
      "WARNING: You are using pip version 20.1.1; however, version 20.3.3 is available.\n",
      "You should consider upgrading via the 'c:\\users\\patel\\appdata\\local\\programs\\python\\python36\\python.exe -m pip install --upgrade pip' command.\n"
     ]
    }
   ],
   "source": [
    "#Normalization of the data\n",
    "!pip install sklearn\n",
    "from numpy import set_printoptions\n",
    "from sklearn.preprocessing import MinMaxScaler"
   ]
  },
  {
   "cell_type": "code",
   "execution_count": 51,
   "metadata": {
    "id": "EGcezS3zHiKP"
   },
   "outputs": [
    {
     "data": {
      "text/plain": [
       "array([[ 41. , 190. ,   7.4, ...,   0. ,   0. ,   1. ],\n",
       "       [ 36. , 118. ,   8. , ...,   1. ,   0. ,   0. ],\n",
       "       [ 12. , 149. ,  12.6, ...,   0. ,   1. ,   0. ],\n",
       "       ...,\n",
       "       [ 30. , 193. ,   6.9, ...,   0. ,   1. ,   0. ],\n",
       "       [ 14. , 191. ,  14.3, ...,   0. ,   0. ,   1. ],\n",
       "       [ 18. , 131. ,   8. , ...,   1. ,   0. ,   0. ]])"
      ]
     },
     "execution_count": 51,
     "metadata": {},
     "output_type": "execute_result"
    }
   ],
   "source": [
    "data_cleaned4.values"
   ]
  },
  {
   "cell_type": "code",
   "execution_count": 52,
   "metadata": {
    "id": "AN8Uu0vwHiKP"
   },
   "outputs": [
    {
     "name": "stdout",
     "output_type": "stream",
     "text": [
      "[[0.24 0.56 0.3  0.   0.  ]\n",
      " [0.21 0.34 0.33 0.   0.03]\n",
      " [0.07 0.43 0.57 0.   0.07]\n",
      " [0.1  0.94 0.52 0.   0.1 ]\n",
      " [0.24  nan 0.66 0.   0.13]]\n"
     ]
    }
   ],
   "source": [
    "array = data_cleaned3.values\n",
    "\n",
    "scaler = MinMaxScaler(feature_range=(0,1))\n",
    "rescaledX = scaler.fit_transform(array[:,0:5])\n",
    "\n",
    "#transformed data\n",
    "set_printoptions(precision=2)\n",
    "print(rescaledX[0:5,:])\n"
   ]
  },
  {
   "cell_type": "code",
   "execution_count": 53,
   "metadata": {
    "id": "9yGmyu1bHiKQ"
   },
   "outputs": [],
   "source": [
    "# Standardize data (0 mean, 1 stdev)\n",
    "from sklearn.preprocessing import StandardScaler"
   ]
  },
  {
   "cell_type": "code",
   "execution_count": 54,
   "metadata": {
    "id": "9FlRafHGHiKQ"
   },
   "outputs": [
    {
     "name": "stdout",
     "output_type": "stream",
     "text": [
      "[[-0.02  0.05 -0.71 -1.15 -1.53 -1.7   0.   -1.15 -0.64 -0.68  1.28]\n",
      " [-0.17 -0.75 -0.54 -0.62 -1.53 -1.59  0.   -0.62  1.57 -0.68 -0.78]\n",
      " [-0.9  -0.41  0.77 -0.4  -1.53 -1.48  0.   -0.4  -0.64  1.47 -0.78]\n",
      " [-0.72  1.43  0.45 -1.69 -1.53 -1.36  0.   -1.69 -0.64 -0.68  1.28]\n",
      " [-0.57  1.27 -0.37 -1.37 -1.53 -1.02  0.   -1.37 -0.64  1.47 -0.78]]\n"
     ]
    }
   ],
   "source": [
    "array = data_cleaned4.values\n",
    "scaler = StandardScaler().fit(array)\n",
    "rescaledX = scaler.transform(array)\n",
    "\n",
    "# summarize transformed data\n",
    "set_printoptions(precision=2)\n",
    "print(rescaledX[0:5,:])"
   ]
  },
  {
   "cell_type": "markdown",
   "metadata": {
    "id": "Lv0gHwyRHiKQ"
   },
   "source": [
    "# Speed up the EDA process"
   ]
  },
  {
   "cell_type": "code",
   "execution_count": 55,
   "metadata": {},
   "outputs": [],
   "source": [
    "import sys\n",
    "sys.setrecursionlimit(5000)"
   ]
  },
  {
   "cell_type": "code",
   "execution_count": null,
   "metadata": {
    "id": "lpuV_SXYHiKR"
   },
   "outputs": [],
   "source": [
    "EDA_report= pp.ProfileReport(data)\n",
    "EDA_report.to_file(output_file='report.html')"
   ]
  },
  {
   "cell_type": "code",
   "execution_count": null,
   "metadata": {
    "id": "meVFt-s9HiKR"
   },
   "outputs": [],
   "source": [
    "sweet_report = sv.analyze(data)\n",
    "sweet_report.show_html('weather_report.html')"
   ]
  },
  {
   "cell_type": "code",
   "execution_count": null,
   "metadata": {},
   "outputs": [],
   "source": []
  }
 ],
 "metadata": {
  "colab": {
   "name": "EDA_1_Latest.ipynb",
   "provenance": [],
   "toc_visible": true
  },
  "kernelspec": {
   "display_name": "Python 3",
   "language": "python",
   "name": "python3"
  },
  "language_info": {
   "codemirror_mode": {
    "name": "ipython",
    "version": 3
   },
   "file_extension": ".py",
   "mimetype": "text/x-python",
   "name": "python",
   "nbconvert_exporter": "python",
   "pygments_lexer": "ipython3",
   "version": "3.6.8"
  }
 },
 "nbformat": 4,
 "nbformat_minor": 1
}
