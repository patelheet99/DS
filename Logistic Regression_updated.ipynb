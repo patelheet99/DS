{
 "cells": [
  {
   "cell_type": "code",
   "execution_count": 1,
   "metadata": {
    "ExecuteTime": {
     "end_time": "2021-01-15T03:02:27.572157Z",
     "start_time": "2021-01-15T03:01:59.111965Z"
    }
   },
   "outputs": [],
   "source": [
    "import pandas as pd\n",
    "import numpy as np\n",
    "import seaborn as sb\n",
    "import matplotlib.pyplot as plt "
   ]
  },
  {
   "cell_type": "code",
   "execution_count": 2,
   "metadata": {
    "ExecuteTime": {
     "end_time": "2021-01-15T03:02:37.605562Z",
     "start_time": "2021-01-15T03:02:32.649327Z"
    }
   },
   "outputs": [],
   "source": [
    "from sklearn.linear_model import LogisticRegression\n",
    "#from sklearn.model_selection import train_test_split # train and test \n",
    "from sklearn import metrics\n",
    "#from sklearn import preprocessing\n",
    "from sklearn.metrics import classification_report  "
   ]
  },
  {
   "cell_type": "code",
   "execution_count": 3,
   "metadata": {
    "ExecuteTime": {
     "end_time": "2021-01-15T03:02:40.348147Z",
     "start_time": "2021-01-15T03:02:40.003729Z"
    }
   },
   "outputs": [
    {
     "data": {
      "text/html": [
       "<div>\n",
       "<style scoped>\n",
       "    .dataframe tbody tr th:only-of-type {\n",
       "        vertical-align: middle;\n",
       "    }\n",
       "\n",
       "    .dataframe tbody tr th {\n",
       "        vertical-align: top;\n",
       "    }\n",
       "\n",
       "    .dataframe thead th {\n",
       "        text-align: right;\n",
       "    }\n",
       "</style>\n",
       "<table border=\"1\" class=\"dataframe\">\n",
       "  <thead>\n",
       "    <tr style=\"text-align: right;\">\n",
       "      <th></th>\n",
       "      <th>CASENUM</th>\n",
       "      <th>ATTORNEY</th>\n",
       "      <th>CLMSEX</th>\n",
       "      <th>CLMINSUR</th>\n",
       "      <th>SEATBELT</th>\n",
       "      <th>CLMAGE</th>\n",
       "      <th>LOSS</th>\n",
       "    </tr>\n",
       "  </thead>\n",
       "  <tbody>\n",
       "    <tr>\n",
       "      <th>0</th>\n",
       "      <td>5</td>\n",
       "      <td>0</td>\n",
       "      <td>0.0</td>\n",
       "      <td>1.0</td>\n",
       "      <td>0.0</td>\n",
       "      <td>50.0</td>\n",
       "      <td>34.940</td>\n",
       "    </tr>\n",
       "    <tr>\n",
       "      <th>1</th>\n",
       "      <td>3</td>\n",
       "      <td>1</td>\n",
       "      <td>1.0</td>\n",
       "      <td>0.0</td>\n",
       "      <td>0.0</td>\n",
       "      <td>18.0</td>\n",
       "      <td>0.891</td>\n",
       "    </tr>\n",
       "    <tr>\n",
       "      <th>2</th>\n",
       "      <td>66</td>\n",
       "      <td>1</td>\n",
       "      <td>0.0</td>\n",
       "      <td>1.0</td>\n",
       "      <td>0.0</td>\n",
       "      <td>5.0</td>\n",
       "      <td>0.330</td>\n",
       "    </tr>\n",
       "    <tr>\n",
       "      <th>3</th>\n",
       "      <td>70</td>\n",
       "      <td>0</td>\n",
       "      <td>0.0</td>\n",
       "      <td>1.0</td>\n",
       "      <td>1.0</td>\n",
       "      <td>31.0</td>\n",
       "      <td>0.037</td>\n",
       "    </tr>\n",
       "    <tr>\n",
       "      <th>4</th>\n",
       "      <td>96</td>\n",
       "      <td>1</td>\n",
       "      <td>0.0</td>\n",
       "      <td>1.0</td>\n",
       "      <td>0.0</td>\n",
       "      <td>30.0</td>\n",
       "      <td>0.038</td>\n",
       "    </tr>\n",
       "    <tr>\n",
       "      <th>...</th>\n",
       "      <td>...</td>\n",
       "      <td>...</td>\n",
       "      <td>...</td>\n",
       "      <td>...</td>\n",
       "      <td>...</td>\n",
       "      <td>...</td>\n",
       "      <td>...</td>\n",
       "    </tr>\n",
       "    <tr>\n",
       "      <th>1335</th>\n",
       "      <td>34100</td>\n",
       "      <td>1</td>\n",
       "      <td>0.0</td>\n",
       "      <td>1.0</td>\n",
       "      <td>0.0</td>\n",
       "      <td>NaN</td>\n",
       "      <td>0.576</td>\n",
       "    </tr>\n",
       "    <tr>\n",
       "      <th>1336</th>\n",
       "      <td>34110</td>\n",
       "      <td>0</td>\n",
       "      <td>1.0</td>\n",
       "      <td>1.0</td>\n",
       "      <td>0.0</td>\n",
       "      <td>46.0</td>\n",
       "      <td>3.705</td>\n",
       "    </tr>\n",
       "    <tr>\n",
       "      <th>1337</th>\n",
       "      <td>34113</td>\n",
       "      <td>1</td>\n",
       "      <td>1.0</td>\n",
       "      <td>1.0</td>\n",
       "      <td>0.0</td>\n",
       "      <td>39.0</td>\n",
       "      <td>0.099</td>\n",
       "    </tr>\n",
       "    <tr>\n",
       "      <th>1338</th>\n",
       "      <td>34145</td>\n",
       "      <td>0</td>\n",
       "      <td>1.0</td>\n",
       "      <td>0.0</td>\n",
       "      <td>0.0</td>\n",
       "      <td>8.0</td>\n",
       "      <td>3.177</td>\n",
       "    </tr>\n",
       "    <tr>\n",
       "      <th>1339</th>\n",
       "      <td>34153</td>\n",
       "      <td>1</td>\n",
       "      <td>1.0</td>\n",
       "      <td>1.0</td>\n",
       "      <td>0.0</td>\n",
       "      <td>30.0</td>\n",
       "      <td>0.688</td>\n",
       "    </tr>\n",
       "  </tbody>\n",
       "</table>\n",
       "<p>1340 rows × 7 columns</p>\n",
       "</div>"
      ],
      "text/plain": [
       "      CASENUM  ATTORNEY  CLMSEX  CLMINSUR  SEATBELT  CLMAGE    LOSS\n",
       "0           5         0     0.0       1.0       0.0    50.0  34.940\n",
       "1           3         1     1.0       0.0       0.0    18.0   0.891\n",
       "2          66         1     0.0       1.0       0.0     5.0   0.330\n",
       "3          70         0     0.0       1.0       1.0    31.0   0.037\n",
       "4          96         1     0.0       1.0       0.0    30.0   0.038\n",
       "...       ...       ...     ...       ...       ...     ...     ...\n",
       "1335    34100         1     0.0       1.0       0.0     NaN   0.576\n",
       "1336    34110         0     1.0       1.0       0.0    46.0   3.705\n",
       "1337    34113         1     1.0       1.0       0.0    39.0   0.099\n",
       "1338    34145         0     1.0       0.0       0.0     8.0   3.177\n",
       "1339    34153         1     1.0       1.0       0.0    30.0   0.688\n",
       "\n",
       "[1340 rows x 7 columns]"
      ]
     },
     "execution_count": 3,
     "metadata": {},
     "output_type": "execute_result"
    }
   ],
   "source": [
    "# loading claimants data \n",
    "claimants = pd.read_csv(\"claimants.csv\")\n",
    "claimants "
   ]
  },
  {
   "cell_type": "code",
   "execution_count": 4,
   "metadata": {
    "ExecuteTime": {
     "end_time": "2021-01-15T03:02:44.231979Z",
     "start_time": "2021-01-15T03:02:44.168041Z"
    }
   },
   "outputs": [
    {
     "data": {
      "text/plain": [
       "CASENUM       0\n",
       "ATTORNEY      0\n",
       "CLMSEX       12\n",
       "CLMINSUR     41\n",
       "SEATBELT     48\n",
       "CLMAGE      189\n",
       "LOSS          0\n",
       "dtype: int64"
      ]
     },
     "execution_count": 4,
     "metadata": {},
     "output_type": "execute_result"
    }
   ],
   "source": [
    "claimants.head(10)\n",
    "claimants.isnull().sum() "
   ]
  },
  {
   "cell_type": "code",
   "execution_count": 44,
   "metadata": {
    "ExecuteTime": {
     "end_time": "2021-01-15T03:02:48.281433Z",
     "start_time": "2021-01-15T03:02:48.084843Z"
    }
   },
   "outputs": [
    {
     "data": {
      "text/html": [
       "<div>\n",
       "<style scoped>\n",
       "    .dataframe tbody tr th:only-of-type {\n",
       "        vertical-align: middle;\n",
       "    }\n",
       "\n",
       "    .dataframe tbody tr th {\n",
       "        vertical-align: top;\n",
       "    }\n",
       "\n",
       "    .dataframe thead th {\n",
       "        text-align: right;\n",
       "    }\n",
       "</style>\n",
       "<table border=\"1\" class=\"dataframe\">\n",
       "  <thead>\n",
       "    <tr style=\"text-align: right;\">\n",
       "      <th></th>\n",
       "      <th>ATTORNEY</th>\n",
       "      <th>CLMSEX</th>\n",
       "      <th>CLMINSUR</th>\n",
       "      <th>SEATBELT</th>\n",
       "      <th>CLMAGE</th>\n",
       "      <th>LOSS</th>\n",
       "      <th>y_pred</th>\n",
       "    </tr>\n",
       "  </thead>\n",
       "  <tbody>\n",
       "    <tr>\n",
       "      <th>count</th>\n",
       "      <td>1340.000000</td>\n",
       "      <td>1340.000000</td>\n",
       "      <td>1340.000000</td>\n",
       "      <td>1340.000000</td>\n",
       "      <td>1340.000000</td>\n",
       "      <td>1340.000000</td>\n",
       "      <td>1340.000000</td>\n",
       "    </tr>\n",
       "    <tr>\n",
       "      <th>mean</th>\n",
       "      <td>0.488806</td>\n",
       "      <td>0.562687</td>\n",
       "      <td>0.910448</td>\n",
       "      <td>0.016418</td>\n",
       "      <td>28.414419</td>\n",
       "      <td>3.806307</td>\n",
       "      <td>0.565672</td>\n",
       "    </tr>\n",
       "    <tr>\n",
       "      <th>std</th>\n",
       "      <td>0.500061</td>\n",
       "      <td>0.496240</td>\n",
       "      <td>0.285646</td>\n",
       "      <td>0.127124</td>\n",
       "      <td>18.816978</td>\n",
       "      <td>10.636903</td>\n",
       "      <td>0.495854</td>\n",
       "    </tr>\n",
       "    <tr>\n",
       "      <th>min</th>\n",
       "      <td>0.000000</td>\n",
       "      <td>0.000000</td>\n",
       "      <td>0.000000</td>\n",
       "      <td>0.000000</td>\n",
       "      <td>0.000000</td>\n",
       "      <td>0.000000</td>\n",
       "      <td>0.000000</td>\n",
       "    </tr>\n",
       "    <tr>\n",
       "      <th>25%</th>\n",
       "      <td>0.000000</td>\n",
       "      <td>0.000000</td>\n",
       "      <td>1.000000</td>\n",
       "      <td>0.000000</td>\n",
       "      <td>10.000000</td>\n",
       "      <td>0.400000</td>\n",
       "      <td>0.000000</td>\n",
       "    </tr>\n",
       "    <tr>\n",
       "      <th>50%</th>\n",
       "      <td>0.000000</td>\n",
       "      <td>1.000000</td>\n",
       "      <td>1.000000</td>\n",
       "      <td>0.000000</td>\n",
       "      <td>28.414400</td>\n",
       "      <td>1.069500</td>\n",
       "      <td>1.000000</td>\n",
       "    </tr>\n",
       "    <tr>\n",
       "      <th>75%</th>\n",
       "      <td>1.000000</td>\n",
       "      <td>1.000000</td>\n",
       "      <td>1.000000</td>\n",
       "      <td>0.000000</td>\n",
       "      <td>40.000000</td>\n",
       "      <td>3.781500</td>\n",
       "      <td>1.000000</td>\n",
       "    </tr>\n",
       "    <tr>\n",
       "      <th>max</th>\n",
       "      <td>1.000000</td>\n",
       "      <td>1.000000</td>\n",
       "      <td>1.000000</td>\n",
       "      <td>1.000000</td>\n",
       "      <td>95.000000</td>\n",
       "      <td>173.604000</td>\n",
       "      <td>1.000000</td>\n",
       "    </tr>\n",
       "  </tbody>\n",
       "</table>\n",
       "</div>"
      ],
      "text/plain": [
       "          ATTORNEY       CLMSEX     CLMINSUR     SEATBELT       CLMAGE  \\\n",
       "count  1340.000000  1340.000000  1340.000000  1340.000000  1340.000000   \n",
       "mean      0.488806     0.562687     0.910448     0.016418    28.414419   \n",
       "std       0.500061     0.496240     0.285646     0.127124    18.816978   \n",
       "min       0.000000     0.000000     0.000000     0.000000     0.000000   \n",
       "25%       0.000000     0.000000     1.000000     0.000000    10.000000   \n",
       "50%       0.000000     1.000000     1.000000     0.000000    28.414400   \n",
       "75%       1.000000     1.000000     1.000000     0.000000    40.000000   \n",
       "max       1.000000     1.000000     1.000000     1.000000    95.000000   \n",
       "\n",
       "              LOSS       y_pred  \n",
       "count  1340.000000  1340.000000  \n",
       "mean      3.806307     0.565672  \n",
       "std      10.636903     0.495854  \n",
       "min       0.000000     0.000000  \n",
       "25%       0.400000     0.000000  \n",
       "50%       1.069500     1.000000  \n",
       "75%       3.781500     1.000000  \n",
       "max     173.604000     1.000000  "
      ]
     },
     "execution_count": 44,
     "metadata": {},
     "output_type": "execute_result"
    }
   ],
   "source": [
    "claimants.describe()  "
   ]
  },
  {
   "cell_type": "code",
   "execution_count": 6,
   "metadata": {
    "ExecuteTime": {
     "end_time": "2021-01-15T03:02:52.945428Z",
     "start_time": "2021-01-15T03:02:52.388098Z"
    }
   },
   "outputs": [
    {
     "data": {
      "text/plain": [
       "<AxesSubplot:xlabel='ATTORNEY', ylabel='CLMAGE'>"
      ]
     },
     "execution_count": 6,
     "metadata": {},
     "output_type": "execute_result"
    },
    {
     "data": {
      "image/png": "[encoded data removed]",
      "text/plain": [
       "<Figure size 432x288 with 1 Axes>"
      ]
     },
     "metadata": {
      "needs_background": "light"
     },
     "output_type": "display_data"
    }
   ],
   "source": [
    "sb.boxplot(x=\"ATTORNEY\",y=\"CLMAGE\",data=claimants,palette=\"hls\")  "
   ]
  },
  {
   "cell_type": "code",
   "execution_count": 7,
   "metadata": {
    "ExecuteTime": {
     "end_time": "2021-01-15T03:02:56.604561Z",
     "start_time": "2021-01-15T03:02:56.597581Z"
    }
   },
   "outputs": [],
   "source": [
    "# Droping first column \n",
    "claimants.drop([\"CASENUM\"],inplace=True,axis = 1)\n",
    "#cat_cols = [\"ATTORNEY\",\"CLMSEX\",\"SEATBELT\",\"CLMINSUR\"]\n",
    "#cont_cols = [\"CLMAGE\",\"LOSS\"]\n",
    "\n",
    "# Getting the barplot for the categorical columns  "
   ]
  },
  {
   "cell_type": "code",
   "execution_count": 8,
   "metadata": {
    "ExecuteTime": {
     "end_time": "2021-01-15T03:02:58.895472Z",
     "start_time": "2021-01-15T03:02:58.865551Z"
    }
   },
   "outputs": [
    {
     "data": {
      "text/html": [
       "<div>\n",
       "<style scoped>\n",
       "    .dataframe tbody tr th:only-of-type {\n",
       "        vertical-align: middle;\n",
       "    }\n",
       "\n",
       "    .dataframe tbody tr th {\n",
       "        vertical-align: top;\n",
       "    }\n",
       "\n",
       "    .dataframe thead th {\n",
       "        text-align: right;\n",
       "    }\n",
       "</style>\n",
       "<table border=\"1\" class=\"dataframe\">\n",
       "  <thead>\n",
       "    <tr style=\"text-align: right;\">\n",
       "      <th></th>\n",
       "      <th>ATTORNEY</th>\n",
       "      <th>CLMSEX</th>\n",
       "      <th>CLMINSUR</th>\n",
       "      <th>SEATBELT</th>\n",
       "      <th>CLMAGE</th>\n",
       "      <th>LOSS</th>\n",
       "    </tr>\n",
       "  </thead>\n",
       "  <tbody>\n",
       "    <tr>\n",
       "      <th>0</th>\n",
       "      <td>0</td>\n",
       "      <td>0.0</td>\n",
       "      <td>1.0</td>\n",
       "      <td>0.0</td>\n",
       "      <td>50.0</td>\n",
       "      <td>34.940</td>\n",
       "    </tr>\n",
       "    <tr>\n",
       "      <th>1</th>\n",
       "      <td>1</td>\n",
       "      <td>1.0</td>\n",
       "      <td>0.0</td>\n",
       "      <td>0.0</td>\n",
       "      <td>18.0</td>\n",
       "      <td>0.891</td>\n",
       "    </tr>\n",
       "    <tr>\n",
       "      <th>2</th>\n",
       "      <td>1</td>\n",
       "      <td>0.0</td>\n",
       "      <td>1.0</td>\n",
       "      <td>0.0</td>\n",
       "      <td>5.0</td>\n",
       "      <td>0.330</td>\n",
       "    </tr>\n",
       "    <tr>\n",
       "      <th>3</th>\n",
       "      <td>0</td>\n",
       "      <td>0.0</td>\n",
       "      <td>1.0</td>\n",
       "      <td>1.0</td>\n",
       "      <td>31.0</td>\n",
       "      <td>0.037</td>\n",
       "    </tr>\n",
       "    <tr>\n",
       "      <th>4</th>\n",
       "      <td>1</td>\n",
       "      <td>0.0</td>\n",
       "      <td>1.0</td>\n",
       "      <td>0.0</td>\n",
       "      <td>30.0</td>\n",
       "      <td>0.038</td>\n",
       "    </tr>\n",
       "    <tr>\n",
       "      <th>...</th>\n",
       "      <td>...</td>\n",
       "      <td>...</td>\n",
       "      <td>...</td>\n",
       "      <td>...</td>\n",
       "      <td>...</td>\n",
       "      <td>...</td>\n",
       "    </tr>\n",
       "    <tr>\n",
       "      <th>1335</th>\n",
       "      <td>1</td>\n",
       "      <td>0.0</td>\n",
       "      <td>1.0</td>\n",
       "      <td>0.0</td>\n",
       "      <td>NaN</td>\n",
       "      <td>0.576</td>\n",
       "    </tr>\n",
       "    <tr>\n",
       "      <th>1336</th>\n",
       "      <td>0</td>\n",
       "      <td>1.0</td>\n",
       "      <td>1.0</td>\n",
       "      <td>0.0</td>\n",
       "      <td>46.0</td>\n",
       "      <td>3.705</td>\n",
       "    </tr>\n",
       "    <tr>\n",
       "      <th>1337</th>\n",
       "      <td>1</td>\n",
       "      <td>1.0</td>\n",
       "      <td>1.0</td>\n",
       "      <td>0.0</td>\n",
       "      <td>39.0</td>\n",
       "      <td>0.099</td>\n",
       "    </tr>\n",
       "    <tr>\n",
       "      <th>1338</th>\n",
       "      <td>0</td>\n",
       "      <td>1.0</td>\n",
       "      <td>0.0</td>\n",
       "      <td>0.0</td>\n",
       "      <td>8.0</td>\n",
       "      <td>3.177</td>\n",
       "    </tr>\n",
       "    <tr>\n",
       "      <th>1339</th>\n",
       "      <td>1</td>\n",
       "      <td>1.0</td>\n",
       "      <td>1.0</td>\n",
       "      <td>0.0</td>\n",
       "      <td>30.0</td>\n",
       "      <td>0.688</td>\n",
       "    </tr>\n",
       "  </tbody>\n",
       "</table>\n",
       "<p>1340 rows × 6 columns</p>\n",
       "</div>"
      ],
      "text/plain": [
       "      ATTORNEY  CLMSEX  CLMINSUR  SEATBELT  CLMAGE    LOSS\n",
       "0            0     0.0       1.0       0.0    50.0  34.940\n",
       "1            1     1.0       0.0       0.0    18.0   0.891\n",
       "2            1     0.0       1.0       0.0     5.0   0.330\n",
       "3            0     0.0       1.0       1.0    31.0   0.037\n",
       "4            1     0.0       1.0       0.0    30.0   0.038\n",
       "...        ...     ...       ...       ...     ...     ...\n",
       "1335         1     0.0       1.0       0.0     NaN   0.576\n",
       "1336         0     1.0       1.0       0.0    46.0   3.705\n",
       "1337         1     1.0       1.0       0.0    39.0   0.099\n",
       "1338         0     1.0       0.0       0.0     8.0   3.177\n",
       "1339         1     1.0       1.0       0.0    30.0   0.688\n",
       "\n",
       "[1340 rows x 6 columns]"
      ]
     },
     "execution_count": 8,
     "metadata": {},
     "output_type": "execute_result"
    }
   ],
   "source": [
    "claimants   "
   ]
  },
  {
   "cell_type": "code",
   "execution_count": 9,
   "metadata": {
    "ExecuteTime": {
     "end_time": "2021-01-15T03:03:03.331566Z",
     "start_time": "2021-01-15T03:03:03.014889Z"
    }
   },
   "outputs": [
    {
     "data": {
      "text/plain": [
       "<AxesSubplot:xlabel='ATTORNEY', ylabel='count'>"
      ]
     },
     "execution_count": 9,
     "metadata": {},
     "output_type": "execute_result"
    },
    {
     "data": {
      "image/png": "[encoded data removed]",
      "text/plain": [
       "<Figure size 432x288 with 1 Axes>"
      ]
     },
     "metadata": {
      "needs_background": "light"
     },
     "output_type": "display_data"
    }
   ],
   "source": [
    "sb.countplot(x=\"ATTORNEY\",data=claimants,palette=\"hls\") \n",
    " "
   ]
  },
  {
   "cell_type": "code",
   "execution_count": 10,
   "metadata": {
    "ExecuteTime": {
     "end_time": "2021-01-15T03:03:07.066622Z",
     "start_time": "2021-01-15T03:03:06.979345Z"
    }
   },
   "outputs": [
    {
     "data": {
      "text/html": [
       "<div>\n",
       "<style scoped>\n",
       "    .dataframe tbody tr th:only-of-type {\n",
       "        vertical-align: middle;\n",
       "    }\n",
       "\n",
       "    .dataframe tbody tr th {\n",
       "        vertical-align: top;\n",
       "    }\n",
       "\n",
       "    .dataframe thead th {\n",
       "        text-align: right;\n",
       "    }\n",
       "</style>\n",
       "<table border=\"1\" class=\"dataframe\">\n",
       "  <thead>\n",
       "    <tr style=\"text-align: right;\">\n",
       "      <th>CLMINSUR</th>\n",
       "      <th>0.0</th>\n",
       "      <th>1.0</th>\n",
       "    </tr>\n",
       "    <tr>\n",
       "      <th>ATTORNEY</th>\n",
       "      <th></th>\n",
       "      <th></th>\n",
       "    </tr>\n",
       "  </thead>\n",
       "  <tbody>\n",
       "    <tr>\n",
       "      <th>0</th>\n",
       "      <td>76</td>\n",
       "      <td>585</td>\n",
       "    </tr>\n",
       "    <tr>\n",
       "      <th>1</th>\n",
       "      <td>44</td>\n",
       "      <td>594</td>\n",
       "    </tr>\n",
       "  </tbody>\n",
       "</table>\n",
       "</div>"
      ],
      "text/plain": [
       "CLMINSUR  0.0  1.0\n",
       "ATTORNEY          \n",
       "0          76  585\n",
       "1          44  594"
      ]
     },
     "execution_count": 10,
     "metadata": {},
     "output_type": "execute_result"
    }
   ],
   "source": [
    "pd.crosstab(claimants.ATTORNEY,claimants.CLMINSUR)  "
   ]
  },
  {
   "cell_type": "code",
   "execution_count": 11,
   "metadata": {
    "ExecuteTime": {
     "end_time": "2021-01-15T03:03:09.840487Z",
     "start_time": "2021-01-15T03:03:09.248464Z"
    }
   },
   "outputs": [
    {
     "data": {
      "text/plain": [
       "<AxesSubplot:xlabel='ATTORNEY'>"
      ]
     },
     "execution_count": 11,
     "metadata": {},
     "output_type": "execute_result"
    },
    {
     "data": {
      "image/png": "[encoded data removed]",
      "text/plain": [
       "<Figure size 432x288 with 1 Axes>"
      ]
     },
     "metadata": {
      "needs_background": "light"
     },
     "output_type": "display_data"
    }
   ],
   "source": [
    "pd.crosstab(claimants.ATTORNEY,claimants.CLMINSUR).plot(kind = 'bar')  "
   ]
  },
  {
   "cell_type": "code",
   "execution_count": 12,
   "metadata": {
    "ExecuteTime": {
     "end_time": "2021-01-15T03:03:33.249362Z",
     "start_time": "2021-01-15T03:03:32.941805Z"
    }
   },
   "outputs": [
    {
     "data": {
      "text/plain": [
       "<AxesSubplot:xlabel='SEATBELT', ylabel='count'>"
      ]
     },
     "execution_count": 12,
     "metadata": {},
     "output_type": "execute_result"
    },
    {
     "data": {
      "image/png": "[encoded data removed]",
      "text/plain": [
       "<Figure size 432x288 with 1 Axes>"
      ]
     },
     "metadata": {
      "needs_background": "light"
     },
     "output_type": "display_data"
    }
   ],
   "source": [
    "sb.countplot(x=\"SEATBELT\",data=claimants,palette=\"hls\")\n",
    " "
   ]
  },
  {
   "cell_type": "code",
   "execution_count": 13,
   "metadata": {
    "ExecuteTime": {
     "end_time": "2021-01-15T03:04:43.075865Z",
     "start_time": "2021-01-15T03:04:42.819505Z"
    }
   },
   "outputs": [
    {
     "data": {
      "text/plain": [
       "<AxesSubplot:xlabel='CLMINSUR', ylabel='count'>"
      ]
     },
     "execution_count": 13,
     "metadata": {},
     "output_type": "execute_result"
    },
    {
     "data": {
      "image/png": "[encoded data removed]",
      "text/plain": [
       "<Figure size 432x288 with 1 Axes>"
      ]
     },
     "metadata": {
      "needs_background": "light"
     },
     "output_type": "display_data"
    }
   ],
   "source": [
    "sb.countplot(x=\"CLMINSUR\",data=claimants,palette=\"hls\") "
   ]
  },
  {
   "cell_type": "code",
   "execution_count": 14,
   "metadata": {
    "ExecuteTime": {
     "end_time": "2021-01-15T03:04:54.159962Z",
     "start_time": "2021-01-15T03:04:53.842431Z"
    }
   },
   "outputs": [
    {
     "data": {
      "text/plain": [
       "<AxesSubplot:xlabel='SEATBELT'>"
      ]
     },
     "execution_count": 14,
     "metadata": {},
     "output_type": "execute_result"
    },
    {
     "data": {
      "image/png": "[encoded data removed]",
      "text/plain": [
       "<Figure size 432x288 with 1 Axes>"
      ]
     },
     "metadata": {
      "needs_background": "light"
     },
     "output_type": "display_data"
    }
   ],
   "source": [
    "pd.crosstab(claimants.SEATBELT,claimants.CLMINSUR).plot(kind=\"bar\")  "
   ]
  },
  {
   "cell_type": "code",
   "execution_count": 15,
   "metadata": {
    "ExecuteTime": {
     "end_time": "2021-01-15T03:05:00.529236Z",
     "start_time": "2021-01-15T03:05:00.276804Z"
    }
   },
   "outputs": [
    {
     "data": {
      "text/plain": [
       "<AxesSubplot:xlabel='CLMSEX', ylabel='count'>"
      ]
     },
     "execution_count": 15,
     "metadata": {},
     "output_type": "execute_result"
    },
    {
     "data": {
      "image/png": "[encoded data removed]",
      "text/plain": [
       "<Figure size 432x288 with 1 Axes>"
      ]
     },
     "metadata": {
      "needs_background": "light"
     },
     "output_type": "display_data"
    }
   ],
   "source": [
    "sb.countplot(x=\"CLMSEX\",data=claimants,palette=\"hls\")  "
   ]
  },
  {
   "cell_type": "code",
   "execution_count": 16,
   "metadata": {
    "ExecuteTime": {
     "end_time": "2021-01-15T03:05:04.605650Z",
     "start_time": "2021-01-15T03:05:04.286476Z"
    }
   },
   "outputs": [
    {
     "data": {
      "text/plain": [
       "<AxesSubplot:xlabel='CLMSEX'>"
      ]
     },
     "execution_count": 16,
     "metadata": {},
     "output_type": "execute_result"
    },
    {
     "data": {
      "image/png": "[encoded data removed]",
      "text/plain": [
       "<Figure size 432x288 with 1 Axes>"
      ]
     },
     "metadata": {
      "needs_background": "light"
     },
     "output_type": "display_data"
    }
   ],
   "source": [
    "pd.crosstab(claimants.CLMSEX,claimants.CLMINSUR).plot(kind=\"bar\") "
   ]
  },
  {
   "cell_type": "code",
   "execution_count": 17,
   "metadata": {
    "ExecuteTime": {
     "end_time": "2021-01-15T03:05:08.941119Z",
     "start_time": "2021-01-15T03:05:08.929151Z"
    }
   },
   "outputs": [
    {
     "data": {
      "text/plain": [
       "ATTORNEY      0\n",
       "CLMSEX       12\n",
       "CLMINSUR     41\n",
       "SEATBELT     48\n",
       "CLMAGE      189\n",
       "LOSS          0\n",
       "dtype: int64"
      ]
     },
     "execution_count": 17,
     "metadata": {},
     "output_type": "execute_result"
    }
   ],
   "source": [
    "claimants.isnull().sum()\n",
    "#claimants.shape # 1340 6 => Before dropping null values\n",
    "# To drop null values ( dropping rows)\n",
    "#claimants.dropna().shape # 1096 6 => After dropping null values "
   ]
  },
  {
   "cell_type": "code",
   "execution_count": 18,
   "metadata": {
    "ExecuteTime": {
     "end_time": "2021-01-15T03:05:11.476227Z",
     "start_time": "2021-01-15T03:05:11.466254Z"
    }
   },
   "outputs": [],
   "source": [
    "# Fill nan values with mode of the categorical column \n",
    "claimants[\"CLMSEX\"].fillna(1,inplace=True) # claimants.CLMSEX.mode() = 1\n",
    "claimants[\"CLMINSUR\"].fillna(1,inplace=True) # claimants.CLMINSUR.mode() = 1\n",
    "claimants[\"SEATBELT\"].fillna(0,inplace=True) # claimants.SEATBELT.mode() = 0 "
   ]
  },
  {
   "cell_type": "code",
   "execution_count": 19,
   "metadata": {
    "ExecuteTime": {
     "end_time": "2021-01-15T03:05:15.586887Z",
     "start_time": "2021-01-15T03:05:15.573921Z"
    }
   },
   "outputs": [
    {
     "data": {
      "text/plain": [
       "28.414422241529106"
      ]
     },
     "execution_count": 19,
     "metadata": {},
     "output_type": "execute_result"
    }
   ],
   "source": [
    "claimants.CLMSEX.mode()\n",
    "claimants.CLMINSUR.mode()\n",
    "claimants.SEATBELT.mode()\n",
    "claimants.CLMAGE.mean() "
   ]
  },
  {
   "cell_type": "code",
   "execution_count": 20,
   "metadata": {
    "ExecuteTime": {
     "end_time": "2021-01-15T03:05:17.871817Z",
     "start_time": "2021-01-15T03:05:17.863837Z"
    }
   },
   "outputs": [],
   "source": [
    "claimants.CLMAGE.fillna(28.4144,inplace=True) # claimants.CLMAGE.mean() = 28.4 "
   ]
  },
  {
   "cell_type": "code",
   "execution_count": 21,
   "metadata": {
    "ExecuteTime": {
     "end_time": "2021-01-15T03:05:23.486788Z",
     "start_time": "2021-01-15T03:05:23.475815Z"
    }
   },
   "outputs": [
    {
     "data": {
      "text/plain": [
       "ATTORNEY    0\n",
       "CLMSEX      0\n",
       "CLMINSUR    0\n",
       "SEATBELT    0\n",
       "CLMAGE      0\n",
       "LOSS        0\n",
       "dtype: int64"
      ]
     },
     "execution_count": 21,
     "metadata": {},
     "output_type": "execute_result"
    }
   ],
   "source": [
    "claimants.isnull().sum()  "
   ]
  },
  {
   "cell_type": "code",
   "execution_count": 22,
   "metadata": {
    "ExecuteTime": {
     "end_time": "2021-01-15T03:05:25.966472Z",
     "start_time": "2021-01-15T03:05:25.956496Z"
    }
   },
   "outputs": [
    {
     "data": {
      "text/plain": [
       "(1340, 6)"
      ]
     },
     "execution_count": 22,
     "metadata": {},
     "output_type": "execute_result"
    }
   ],
   "source": [
    "# Model building \n",
    "from sklearn.linear_model import LogisticRegression\n",
    "claimants.shape   "
   ]
  },
  {
   "cell_type": "code",
   "execution_count": 23,
   "metadata": {
    "ExecuteTime": {
     "end_time": "2021-01-15T03:05:30.460513Z",
     "start_time": "2021-01-15T03:05:30.032229Z"
    }
   },
   "outputs": [
    {
     "data": {
      "text/plain": [
       "LogisticRegression()"
      ]
     },
     "execution_count": 23,
     "metadata": {},
     "output_type": "execute_result"
    }
   ],
   "source": [
    "X = claimants.iloc[:,[1,2,3,4,5]]\n",
    "Y = claimants.iloc[:,0]\n",
    "classifier = LogisticRegression()\n",
    "classifier.fit(X,Y) "
   ]
  },
  {
   "cell_type": "code",
   "execution_count": 24,
   "metadata": {
    "ExecuteTime": {
     "end_time": "2021-01-15T03:05:32.509623Z",
     "start_time": "2021-01-15T03:05:32.501645Z"
    }
   },
   "outputs": [
    {
     "data": {
      "text/plain": [
       "array([[ 0.31711334,  0.5055713 , -0.52814335,  0.0066041 , -0.3224325 ]])"
      ]
     },
     "execution_count": 24,
     "metadata": {},
     "output_type": "execute_result"
    }
   ],
   "source": [
    "classifier.coef_  # coefficients of features   "
   ]
  },
  {
   "cell_type": "code",
   "execution_count": 25,
   "metadata": {
    "ExecuteTime": {
     "end_time": "2021-01-15T03:05:36.785775Z",
     "start_time": "2021-01-15T03:05:36.681614Z"
    }
   },
   "outputs": [
    {
     "data": {
      "text/plain": [
       "array([[9.99974075e-01, 2.59253820e-05],\n",
       "       [4.95386951e-01, 5.04613049e-01],\n",
       "       [4.25082812e-01, 5.74917188e-01],\n",
       "       ...,\n",
       "       [2.85349951e-01, 7.14650049e-01],\n",
       "       [6.86685509e-01, 3.13314491e-01],\n",
       "       [3.38781941e-01, 6.61218059e-01]])"
      ]
     },
     "execution_count": 25,
     "metadata": {},
     "output_type": "execute_result"
    }
   ],
   "source": [
    "classifier.predict_proba (X) # Probability values   "
   ]
  },
  {
   "cell_type": "code",
   "execution_count": 26,
   "metadata": {
    "ExecuteTime": {
     "end_time": "2021-01-15T03:05:39.248081Z",
     "start_time": "2021-01-15T03:05:39.203202Z"
    }
   },
   "outputs": [
    {
     "data": {
      "text/html": [
       "<div>\n",
       "<style scoped>\n",
       "    .dataframe tbody tr th:only-of-type {\n",
       "        vertical-align: middle;\n",
       "    }\n",
       "\n",
       "    .dataframe tbody tr th {\n",
       "        vertical-align: top;\n",
       "    }\n",
       "\n",
       "    .dataframe thead th {\n",
       "        text-align: right;\n",
       "    }\n",
       "</style>\n",
       "<table border=\"1\" class=\"dataframe\">\n",
       "  <thead>\n",
       "    <tr style=\"text-align: right;\">\n",
       "      <th></th>\n",
       "      <th>ATTORNEY</th>\n",
       "      <th>CLMSEX</th>\n",
       "      <th>CLMINSUR</th>\n",
       "      <th>SEATBELT</th>\n",
       "      <th>CLMAGE</th>\n",
       "      <th>LOSS</th>\n",
       "      <th>y_pred</th>\n",
       "    </tr>\n",
       "  </thead>\n",
       "  <tbody>\n",
       "    <tr>\n",
       "      <th>0</th>\n",
       "      <td>0</td>\n",
       "      <td>0.0</td>\n",
       "      <td>1.0</td>\n",
       "      <td>0.0</td>\n",
       "      <td>50.0000</td>\n",
       "      <td>34.940</td>\n",
       "      <td>0</td>\n",
       "    </tr>\n",
       "    <tr>\n",
       "      <th>1</th>\n",
       "      <td>1</td>\n",
       "      <td>1.0</td>\n",
       "      <td>0.0</td>\n",
       "      <td>0.0</td>\n",
       "      <td>18.0000</td>\n",
       "      <td>0.891</td>\n",
       "      <td>1</td>\n",
       "    </tr>\n",
       "    <tr>\n",
       "      <th>2</th>\n",
       "      <td>1</td>\n",
       "      <td>0.0</td>\n",
       "      <td>1.0</td>\n",
       "      <td>0.0</td>\n",
       "      <td>5.0000</td>\n",
       "      <td>0.330</td>\n",
       "      <td>1</td>\n",
       "    </tr>\n",
       "    <tr>\n",
       "      <th>3</th>\n",
       "      <td>0</td>\n",
       "      <td>0.0</td>\n",
       "      <td>1.0</td>\n",
       "      <td>1.0</td>\n",
       "      <td>31.0000</td>\n",
       "      <td>0.037</td>\n",
       "      <td>1</td>\n",
       "    </tr>\n",
       "    <tr>\n",
       "      <th>4</th>\n",
       "      <td>1</td>\n",
       "      <td>0.0</td>\n",
       "      <td>1.0</td>\n",
       "      <td>0.0</td>\n",
       "      <td>30.0000</td>\n",
       "      <td>0.038</td>\n",
       "      <td>1</td>\n",
       "    </tr>\n",
       "    <tr>\n",
       "      <th>...</th>\n",
       "      <td>...</td>\n",
       "      <td>...</td>\n",
       "      <td>...</td>\n",
       "      <td>...</td>\n",
       "      <td>...</td>\n",
       "      <td>...</td>\n",
       "      <td>...</td>\n",
       "    </tr>\n",
       "    <tr>\n",
       "      <th>1335</th>\n",
       "      <td>1</td>\n",
       "      <td>0.0</td>\n",
       "      <td>1.0</td>\n",
       "      <td>0.0</td>\n",
       "      <td>28.4144</td>\n",
       "      <td>0.576</td>\n",
       "      <td>1</td>\n",
       "    </tr>\n",
       "    <tr>\n",
       "      <th>1336</th>\n",
       "      <td>0</td>\n",
       "      <td>1.0</td>\n",
       "      <td>1.0</td>\n",
       "      <td>0.0</td>\n",
       "      <td>46.0000</td>\n",
       "      <td>3.705</td>\n",
       "      <td>0</td>\n",
       "    </tr>\n",
       "    <tr>\n",
       "      <th>1337</th>\n",
       "      <td>1</td>\n",
       "      <td>1.0</td>\n",
       "      <td>1.0</td>\n",
       "      <td>0.0</td>\n",
       "      <td>39.0000</td>\n",
       "      <td>0.099</td>\n",
       "      <td>1</td>\n",
       "    </tr>\n",
       "    <tr>\n",
       "      <th>1338</th>\n",
       "      <td>0</td>\n",
       "      <td>1.0</td>\n",
       "      <td>0.0</td>\n",
       "      <td>0.0</td>\n",
       "      <td>8.0000</td>\n",
       "      <td>3.177</td>\n",
       "      <td>0</td>\n",
       "    </tr>\n",
       "    <tr>\n",
       "      <th>1339</th>\n",
       "      <td>1</td>\n",
       "      <td>1.0</td>\n",
       "      <td>1.0</td>\n",
       "      <td>0.0</td>\n",
       "      <td>30.0000</td>\n",
       "      <td>0.688</td>\n",
       "      <td>1</td>\n",
       "    </tr>\n",
       "  </tbody>\n",
       "</table>\n",
       "<p>1340 rows × 7 columns</p>\n",
       "</div>"
      ],
      "text/plain": [
       "      ATTORNEY  CLMSEX  CLMINSUR  SEATBELT   CLMAGE    LOSS  y_pred\n",
       "0            0     0.0       1.0       0.0  50.0000  34.940       0\n",
       "1            1     1.0       0.0       0.0  18.0000   0.891       1\n",
       "2            1     0.0       1.0       0.0   5.0000   0.330       1\n",
       "3            0     0.0       1.0       1.0  31.0000   0.037       1\n",
       "4            1     0.0       1.0       0.0  30.0000   0.038       1\n",
       "...        ...     ...       ...       ...      ...     ...     ...\n",
       "1335         1     0.0       1.0       0.0  28.4144   0.576       1\n",
       "1336         0     1.0       1.0       0.0  46.0000   3.705       0\n",
       "1337         1     1.0       1.0       0.0  39.0000   0.099       1\n",
       "1338         0     1.0       0.0       0.0   8.0000   3.177       0\n",
       "1339         1     1.0       1.0       0.0  30.0000   0.688       1\n",
       "\n",
       "[1340 rows x 7 columns]"
      ]
     },
     "execution_count": 26,
     "metadata": {},
     "output_type": "execute_result"
    }
   ],
   "source": [
    "y_pred = classifier.predict(X)\n",
    "claimants[\"y_pred\"] = y_pred\n",
    "claimants   "
   ]
  },
  {
   "cell_type": "code",
   "execution_count": 27,
   "metadata": {
    "ExecuteTime": {
     "end_time": "2021-01-15T03:05:43.200412Z",
     "start_time": "2021-01-15T03:05:43.151545Z"
    }
   },
   "outputs": [
    {
     "data": {
      "text/html": [
       "<div>\n",
       "<style scoped>\n",
       "    .dataframe tbody tr th:only-of-type {\n",
       "        vertical-align: middle;\n",
       "    }\n",
       "\n",
       "    .dataframe tbody tr th {\n",
       "        vertical-align: top;\n",
       "    }\n",
       "\n",
       "    .dataframe thead th {\n",
       "        text-align: right;\n",
       "    }\n",
       "</style>\n",
       "<table border=\"1\" class=\"dataframe\">\n",
       "  <thead>\n",
       "    <tr style=\"text-align: right;\">\n",
       "      <th></th>\n",
       "      <th>ATTORNEY</th>\n",
       "      <th>CLMSEX</th>\n",
       "      <th>CLMINSUR</th>\n",
       "      <th>SEATBELT</th>\n",
       "      <th>CLMAGE</th>\n",
       "      <th>LOSS</th>\n",
       "      <th>y_pred</th>\n",
       "      <th>0</th>\n",
       "      <th>1</th>\n",
       "    </tr>\n",
       "  </thead>\n",
       "  <tbody>\n",
       "    <tr>\n",
       "      <th>0</th>\n",
       "      <td>0</td>\n",
       "      <td>0.0</td>\n",
       "      <td>1.0</td>\n",
       "      <td>0.0</td>\n",
       "      <td>50.0000</td>\n",
       "      <td>34.940</td>\n",
       "      <td>0</td>\n",
       "      <td>0.999974</td>\n",
       "      <td>0.000026</td>\n",
       "    </tr>\n",
       "    <tr>\n",
       "      <th>1</th>\n",
       "      <td>1</td>\n",
       "      <td>1.0</td>\n",
       "      <td>0.0</td>\n",
       "      <td>0.0</td>\n",
       "      <td>18.0000</td>\n",
       "      <td>0.891</td>\n",
       "      <td>1</td>\n",
       "      <td>0.495387</td>\n",
       "      <td>0.504613</td>\n",
       "    </tr>\n",
       "    <tr>\n",
       "      <th>2</th>\n",
       "      <td>1</td>\n",
       "      <td>0.0</td>\n",
       "      <td>1.0</td>\n",
       "      <td>0.0</td>\n",
       "      <td>5.0000</td>\n",
       "      <td>0.330</td>\n",
       "      <td>1</td>\n",
       "      <td>0.425083</td>\n",
       "      <td>0.574917</td>\n",
       "    </tr>\n",
       "    <tr>\n",
       "      <th>3</th>\n",
       "      <td>0</td>\n",
       "      <td>0.0</td>\n",
       "      <td>1.0</td>\n",
       "      <td>1.0</td>\n",
       "      <td>31.0000</td>\n",
       "      <td>0.037</td>\n",
       "      <td>1</td>\n",
       "      <td>0.490007</td>\n",
       "      <td>0.509993</td>\n",
       "    </tr>\n",
       "    <tr>\n",
       "      <th>4</th>\n",
       "      <td>1</td>\n",
       "      <td>0.0</td>\n",
       "      <td>1.0</td>\n",
       "      <td>0.0</td>\n",
       "      <td>30.0000</td>\n",
       "      <td>0.038</td>\n",
       "      <td>1</td>\n",
       "      <td>0.363271</td>\n",
       "      <td>0.636729</td>\n",
       "    </tr>\n",
       "    <tr>\n",
       "      <th>...</th>\n",
       "      <td>...</td>\n",
       "      <td>...</td>\n",
       "      <td>...</td>\n",
       "      <td>...</td>\n",
       "      <td>...</td>\n",
       "      <td>...</td>\n",
       "      <td>...</td>\n",
       "      <td>...</td>\n",
       "      <td>...</td>\n",
       "    </tr>\n",
       "    <tr>\n",
       "      <th>1335</th>\n",
       "      <td>1</td>\n",
       "      <td>0.0</td>\n",
       "      <td>1.0</td>\n",
       "      <td>0.0</td>\n",
       "      <td>28.4144</td>\n",
       "      <td>0.576</td>\n",
       "      <td>1</td>\n",
       "      <td>0.406789</td>\n",
       "      <td>0.593211</td>\n",
       "    </tr>\n",
       "    <tr>\n",
       "      <th>1336</th>\n",
       "      <td>0</td>\n",
       "      <td>1.0</td>\n",
       "      <td>1.0</td>\n",
       "      <td>0.0</td>\n",
       "      <td>46.0000</td>\n",
       "      <td>3.705</td>\n",
       "      <td>0</td>\n",
       "      <td>0.549435</td>\n",
       "      <td>0.450565</td>\n",
       "    </tr>\n",
       "    <tr>\n",
       "      <th>1337</th>\n",
       "      <td>1</td>\n",
       "      <td>1.0</td>\n",
       "      <td>1.0</td>\n",
       "      <td>0.0</td>\n",
       "      <td>39.0000</td>\n",
       "      <td>0.099</td>\n",
       "      <td>1</td>\n",
       "      <td>0.285350</td>\n",
       "      <td>0.714650</td>\n",
       "    </tr>\n",
       "    <tr>\n",
       "      <th>1338</th>\n",
       "      <td>0</td>\n",
       "      <td>1.0</td>\n",
       "      <td>0.0</td>\n",
       "      <td>0.0</td>\n",
       "      <td>8.0000</td>\n",
       "      <td>3.177</td>\n",
       "      <td>0</td>\n",
       "      <td>0.686686</td>\n",
       "      <td>0.313314</td>\n",
       "    </tr>\n",
       "    <tr>\n",
       "      <th>1339</th>\n",
       "      <td>1</td>\n",
       "      <td>1.0</td>\n",
       "      <td>1.0</td>\n",
       "      <td>0.0</td>\n",
       "      <td>30.0000</td>\n",
       "      <td>0.688</td>\n",
       "      <td>1</td>\n",
       "      <td>0.338782</td>\n",
       "      <td>0.661218</td>\n",
       "    </tr>\n",
       "  </tbody>\n",
       "</table>\n",
       "<p>1340 rows × 9 columns</p>\n",
       "</div>"
      ],
      "text/plain": [
       "      ATTORNEY  CLMSEX  CLMINSUR  SEATBELT   CLMAGE    LOSS  y_pred         0  \\\n",
       "0            0     0.0       1.0       0.0  50.0000  34.940       0  0.999974   \n",
       "1            1     1.0       0.0       0.0  18.0000   0.891       1  0.495387   \n",
       "2            1     0.0       1.0       0.0   5.0000   0.330       1  0.425083   \n",
       "3            0     0.0       1.0       1.0  31.0000   0.037       1  0.490007   \n",
       "4            1     0.0       1.0       0.0  30.0000   0.038       1  0.363271   \n",
       "...        ...     ...       ...       ...      ...     ...     ...       ...   \n",
       "1335         1     0.0       1.0       0.0  28.4144   0.576       1  0.406789   \n",
       "1336         0     1.0       1.0       0.0  46.0000   3.705       0  0.549435   \n",
       "1337         1     1.0       1.0       0.0  39.0000   0.099       1  0.285350   \n",
       "1338         0     1.0       0.0       0.0   8.0000   3.177       0  0.686686   \n",
       "1339         1     1.0       1.0       0.0  30.0000   0.688       1  0.338782   \n",
       "\n",
       "             1  \n",
       "0     0.000026  \n",
       "1     0.504613  \n",
       "2     0.574917  \n",
       "3     0.509993  \n",
       "4     0.636729  \n",
       "...        ...  \n",
       "1335  0.593211  \n",
       "1336  0.450565  \n",
       "1337  0.714650  \n",
       "1338  0.313314  \n",
       "1339  0.661218  \n",
       "\n",
       "[1340 rows x 9 columns]"
      ]
     },
     "execution_count": 27,
     "metadata": {},
     "output_type": "execute_result"
    }
   ],
   "source": [
    "y_prob = pd.DataFrame(classifier.predict_proba(X.iloc[:,:]))\n",
    "new_df = pd.concat([claimants,y_prob],axis=1)\n",
    "new_df  "
   ]
  },
  {
   "cell_type": "code",
   "execution_count": 28,
   "metadata": {
    "ExecuteTime": {
     "end_time": "2021-01-15T03:05:47.216274Z",
     "start_time": "2021-01-15T03:05:47.201318Z"
    }
   },
   "outputs": [
    {
     "name": "stdout",
     "output_type": "stream",
     "text": [
      "[[435 250]\n",
      " [147 508]]\n"
     ]
    }
   ],
   "source": [
    "from sklearn.metrics import confusion_matrix\n",
    "confusion_matrix = confusion_matrix(Y,y_pred)\n",
    "print (confusion_matrix) \n"
   ]
  },
  {
   "cell_type": "code",
   "execution_count": 39,
   "metadata": {
    "ExecuteTime": {
     "end_time": "2021-01-15T03:05:50.006757Z",
     "start_time": "2021-01-15T03:05:49.967858Z"
    }
   },
   "outputs": [
    {
     "data": {
      "text/html": [
       "<div>\n",
       "<style scoped>\n",
       "    .dataframe tbody tr th:only-of-type {\n",
       "        vertical-align: middle;\n",
       "    }\n",
       "\n",
       "    .dataframe tbody tr th {\n",
       "        vertical-align: top;\n",
       "    }\n",
       "\n",
       "    .dataframe thead th {\n",
       "        text-align: right;\n",
       "    }\n",
       "</style>\n",
       "<table border=\"1\" class=\"dataframe\">\n",
       "  <thead>\n",
       "    <tr style=\"text-align: right;\">\n",
       "      <th>col_0</th>\n",
       "      <th>0</th>\n",
       "      <th>1</th>\n",
       "    </tr>\n",
       "    <tr>\n",
       "      <th>ATTORNEY</th>\n",
       "      <th></th>\n",
       "      <th></th>\n",
       "    </tr>\n",
       "  </thead>\n",
       "  <tbody>\n",
       "    <tr>\n",
       "      <th>0</th>\n",
       "      <td>435</td>\n",
       "      <td>250</td>\n",
       "    </tr>\n",
       "    <tr>\n",
       "      <th>1</th>\n",
       "      <td>147</td>\n",
       "      <td>508</td>\n",
       "    </tr>\n",
       "  </tbody>\n",
       "</table>\n",
       "</div>"
      ],
      "text/plain": [
       "col_0       0    1\n",
       "ATTORNEY          \n",
       "0         435  250\n",
       "1         147  508"
      ]
     },
     "execution_count": 39,
     "metadata": {},
     "output_type": "execute_result"
    }
   ],
   "source": [
    "pd.crosstab(Y,y_pred)  "
   ]
  },
  {
   "cell_type": "code",
   "execution_count": 30,
   "metadata": {
    "ExecuteTime": {
     "end_time": "2021-01-15T03:05:54.021795Z",
     "start_time": "2021-01-15T03:05:54.011787Z"
    }
   },
   "outputs": [
    {
     "data": {
      "text/plain": [
       "0.7037313432835821"
      ]
     },
     "execution_count": 30,
     "metadata": {},
     "output_type": "execute_result"
    }
   ],
   "source": [
    "#type(y_pred)\n",
    "accuracy = sum(Y==y_pred)/claimants.shape[0]\n",
    "accuracy "
   ]
  },
  {
   "cell_type": "code",
   "execution_count": 31,
   "metadata": {
    "ExecuteTime": {
     "end_time": "2021-01-15T03:05:56.258569Z",
     "start_time": "2021-01-15T03:05:56.240579Z"
    }
   },
   "outputs": [
    {
     "name": "stdout",
     "output_type": "stream",
     "text": [
      "              precision    recall  f1-score   support\n",
      "\n",
      "           0       0.75      0.64      0.69       685\n",
      "           1       0.67      0.78      0.72       655\n",
      "\n",
      "    accuracy                           0.70      1340\n",
      "   macro avg       0.71      0.71      0.70      1340\n",
      "weighted avg       0.71      0.70      0.70      1340\n",
      "\n"
     ]
    }
   ],
   "source": [
    "from sklearn.metrics import classification_report \n",
    "print (classification_report (Y, y_pred))  "
   ]
  },
  {
   "cell_type": "code",
   "execution_count": 32,
   "metadata": {
    "ExecuteTime": {
     "end_time": "2021-01-15T03:06:00.180584Z",
     "start_time": "2021-01-15T03:06:00.165626Z"
    }
   },
   "outputs": [
    {
     "data": {
      "text/plain": [
       "0.7053045077171672"
      ]
     },
     "execution_count": 32,
     "metadata": {},
     "output_type": "execute_result"
    }
   ],
   "source": [
    "from sklearn.metrics import roc_auc_score\n",
    "from sklearn.metrics import roc_curve\n",
    "Logit_roc_score=roc_auc_score(Y,classifier.predict(X))\n",
    "Logit_roc_score  "
   ]
  },
  {
   "cell_type": "code",
   "execution_count": 33,
   "metadata": {
    "ExecuteTime": {
     "end_time": "2021-01-15T03:06:04.488051Z",
     "start_time": "2021-01-15T03:06:04.200247Z"
    }
   },
   "outputs": [
    {
     "data": {
      "image/png": "[encoded data removed]",
      "text/plain": [
       "<Figure size 432x288 with 1 Axes>"
      ]
     },
     "metadata": {
      "needs_background": "light"
     },
     "output_type": "display_data"
    }
   ],
   "source": [
    "fpr, tpr, thresholds = roc_curve(Y,classifier.predict_proba(X)[:,1]) \n",
    "plt.plot(fpr, tpr, label='Logistic Regression (area=%0.2f)'% Logit_roc_score)\n",
    "plt.plot([0, 1], [0, 1],'r--')\n",
    "plt.xlim([0.0, 1.0])\n",
    "plt.ylim([0.0, 1.05])\n",
    "plt.xlabel('False Positive Rate')\n",
    "plt.ylabel('True Positive Rate')\n",
    "plt.title('Receiver operating characteristic')\n",
    "plt.legend(loc=\"lower right\")\n",
    "plt.show()   "
   ]
  },
  {
   "cell_type": "code",
   "execution_count": 34,
   "metadata": {
    "ExecuteTime": {
     "end_time": "2020-12-04T16:55:51.010261Z",
     "start_time": "2020-12-04T16:55:51.002283Z"
    }
   },
   "outputs": [],
   "source": [
    "y_prob1 = pd.DataFrame(classifier.predict_proba(X)[:,1]) "
   ]
  },
  {
   "cell_type": "code",
   "execution_count": 35,
   "metadata": {
    "ExecuteTime": {
     "end_time": "2020-12-04T16:55:53.384215Z",
     "start_time": "2020-12-04T16:55:53.368258Z"
    }
   },
   "outputs": [
    {
     "data": {
      "text/html": [
       "<div>\n",
       "<style scoped>\n",
       "    .dataframe tbody tr th:only-of-type {\n",
       "        vertical-align: middle;\n",
       "    }\n",
       "\n",
       "    .dataframe tbody tr th {\n",
       "        vertical-align: top;\n",
       "    }\n",
       "\n",
       "    .dataframe thead th {\n",
       "        text-align: right;\n",
       "    }\n",
       "</style>\n",
       "<table border=\"1\" class=\"dataframe\">\n",
       "  <thead>\n",
       "    <tr style=\"text-align: right;\">\n",
       "      <th></th>\n",
       "      <th>0</th>\n",
       "    </tr>\n",
       "  </thead>\n",
       "  <tbody>\n",
       "    <tr>\n",
       "      <th>0</th>\n",
       "      <td>0.000026</td>\n",
       "    </tr>\n",
       "    <tr>\n",
       "      <th>1</th>\n",
       "      <td>0.504613</td>\n",
       "    </tr>\n",
       "    <tr>\n",
       "      <th>2</th>\n",
       "      <td>0.574917</td>\n",
       "    </tr>\n",
       "    <tr>\n",
       "      <th>3</th>\n",
       "      <td>0.509993</td>\n",
       "    </tr>\n",
       "    <tr>\n",
       "      <th>4</th>\n",
       "      <td>0.636729</td>\n",
       "    </tr>\n",
       "    <tr>\n",
       "      <th>...</th>\n",
       "      <td>...</td>\n",
       "    </tr>\n",
       "    <tr>\n",
       "      <th>1335</th>\n",
       "      <td>0.593211</td>\n",
       "    </tr>\n",
       "    <tr>\n",
       "      <th>1336</th>\n",
       "      <td>0.450565</td>\n",
       "    </tr>\n",
       "    <tr>\n",
       "      <th>1337</th>\n",
       "      <td>0.714650</td>\n",
       "    </tr>\n",
       "    <tr>\n",
       "      <th>1338</th>\n",
       "      <td>0.313314</td>\n",
       "    </tr>\n",
       "    <tr>\n",
       "      <th>1339</th>\n",
       "      <td>0.661218</td>\n",
       "    </tr>\n",
       "  </tbody>\n",
       "</table>\n",
       "<p>1340 rows × 1 columns</p>\n",
       "</div>"
      ],
      "text/plain": [
       "             0\n",
       "0     0.000026\n",
       "1     0.504613\n",
       "2     0.574917\n",
       "3     0.509993\n",
       "4     0.636729\n",
       "...        ...\n",
       "1335  0.593211\n",
       "1336  0.450565\n",
       "1337  0.714650\n",
       "1338  0.313314\n",
       "1339  0.661218\n",
       "\n",
       "[1340 rows x 1 columns]"
      ]
     },
     "execution_count": 35,
     "metadata": {},
     "output_type": "execute_result"
    }
   ],
   "source": [
    "y_prob1 "
   ]
  },
  {
   "cell_type": "code",
   "execution_count": 36,
   "metadata": {
    "ExecuteTime": {
     "end_time": "2021-01-15T03:07:53.715096Z",
     "start_time": "2021-01-15T03:07:44.758098Z"
    }
   },
   "outputs": [],
   "source": [
    "import statsmodels.api as sm   "
   ]
  },
  {
   "cell_type": "code",
   "execution_count": 37,
   "metadata": {
    "ExecuteTime": {
     "end_time": "2021-01-15T03:07:56.482917Z",
     "start_time": "2021-01-15T03:07:56.346383Z"
    }
   },
   "outputs": [],
   "source": [
    "logit = sm.Logit(Y, X)   "
   ]
  },
  {
   "cell_type": "code",
   "execution_count": 38,
   "metadata": {
    "ExecuteTime": {
     "end_time": "2021-01-15T03:07:58.961390Z",
     "start_time": "2021-01-15T03:07:58.601441Z"
    }
   },
   "outputs": [
    {
     "name": "stdout",
     "output_type": "stream",
     "text": [
      "Optimization terminated successfully.\n",
      "         Current function value: 0.609294\n",
      "         Iterations 7\n"
     ]
    },
    {
     "data": {
      "text/html": [
       "<table class=\"simpletable\">\n",
       "<caption>Logit Regression Results</caption>\n",
       "<tr>\n",
       "  <th>Dep. Variable:</th>       <td>ATTORNEY</td>     <th>  No. Observations:  </th>  <td>  1340</td>  \n",
       "</tr>\n",
       "<tr>\n",
       "  <th>Model:</th>                 <td>Logit</td>      <th>  Df Residuals:      </th>  <td>  1335</td>  \n",
       "</tr>\n",
       "<tr>\n",
       "  <th>Method:</th>                 <td>MLE</td>       <th>  Df Model:          </th>  <td>     4</td>  \n",
       "</tr>\n",
       "<tr>\n",
       "  <th>Date:</th>            <td>Fri, 12 Feb 2021</td> <th>  Pseudo R-squ.:     </th>  <td>0.1207</td>  \n",
       "</tr>\n",
       "<tr>\n",
       "  <th>Time:</th>                <td>15:43:49</td>     <th>  Log-Likelihood:    </th> <td> -816.45</td> \n",
       "</tr>\n",
       "<tr>\n",
       "  <th>converged:</th>             <td>True</td>       <th>  LL-Null:           </th> <td> -928.48</td> \n",
       "</tr>\n",
       "<tr>\n",
       "  <th>Covariance Type:</th>     <td>nonrobust</td>    <th>  LLR p-value:       </th> <td>2.515e-47</td>\n",
       "</tr>\n",
       "</table>\n",
       "<table class=\"simpletable\">\n",
       "<tr>\n",
       "      <td></td>        <th>coef</th>     <th>std err</th>      <th>z</th>      <th>P>|z|</th>  <th>[0.025</th>    <th>0.975]</th>  \n",
       "</tr>\n",
       "<tr>\n",
       "  <th>CLMSEX</th>   <td>    0.3005</td> <td>    0.116</td> <td>    2.591</td> <td> 0.010</td> <td>    0.073</td> <td>    0.528</td>\n",
       "</tr>\n",
       "<tr>\n",
       "  <th>CLMINSUR</th> <td>    0.4167</td> <td>    0.124</td> <td>    3.364</td> <td> 0.001</td> <td>    0.174</td> <td>    0.660</td>\n",
       "</tr>\n",
       "<tr>\n",
       "  <th>SEATBELT</th> <td>   -0.6828</td> <td>    0.522</td> <td>   -1.308</td> <td> 0.191</td> <td>   -1.706</td> <td>    0.341</td>\n",
       "</tr>\n",
       "<tr>\n",
       "  <th>CLMAGE</th>   <td>    0.0059</td> <td>    0.003</td> <td>    1.951</td> <td> 0.051</td> <td>-2.58e-05</td> <td>    0.012</td>\n",
       "</tr>\n",
       "<tr>\n",
       "  <th>LOSS</th>     <td>   -0.3262</td> <td>    0.029</td> <td>  -11.234</td> <td> 0.000</td> <td>   -0.383</td> <td>   -0.269</td>\n",
       "</tr>\n",
       "</table>"
      ],
      "text/plain": [
       "<class 'statsmodels.iolib.summary.Summary'>\n",
       "\"\"\"\n",
       "                           Logit Regression Results                           \n",
       "==============================================================================\n",
       "Dep. Variable:               ATTORNEY   No. Observations:                 1340\n",
       "Model:                          Logit   Df Residuals:                     1335\n",
       "Method:                           MLE   Df Model:                            4\n",
       "Date:                Fri, 12 Feb 2021   Pseudo R-squ.:                  0.1207\n",
       "Time:                        15:43:49   Log-Likelihood:                -816.45\n",
       "converged:                       True   LL-Null:                       -928.48\n",
       "Covariance Type:            nonrobust   LLR p-value:                 2.515e-47\n",
       "==============================================================================\n",
       "                 coef    std err          z      P>|z|      [0.025      0.975]\n",
       "------------------------------------------------------------------------------\n",
       "CLMSEX         0.3005      0.116      2.591      0.010       0.073       0.528\n",
       "CLMINSUR       0.4167      0.124      3.364      0.001       0.174       0.660\n",
       "SEATBELT      -0.6828      0.522     -1.308      0.191      -1.706       0.341\n",
       "CLMAGE         0.0059      0.003      1.951      0.051   -2.58e-05       0.012\n",
       "LOSS          -0.3262      0.029    -11.234      0.000      -0.383      -0.269\n",
       "==============================================================================\n",
       "\"\"\""
      ]
     },
     "execution_count": 38,
     "metadata": {},
     "output_type": "execute_result"
    }
   ],
   "source": [
    "logit.fit().summary()  "
   ]
  },
  {
   "cell_type": "code",
   "execution_count": 36,
   "metadata": {
    "ExecuteTime": {
     "end_time": "2020-12-04T16:59:14.971480Z",
     "start_time": "2020-12-04T16:59:14.954528Z"
    }
   },
   "outputs": [
    {
     "data": {
      "text/plain": [
       "array([0.        , 0.        , 0.        , 0.00145985, 0.00145985,\n",
       "       0.00291971, 0.00291971, 0.00437956, 0.00437956, 0.00583942,\n",
       "       0.00583942, 0.00729927, 0.00729927, 0.00875912, 0.00875912,\n",
       "       0.01021898, 0.01021898, 0.01167883, 0.01167883, 0.01313869,\n",
       "       0.01313869, 0.01459854, 0.01459854, 0.01605839, 0.01605839,\n",
       "       0.01605839, 0.01605839, 0.01605839, 0.01605839, 0.01751825,\n",
       "       0.01751825, 0.01751825, 0.01751825, 0.0189781 , 0.0189781 ,\n",
       "       0.02043796, 0.02043796, 0.02189781, 0.02189781, 0.02627737,\n",
       "       0.02627737, 0.02919708, 0.02919708, 0.03065693, 0.03065693,\n",
       "       0.03357664, 0.03357664, 0.0350365 , 0.0350365 , 0.03649635,\n",
       "       0.03649635, 0.0379562 , 0.0379562 , 0.03941606, 0.03941606,\n",
       "       0.04087591, 0.04087591, 0.04379562, 0.04379562, 0.04525547,\n",
       "       0.04525547, 0.04671533, 0.04671533, 0.04817518, 0.04817518,\n",
       "       0.04963504, 0.04963504, 0.0540146 , 0.0540146 , 0.0540146 ,\n",
       "       0.0540146 , 0.05547445, 0.05839416, 0.05839416, 0.05985401,\n",
       "       0.05985401, 0.06277372, 0.06277372, 0.06277372, 0.06277372,\n",
       "       0.06423358, 0.06423358, 0.06715328, 0.06715328, 0.07007299,\n",
       "       0.07007299, 0.07153285, 0.07153285, 0.07445255, 0.07445255,\n",
       "       0.07737226, 0.07737226, 0.08029197, 0.08029197, 0.08175182,\n",
       "       0.08175182, 0.08759124, 0.09051095, 0.09051095, 0.0919708 ,\n",
       "       0.0919708 , 0.09343066, 0.09343066, 0.09489051, 0.09489051,\n",
       "       0.09635036, 0.09635036, 0.09927007, 0.09927007, 0.10218978,\n",
       "       0.10218978, 0.10656934, 0.10656934, 0.1080292 , 0.1080292 ,\n",
       "       0.1080292 , 0.1080292 , 0.10948905, 0.10948905, 0.11094891,\n",
       "       0.11094891, 0.11240876, 0.11240876, 0.11386861, 0.11386861,\n",
       "       0.11532847, 0.11532847, 0.11824818, 0.11824818, 0.12116788,\n",
       "       0.12116788, 0.12262774, 0.12262774, 0.12408759, 0.12408759,\n",
       "       0.12554745, 0.12554745, 0.1270073 , 0.1270073 , 0.12992701,\n",
       "       0.12992701, 0.13138686, 0.13138686, 0.13284672, 0.13284672,\n",
       "       0.13430657, 0.13430657, 0.13576642, 0.13576642, 0.14014599,\n",
       "       0.14014599, 0.1459854 , 0.1459854 , 0.1459854 , 0.15036496,\n",
       "       0.15036496, 0.15182482, 0.15182482, 0.15328467, 0.15328467,\n",
       "       0.15620438, 0.15620438, 0.15620438, 0.16058394, 0.16058394,\n",
       "       0.1620438 , 0.1620438 , 0.16350365, 0.16350365, 0.1649635 ,\n",
       "       0.1649635 , 0.16642336, 0.16642336, 0.16934307, 0.16934307,\n",
       "       0.17080292, 0.17080292, 0.17226277, 0.17226277, 0.17518248,\n",
       "       0.17518248, 0.17664234, 0.17664234, 0.17810219, 0.17810219,\n",
       "       0.1810219 , 0.1810219 , 0.18394161, 0.18394161, 0.18540146,\n",
       "       0.18540146, 0.18832117, 0.18832117, 0.18978102, 0.18978102,\n",
       "       0.18978102, 0.18978102, 0.19124088, 0.19124088, 0.19270073,\n",
       "       0.19270073, 0.19416058, 0.19416058, 0.19562044, 0.19562044,\n",
       "       0.19708029, 0.19708029, 0.2       , 0.2       , 0.20145985,\n",
       "       0.20145985, 0.20437956, 0.20437956, 0.20583942, 0.20583942,\n",
       "       0.20875912, 0.20875912, 0.21167883, 0.21167883, 0.21605839,\n",
       "       0.21605839, 0.21751825, 0.21751825, 0.2189781 , 0.2189781 ,\n",
       "       0.22189781, 0.22189781, 0.23065693, 0.23065693, 0.23357664,\n",
       "       0.23357664, 0.2379562 , 0.2379562 , 0.24087591, 0.24087591,\n",
       "       0.24233577, 0.24233577, 0.24379562, 0.24379562, 0.24525547,\n",
       "       0.24525547, 0.24817518, 0.24817518, 0.25109489, 0.25109489,\n",
       "       0.25693431, 0.25693431, 0.26131387, 0.26131387, 0.26277372,\n",
       "       0.26277372, 0.26861314, 0.26861314, 0.26861314, 0.27007299,\n",
       "       0.27445255, 0.27445255, 0.27591241, 0.27591241, 0.27737226,\n",
       "       0.27737226, 0.27883212, 0.27883212, 0.28467153, 0.28467153,\n",
       "       0.28905109, 0.28905109, 0.28905109, 0.2919708 , 0.2919708 ,\n",
       "       0.29489051, 0.29489051, 0.29489051, 0.29781022, 0.29781022,\n",
       "       0.29927007, 0.29927007, 0.30218978, 0.30510949, 0.30510949,\n",
       "       0.30656934, 0.30656934, 0.30948905, 0.30948905, 0.31094891,\n",
       "       0.31094891, 0.31240876, 0.31240876, 0.31386861, 0.31386861,\n",
       "       0.31532847, 0.31532847, 0.31678832, 0.31678832, 0.31824818,\n",
       "       0.31824818, 0.32116788, 0.32116788, 0.32554745, 0.32554745,\n",
       "       0.3270073 , 0.3270073 , 0.32992701, 0.32992701, 0.33138686,\n",
       "       0.33138686, 0.33284672, 0.33284672, 0.33868613, 0.33868613,\n",
       "       0.34744526, 0.34744526, 0.35912409, 0.35912409, 0.36058394,\n",
       "       0.36058394, 0.3620438 , 0.3620438 , 0.3649635 , 0.3649635 ,\n",
       "       0.36642336, 0.36642336, 0.36934307, 0.36934307, 0.37372263,\n",
       "       0.37372263, 0.37518248, 0.37518248, 0.37956204, 0.3810219 ,\n",
       "       0.39124088, 0.39124088, 0.39708029, 0.39708029, 0.40145985,\n",
       "       0.40145985, 0.40291971, 0.40291971, 0.40437956, 0.40437956,\n",
       "       0.40583942, 0.40583942, 0.40729927, 0.40729927, 0.40875912,\n",
       "       0.40875912, 0.41021898, 0.41021898, 0.41167883, 0.41167883,\n",
       "       0.41313869, 0.41313869, 0.41459854, 0.41459854, 0.41605839,\n",
       "       0.41605839, 0.4189781 , 0.4189781 , 0.42189781, 0.42189781,\n",
       "       0.42919708, 0.42919708, 0.43649635, 0.43649635, 0.44233577,\n",
       "       0.44233577, 0.44379562, 0.44379562, 0.45109489, 0.45109489,\n",
       "       0.4540146 , 0.4540146 , 0.46131387, 0.46131387, 0.46423358,\n",
       "       0.46423358, 0.46715328, 0.47007299, 0.47007299, 0.47445255,\n",
       "       0.47445255, 0.48029197, 0.48029197, 0.49343066, 0.49343066,\n",
       "       0.49781022, 0.49781022, 0.49927007, 0.49927007, 0.50656934,\n",
       "       0.50656934, 0.5080292 , 0.5080292 , 0.50948905, 0.50948905,\n",
       "       0.51678832, 0.51678832, 0.52262774, 0.52262774, 0.52408759,\n",
       "       0.52408759, 0.53576642, 0.53576642, 0.54160584, 0.54306569,\n",
       "       0.5459854 , 0.5459854 , 0.54744526, 0.54744526, 0.55036496,\n",
       "       0.55036496, 0.55182482, 0.55182482, 0.55328467, 0.55328467,\n",
       "       0.55620438, 0.55620438, 0.56058394, 0.56058394, 0.56642336,\n",
       "       0.56642336, 0.57226277, 0.57226277, 0.57372263, 0.57372263,\n",
       "       0.57518248, 0.57518248, 0.57956204, 0.57956204, 0.57956204,\n",
       "       0.58248175, 0.58248175, 0.58394161, 0.58394161, 0.60145985,\n",
       "       0.60145985, 0.61459854, 0.61459854, 0.61751825, 0.61751825,\n",
       "       0.62043796, 0.62043796, 0.62189781, 0.62189781, 0.62481752,\n",
       "       0.62481752, 0.62919708, 0.62919708, 0.63211679, 0.63211679,\n",
       "       0.63357664, 0.63357664, 0.6350365 , 0.6350365 , 0.64087591,\n",
       "       0.64087591, 0.66277372, 0.66277372, 0.66861314, 0.66861314,\n",
       "       0.67445255, 0.67445255, 0.68467153, 0.68467153, 0.71386861,\n",
       "       0.71386861, 0.71678832, 0.71678832, 0.72262774, 0.72262774,\n",
       "       0.7270073 , 0.72992701, 0.73284672, 0.73284672, 0.73430657,\n",
       "       0.73430657, 0.73868613, 0.73868613, 0.74452555, 0.74452555,\n",
       "       0.75036496, 0.75036496, 0.76350365, 0.76350365, 0.7649635 ,\n",
       "       0.7649635 , 0.77080292, 0.77080292, 0.77664234, 0.77664234,\n",
       "       0.79124088, 0.79124088, 0.79270073, 0.79270073, 0.79562044,\n",
       "       0.79562044, 0.80145985, 0.80145985, 0.81313869, 0.81313869,\n",
       "       0.82335766, 0.82335766, 0.82627737, 0.82627737, 0.83649635,\n",
       "       0.83649635, 0.84379562, 0.84379562, 0.84963504, 0.84963504,\n",
       "       0.85109489, 0.85109489, 0.85985401, 0.85985401, 0.86715328,\n",
       "       0.86715328, 0.87153285, 0.87445255, 0.87737226, 0.87737226,\n",
       "       0.88905109, 0.88905109, 0.8919708 , 0.8919708 , 0.89343066,\n",
       "       0.89343066, 0.90510949, 0.90510949, 0.91240876, 0.91240876,\n",
       "       0.91678832, 0.91678832, 0.92116788, 0.92116788, 0.93138686,\n",
       "       0.93138686, 0.99270073, 0.99270073, 1.        ])"
      ]
     },
     "execution_count": 36,
     "metadata": {},
     "output_type": "execute_result"
    }
   ],
   "source": [
    "fpr "
   ]
  },
  {
   "cell_type": "code",
   "execution_count": 37,
   "metadata": {
    "ExecuteTime": {
     "end_time": "2020-12-04T16:59:17.139221Z",
     "start_time": "2020-12-04T16:59:17.123264Z"
    }
   },
   "outputs": [
    {
     "data": {
      "text/plain": [
       "array([0.        , 0.00152672, 0.00305344, 0.00305344, 0.00763359,\n",
       "       0.00763359, 0.01984733, 0.01984733, 0.02442748, 0.02442748,\n",
       "       0.02900763, 0.02900763, 0.03053435, 0.03053435, 0.03206107,\n",
       "       0.03206107, 0.03664122, 0.03664122, 0.04732824, 0.04732824,\n",
       "       0.06412214, 0.06412214, 0.06564885, 0.06564885, 0.06870229,\n",
       "       0.07480916, 0.0870229 , 0.09007634, 0.09312977, 0.09312977,\n",
       "       0.09618321, 0.10076336, 0.10992366, 0.10992366, 0.11603053,\n",
       "       0.11603053, 0.12671756, 0.12671756, 0.12824427, 0.12824427,\n",
       "       0.12977099, 0.12977099, 0.14503817, 0.14503817, 0.15267176,\n",
       "       0.15267176, 0.15572519, 0.15572519, 0.16030534, 0.16030534,\n",
       "       0.16183206, 0.16335878, 0.17709924, 0.17709924, 0.18473282,\n",
       "       0.18473282, 0.18625954, 0.18625954, 0.19083969, 0.19083969,\n",
       "       0.20458015, 0.20458015, 0.20763359, 0.20916031, 0.21068702,\n",
       "       0.21068702, 0.21679389, 0.21679389, 0.22748092, 0.23358779,\n",
       "       0.23816794, 0.23816794, 0.23816794, 0.24122137, 0.24122137,\n",
       "       0.24427481, 0.24427481, 0.24580153, 0.24885496, 0.25038168,\n",
       "       0.25038168, 0.25343511, 0.25343511, 0.27022901, 0.27022901,\n",
       "       0.27175573, 0.27175573, 0.27633588, 0.27633588, 0.28091603,\n",
       "       0.28091603, 0.28244275, 0.28244275, 0.29160305, 0.29160305,\n",
       "       0.29465649, 0.29465649, 0.29465649, 0.30076336, 0.30076336,\n",
       "       0.30381679, 0.30381679, 0.30534351, 0.30534351, 0.30687023,\n",
       "       0.30687023, 0.30992366, 0.30992366, 0.31145038, 0.31145038,\n",
       "       0.31755725, 0.31755725, 0.32977099, 0.33129771, 0.35267176,\n",
       "       0.35572519, 0.36335878, 0.36335878, 0.37251908, 0.37251908,\n",
       "       0.37557252, 0.37557252, 0.38167939, 0.38320611, 0.38625954,\n",
       "       0.38625954, 0.39389313, 0.39389313, 0.39541985, 0.39541985,\n",
       "       0.4       , 0.4       , 0.40305344, 0.40305344, 0.40458015,\n",
       "       0.40458015, 0.41221374, 0.41221374, 0.41984733, 0.42137405,\n",
       "       0.42290076, 0.42290076, 0.4259542 , 0.42900763, 0.43053435,\n",
       "       0.43053435, 0.43358779, 0.43358779, 0.43816794, 0.43816794,\n",
       "       0.45343511, 0.45343511, 0.45648855, 0.45954198, 0.45954198,\n",
       "       0.4610687 , 0.4610687 , 0.46870229, 0.46870229, 0.47328244,\n",
       "       0.47328244, 0.47480916, 0.47938931, 0.47938931, 0.48244275,\n",
       "       0.48244275, 0.4870229 , 0.4870229 , 0.49160305, 0.49160305,\n",
       "       0.49618321, 0.49618321, 0.50229008, 0.50229008, 0.50687023,\n",
       "       0.50687023, 0.5129771 , 0.5129771 , 0.51603053, 0.51603053,\n",
       "       0.52061069, 0.52061069, 0.52366412, 0.52366412, 0.52519084,\n",
       "       0.52519084, 0.52977099, 0.52977099, 0.53282443, 0.53282443,\n",
       "       0.54045802, 0.54045802, 0.54351145, 0.54351145, 0.54503817,\n",
       "       0.5480916 , 0.54961832, 0.54961832, 0.56793893, 0.56793893,\n",
       "       0.56946565, 0.56946565, 0.57862595, 0.57862595, 0.58320611,\n",
       "       0.58320611, 0.58473282, 0.58473282, 0.58931298, 0.58931298,\n",
       "       0.59083969, 0.59083969, 0.59236641, 0.59236641, 0.59847328,\n",
       "       0.59847328, 0.60152672, 0.60152672, 0.60305344, 0.60305344,\n",
       "       0.60458015, 0.60458015, 0.60763359, 0.60763359, 0.61068702,\n",
       "       0.61068702, 0.61221374, 0.61221374, 0.61984733, 0.61984733,\n",
       "       0.63053435, 0.63053435, 0.63358779, 0.63358779, 0.63816794,\n",
       "       0.63816794, 0.63969466, 0.63969466, 0.64122137, 0.64122137,\n",
       "       0.64274809, 0.64274809, 0.65038168, 0.65038168, 0.65954198,\n",
       "       0.65954198, 0.6610687 , 0.6610687 , 0.66412214, 0.66412214,\n",
       "       0.66564885, 0.66564885, 0.66870229, 0.67022901, 0.67175573,\n",
       "       0.67175573, 0.67480916, 0.67480916, 0.67938931, 0.67938931,\n",
       "       0.6870229 , 0.6870229 , 0.69312977, 0.69312977, 0.69618321,\n",
       "       0.69618321, 0.69923664, 0.70229008, 0.70229008, 0.70381679,\n",
       "       0.70381679, 0.70687023, 0.71145038, 0.71145038, 0.71603053,\n",
       "       0.71603053, 0.71755725, 0.71755725, 0.71755725, 0.71908397,\n",
       "       0.71908397, 0.72519084, 0.72519084, 0.72824427, 0.72824427,\n",
       "       0.72977099, 0.72977099, 0.73587786, 0.73587786, 0.7389313 ,\n",
       "       0.7389313 , 0.74198473, 0.74198473, 0.74351145, 0.74351145,\n",
       "       0.74656489, 0.74656489, 0.74961832, 0.74961832, 0.75114504,\n",
       "       0.75114504, 0.75572519, 0.75572519, 0.75725191, 0.75725191,\n",
       "       0.76030534, 0.76030534, 0.76335878, 0.76335878, 0.76641221,\n",
       "       0.76641221, 0.76793893, 0.76793893, 0.76946565, 0.76946565,\n",
       "       0.7740458 , 0.7740458 , 0.77557252, 0.77557252, 0.77709924,\n",
       "       0.77709924, 0.77862595, 0.77862595, 0.78015267, 0.78015267,\n",
       "       0.78167939, 0.78167939, 0.78320611, 0.78320611, 0.78473282,\n",
       "       0.78473282, 0.78778626, 0.78778626, 0.78931298, 0.78931298,\n",
       "       0.79083969, 0.79083969, 0.79236641, 0.79236641, 0.79847328,\n",
       "       0.79847328, 0.8       , 0.8       , 0.80305344, 0.80305344,\n",
       "       0.80458015, 0.80458015, 0.80916031, 0.80916031, 0.81068702,\n",
       "       0.81068702, 0.81221374, 0.81221374, 0.81374046, 0.81374046,\n",
       "       0.81526718, 0.81526718, 0.81679389, 0.81679389, 0.81832061,\n",
       "       0.81832061, 0.81984733, 0.81984733, 0.82137405, 0.82137405,\n",
       "       0.82290076, 0.82290076, 0.82442748, 0.82442748, 0.82748092,\n",
       "       0.82748092, 0.83053435, 0.83053435, 0.83206107, 0.83206107,\n",
       "       0.83358779, 0.83358779, 0.83358779, 0.83969466, 0.83969466,\n",
       "       0.84274809, 0.84274809, 0.84580153, 0.84580153, 0.84732824,\n",
       "       0.84732824, 0.85038168, 0.85038168, 0.8519084 , 0.8519084 ,\n",
       "       0.85343511, 0.85343511, 0.85496183, 0.85496183, 0.8610687 ,\n",
       "       0.8610687 , 0.86259542, 0.86259542, 0.86412214, 0.86412214,\n",
       "       0.86717557, 0.86717557, 0.86870229, 0.86870229, 0.87022901,\n",
       "       0.87022901, 0.87328244, 0.87328244, 0.87480916, 0.87480916,\n",
       "       0.8778626 , 0.8778626 , 0.87938931, 0.87938931, 0.88091603,\n",
       "       0.88091603, 0.88244275, 0.88244275, 0.88396947, 0.88396947,\n",
       "       0.88549618, 0.88549618, 0.88854962, 0.88854962, 0.89007634,\n",
       "       0.89007634, 0.89160305, 0.89160305, 0.89312977, 0.89618321,\n",
       "       0.89618321, 0.89770992, 0.89770992, 0.89923664, 0.89923664,\n",
       "       0.90381679, 0.90381679, 0.90534351, 0.90534351, 0.90687023,\n",
       "       0.90687023, 0.90839695, 0.90839695, 0.90992366, 0.90992366,\n",
       "       0.91145038, 0.91145038, 0.9129771 , 0.9129771 , 0.91603053,\n",
       "       0.91603053, 0.91908397, 0.91908397, 0.92061069, 0.92061069,\n",
       "       0.9221374 , 0.9221374 , 0.92366412, 0.92366412, 0.92519084,\n",
       "       0.92519084, 0.92671756, 0.92671756, 0.92824427, 0.92824427,\n",
       "       0.93129771, 0.93129771, 0.93435115, 0.93435115, 0.93587786,\n",
       "       0.93587786, 0.93587786, 0.93587786, 0.93740458, 0.93740458,\n",
       "       0.9389313 , 0.9389313 , 0.94045802, 0.94045802, 0.94351145,\n",
       "       0.94351145, 0.94656489, 0.94656489, 0.94961832, 0.94961832,\n",
       "       0.95267176, 0.95267176, 0.95419847, 0.95419847, 0.95572519,\n",
       "       0.95572519, 0.95725191, 0.95725191, 0.95877863, 0.95877863,\n",
       "       0.96183206, 0.96183206, 0.96335878, 0.96335878, 0.9648855 ,\n",
       "       0.9648855 , 0.96641221, 0.96641221, 0.96793893, 0.96793893,\n",
       "       0.97099237, 0.97099237, 0.97251908, 0.97251908, 0.9740458 ,\n",
       "       0.9740458 , 0.97557252, 0.97557252, 0.97709924, 0.97709924,\n",
       "       0.97862595, 0.97862595, 0.97862595, 0.97862595, 0.98167939,\n",
       "       0.98167939, 0.98320611, 0.98320611, 0.98625954, 0.98625954,\n",
       "       0.98778626, 0.98778626, 0.99083969, 0.99083969, 0.99236641,\n",
       "       0.99236641, 0.99389313, 0.99389313, 0.99694656, 0.99694656,\n",
       "       0.99847328, 0.99847328, 1.        , 1.        ])"
      ]
     },
     "execution_count": 37,
     "metadata": {},
     "output_type": "execute_result"
    }
   ],
   "source": [
    "tpr  "
   ]
  },
  {
   "cell_type": "code",
   "execution_count": null,
   "metadata": {},
   "outputs": [],
   "source": []
  }
 ],
 "metadata": {
  "kernelspec": {
   "display_name": "Python 3",
   "language": "python",
   "name": "python3"
  },
  "language_info": {
   "codemirror_mode": {
    "name": "ipython",
    "version": 3
   },
   "file_extension": ".py",
   "mimetype": "text/x-python",
   "name": "python",
   "nbconvert_exporter": "python",
   "pygments_lexer": "ipython3",
   "version": "3.8.5"
  },
  "varInspector": {
   "cols": {
    "lenName": 16,
    "lenType": 16,
    "lenVar": 40
   },
   "kernels_config": {
    "python": {
     "delete_cmd_postfix": "",
     "delete_cmd_prefix": "del ",
     "library": "var_list.py",
     "varRefreshCmd": "print(var_dic_list())"
    },
    "r": {
     "delete_cmd_postfix": ") ",
     "delete_cmd_prefix": "rm(",
     "library": "var_list.r",
     "varRefreshCmd": "cat(var_dic_list()) "
    }
   },
   "types_to_exclude": [
    "module",
    "function",
    "builtin_function_or_method",
    "instance",
    "_Feature"
   ],
   "window_display": false
  }
 },
 "nbformat": 4,
 "nbformat_minor": 2
}
